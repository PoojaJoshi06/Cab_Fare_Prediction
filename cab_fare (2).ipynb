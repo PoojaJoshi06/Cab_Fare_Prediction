{
 "cells": [
  {
   "cell_type": "code",
   "execution_count": 1,
   "metadata": {
    "collapsed": false
   },
   "outputs": [],
   "source": [
    "#Cab Fare Prediction:-\n",
    "#### Problem Statement​ -\n",
    "#You are a cab rental start-up company. You have successfully run the pilot project and now want to launch your cab service across the country. You have collected thehistorical data from your pilot project and now have a requirement to apply analytics forfare prediction. You need to design a system that predicts the fare amount for a cab ride in the city."
   ]
  },
  {
   "cell_type": "code",
   "execution_count": 0,
   "metadata": {
    "collapsed": false
   },
   "outputs": [],
   "source": []
  },
  {
   "cell_type": "code",
   "execution_count": 3,
   "metadata": {
    "collapsed": false
   },
   "outputs": [],
   "source": [
    "#loading the required libraries\n",
    "import os\n",
    "import pandas as pd\n",
    "import numpy as np\n",
    "import matplotlib.pyplot as plt\n",
    "import seaborn as sns\n",
    "import scipy.stats as stats\n",
    "import warnings\n",
    "warnings.filterwarnings('ignore')\n",
    "from geopy.distance import geodesic\n",
    "from geopy.distance import great_circle\n",
    "from scipy.stats import chi2_contingency\n",
    "import statsmodels.api as sm\n",
    "from statsmodels.formula.api import ols\n",
    "from patsy import dmatrices\n",
    "from statsmodels.stats.outliers_influence import variance_inflation_factor\n",
    "from sklearn.model_selection import train_test_split\n",
    "from sklearn.metrics import mean_squared_error\n",
    "from sklearn import metrics\n",
    "from sklearn.linear_model import LinearRegression,Ridge,Lasso\n",
    "from sklearn.model_selection import GridSearchCV\n",
    "from sklearn.model_selection import RandomizedSearchCV\n",
    "from sklearn.model_selection import cross_val_score\n",
    "from sklearn.ensemble import RandomForestRegressor\n",
    "from sklearn.tree import DecisionTreeRegressor\n",
    "\n"
   ]
  },
  {
   "cell_type": "code",
   "execution_count": 0,
   "metadata": {
    "collapsed": false
   },
   "outputs": [],
   "source": []
  },
  {
   "cell_type": "code",
   "execution_count": 0,
   "metadata": {
    "collapsed": false
   },
   "outputs": [],
   "source": []
  },
  {
   "cell_type": "code",
   "execution_count": 3,
   "metadata": {
    "collapsed": false
   },
   "outputs": [],
   "source": [
    "#The details of data attributes in the dataset are as follows:\n",
    "#-  pickup_datetime - timestamp value indicating when the cab ride started.\n",
    "#-  pickup_longitude - float for longitude coordinate of where the cab ride started.\n",
    "#-  pickup_latitude - float for latitude coordinate of where the cab ride started.\n",
    "#-  dropoff_longitude - float for longitude coordinate of where the cab ride ended.\n",
    "#-  dropoff_latitude - float for latitude coordinate of where the cab ride ended.\n",
    "#-  passenger_count - an integer indicating the number of passengers in the cab ride."
   ]
  },
  {
   "cell_type": "code",
   "execution_count": 4,
   "metadata": {
    "collapsed": false
   },
   "outputs": [],
   "source": [
    "#predictive modeling machine learning project can be broken down into below workflow: \n",
    "#1. Prepare Problem \n",
    "#a) Load libraries b) Load dataset \n",
    "#2. Summarize Data a) Descriptive statistics b) Data visualizations \n",
    "#3. Prepare Data a) Data Cleaning b) Feature Selection c) Data Transforms \n",
    "#4. Evaluate Algorithms a) Split-out validation dataset b) Test options and evaluation metric c) Spot Check Algorithms d) Compare Algorithms \n",
    "#5. Improve Accuracy a) Algorithm Tuning b) Ensembles \n",
    "#6. Finalize Model a) Predictions on validation dataset b) Create standalone model on entire training dataset c) Save model for later use"
   ]
  },
  {
   "cell_type": "code",
   "execution_count": 4,
   "metadata": {
    "collapsed": false
   },
   "outputs": [],
   "source": [
    "#import the data\n",
    "train = pd.read_csv('train_cab.csv',dtype={'fare_amount':np.float64},na_values={'fare_amount':'430-'})\n",
    "test = pd.read_csv('test.csv')\n",
    "data=[train,test]\n",
    "for i in data:\n",
    "    i['pickup_datetime']  = pd.to_datetime(i['pickup_datetime'],errors='coerce')"
   ]
  },
  {
   "cell_type": "code",
   "execution_count": 6,
   "metadata": {
    "collapsed": false
   },
   "outputs": [
    {
     "data": {
      "text/html": [
       "<div>\n",
       "<style scoped>\n",
       "    .dataframe tbody tr th:only-of-type {\n",
       "        vertical-align: middle;\n",
       "    }\n",
       "\n",
       "    .dataframe tbody tr th {\n",
       "        vertical-align: top;\n",
       "    }\n",
       "\n",
       "    .dataframe thead th {\n",
       "        text-align: right;\n",
       "    }\n",
       "</style>\n",
       "<table border=\"1\" class=\"dataframe\">\n",
       "  <thead>\n",
       "    <tr style=\"text-align: right;\">\n",
       "      <th></th>\n",
       "      <th>fare_amount</th>\n",
       "      <th>pickup_datetime</th>\n",
       "      <th>pickup_longitude</th>\n",
       "      <th>pickup_latitude</th>\n",
       "      <th>dropoff_longitude</th>\n",
       "      <th>dropoff_latitude</th>\n",
       "      <th>passenger_count</th>\n",
       "    </tr>\n",
       "  </thead>\n",
       "  <tbody>\n",
       "    <tr>\n",
       "      <th>0</th>\n",
       "      <td>4.5</td>\n",
       "      <td>2009-06-15 17:26:21+00:00</td>\n",
       "      <td>-73.844311</td>\n",
       "      <td>40.721319</td>\n",
       "      <td>-73.841610</td>\n",
       "      <td>40.712278</td>\n",
       "      <td>1.0</td>\n",
       "    </tr>\n",
       "    <tr>\n",
       "      <th>1</th>\n",
       "      <td>16.9</td>\n",
       "      <td>2010-01-05 16:52:16+00:00</td>\n",
       "      <td>-74.016048</td>\n",
       "      <td>40.711303</td>\n",
       "      <td>-73.979268</td>\n",
       "      <td>40.782004</td>\n",
       "      <td>1.0</td>\n",
       "    </tr>\n",
       "    <tr>\n",
       "      <th>2</th>\n",
       "      <td>5.7</td>\n",
       "      <td>2011-08-18 00:35:00+00:00</td>\n",
       "      <td>-73.982738</td>\n",
       "      <td>40.761270</td>\n",
       "      <td>-73.991242</td>\n",
       "      <td>40.750562</td>\n",
       "      <td>2.0</td>\n",
       "    </tr>\n",
       "    <tr>\n",
       "      <th>3</th>\n",
       "      <td>7.7</td>\n",
       "      <td>2012-04-21 04:30:42+00:00</td>\n",
       "      <td>-73.987130</td>\n",
       "      <td>40.733143</td>\n",
       "      <td>-73.991567</td>\n",
       "      <td>40.758092</td>\n",
       "      <td>1.0</td>\n",
       "    </tr>\n",
       "    <tr>\n",
       "      <th>4</th>\n",
       "      <td>5.3</td>\n",
       "      <td>2010-03-09 07:51:00+00:00</td>\n",
       "      <td>-73.968095</td>\n",
       "      <td>40.768008</td>\n",
       "      <td>-73.956655</td>\n",
       "      <td>40.783762</td>\n",
       "      <td>1.0</td>\n",
       "    </tr>\n",
       "  </tbody>\n",
       "</table>\n",
       "</div>"
      ],
      "text/plain": [
       "   fare_amount           pickup_datetime  pickup_longitude  pickup_latitude  \\\n",
       "0          4.5 2009-06-15 17:26:21+00:00        -73.844311        40.721319   \n",
       "1         16.9 2010-01-05 16:52:16+00:00        -74.016048        40.711303   \n",
       "2          5.7 2011-08-18 00:35:00+00:00        -73.982738        40.761270   \n",
       "3          7.7 2012-04-21 04:30:42+00:00        -73.987130        40.733143   \n",
       "4          5.3 2010-03-09 07:51:00+00:00        -73.968095        40.768008   \n",
       "\n",
       "   dropoff_longitude  dropoff_latitude  passenger_count  \n",
       "0         -73.841610         40.712278              1.0  \n",
       "1         -73.979268         40.782004              1.0  \n",
       "2         -73.991242         40.750562              2.0  \n",
       "3         -73.991567         40.758092              1.0  \n",
       "4         -73.956655         40.783762              1.0  "
      ]
     },
     "execution_count": 6,
     "metadata": {},
     "output_type": "execute_result"
    }
   ],
   "source": [
    "train.head()"
   ]
  },
  {
   "cell_type": "code",
   "execution_count": 7,
   "metadata": {
    "collapsed": false
   },
   "outputs": [
    {
     "data": {
      "text/html": [
       "<div>\n",
       "<style scoped>\n",
       "    .dataframe tbody tr th:only-of-type {\n",
       "        vertical-align: middle;\n",
       "    }\n",
       "\n",
       "    .dataframe tbody tr th {\n",
       "        vertical-align: top;\n",
       "    }\n",
       "\n",
       "    .dataframe thead th {\n",
       "        text-align: right;\n",
       "    }\n",
       "</style>\n",
       "<table border=\"1\" class=\"dataframe\">\n",
       "  <thead>\n",
       "    <tr style=\"text-align: right;\">\n",
       "      <th></th>\n",
       "      <th>fare_amount</th>\n",
       "      <th>pickup_datetime</th>\n",
       "      <th>pickup_longitude</th>\n",
       "      <th>pickup_latitude</th>\n",
       "      <th>dropoff_longitude</th>\n",
       "      <th>dropoff_latitude</th>\n",
       "      <th>passenger_count</th>\n",
       "    </tr>\n",
       "  </thead>\n",
       "  <tbody>\n",
       "    <tr>\n",
       "      <th>16062</th>\n",
       "      <td>6.5</td>\n",
       "      <td>2014-12-12 07:41:00+00:00</td>\n",
       "      <td>-74.008820</td>\n",
       "      <td>40.718757</td>\n",
       "      <td>-73.998865</td>\n",
       "      <td>40.719987</td>\n",
       "      <td>1.0</td>\n",
       "    </tr>\n",
       "    <tr>\n",
       "      <th>16063</th>\n",
       "      <td>16.1</td>\n",
       "      <td>2009-07-13 07:58:00+00:00</td>\n",
       "      <td>-73.981310</td>\n",
       "      <td>40.781695</td>\n",
       "      <td>-74.014392</td>\n",
       "      <td>40.715527</td>\n",
       "      <td>2.0</td>\n",
       "    </tr>\n",
       "    <tr>\n",
       "      <th>16064</th>\n",
       "      <td>8.5</td>\n",
       "      <td>2009-11-11 11:19:07+00:00</td>\n",
       "      <td>-73.972507</td>\n",
       "      <td>40.753417</td>\n",
       "      <td>-73.979577</td>\n",
       "      <td>40.765495</td>\n",
       "      <td>1.0</td>\n",
       "    </tr>\n",
       "    <tr>\n",
       "      <th>16065</th>\n",
       "      <td>8.1</td>\n",
       "      <td>2010-05-11 23:53:00+00:00</td>\n",
       "      <td>-73.957027</td>\n",
       "      <td>40.765945</td>\n",
       "      <td>-73.981983</td>\n",
       "      <td>40.779560</td>\n",
       "      <td>1.0</td>\n",
       "    </tr>\n",
       "    <tr>\n",
       "      <th>16066</th>\n",
       "      <td>8.5</td>\n",
       "      <td>2011-12-14 06:24:33+00:00</td>\n",
       "      <td>-74.002111</td>\n",
       "      <td>40.729755</td>\n",
       "      <td>-73.983877</td>\n",
       "      <td>40.761975</td>\n",
       "      <td>NaN</td>\n",
       "    </tr>\n",
       "  </tbody>\n",
       "</table>\n",
       "</div>"
      ],
      "text/plain": [
       "       fare_amount           pickup_datetime  pickup_longitude  \\\n",
       "16062          6.5 2014-12-12 07:41:00+00:00        -74.008820   \n",
       "16063         16.1 2009-07-13 07:58:00+00:00        -73.981310   \n",
       "16064          8.5 2009-11-11 11:19:07+00:00        -73.972507   \n",
       "16065          8.1 2010-05-11 23:53:00+00:00        -73.957027   \n",
       "16066          8.5 2011-12-14 06:24:33+00:00        -74.002111   \n",
       "\n",
       "       pickup_latitude  dropoff_longitude  dropoff_latitude  passenger_count  \n",
       "16062        40.718757         -73.998865         40.719987              1.0  \n",
       "16063        40.781695         -74.014392         40.715527              2.0  \n",
       "16064        40.753417         -73.979577         40.765495              1.0  \n",
       "16065        40.765945         -73.981983         40.779560              1.0  \n",
       "16066        40.729755         -73.983877         40.761975              NaN  "
      ]
     },
     "execution_count": 7,
     "metadata": {},
     "output_type": "execute_result"
    }
   ],
   "source": [
    "train.tail()"
   ]
  },
  {
   "cell_type": "code",
   "execution_count": 8,
   "metadata": {
    "collapsed": false
   },
   "outputs": [
    {
     "name": "stdout",
     "output_type": "stream",
     "text": [
      "<class 'pandas.core.frame.DataFrame'>\n",
      "RangeIndex: 16067 entries, 0 to 16066\n",
      "Data columns (total 7 columns):\n",
      "fare_amount          16042 non-null float64\n",
      "pickup_datetime      16066 non-null datetime64[ns, UTC]\n",
      "pickup_longitude     16067 non-null float64\n",
      "pickup_latitude      16067 non-null float64\n",
      "dropoff_longitude    16067 non-null float64\n",
      "dropoff_latitude     16067 non-null float64\n",
      "passenger_count      16012 non-null float64\n",
      "dtypes: datetime64[ns, UTC](1), float64(6)\n",
      "memory usage: 878.7 KB\n"
     ]
    }
   ],
   "source": [
    "train.info()"
   ]
  },
  {
   "cell_type": "code",
   "execution_count": 9,
   "metadata": {
    "collapsed": false
   },
   "outputs": [
    {
     "data": {
      "text/html": [
       "<div>\n",
       "<style scoped>\n",
       "    .dataframe tbody tr th:only-of-type {\n",
       "        vertical-align: middle;\n",
       "    }\n",
       "\n",
       "    .dataframe tbody tr th {\n",
       "        vertical-align: top;\n",
       "    }\n",
       "\n",
       "    .dataframe thead th {\n",
       "        text-align: right;\n",
       "    }\n",
       "</style>\n",
       "<table border=\"1\" class=\"dataframe\">\n",
       "  <thead>\n",
       "    <tr style=\"text-align: right;\">\n",
       "      <th></th>\n",
       "      <th>fare_amount</th>\n",
       "      <th>pickup_longitude</th>\n",
       "      <th>pickup_latitude</th>\n",
       "      <th>dropoff_longitude</th>\n",
       "      <th>dropoff_latitude</th>\n",
       "      <th>passenger_count</th>\n",
       "    </tr>\n",
       "  </thead>\n",
       "  <tbody>\n",
       "    <tr>\n",
       "      <th>count</th>\n",
       "      <td>16042.000000</td>\n",
       "      <td>16067.000000</td>\n",
       "      <td>16067.000000</td>\n",
       "      <td>16067.000000</td>\n",
       "      <td>16067.000000</td>\n",
       "      <td>16012.000000</td>\n",
       "    </tr>\n",
       "    <tr>\n",
       "      <th>mean</th>\n",
       "      <td>15.015004</td>\n",
       "      <td>-72.462787</td>\n",
       "      <td>39.914725</td>\n",
       "      <td>-72.462328</td>\n",
       "      <td>39.897906</td>\n",
       "      <td>2.625070</td>\n",
       "    </tr>\n",
       "    <tr>\n",
       "      <th>std</th>\n",
       "      <td>430.460945</td>\n",
       "      <td>10.578384</td>\n",
       "      <td>6.826587</td>\n",
       "      <td>10.575062</td>\n",
       "      <td>6.187087</td>\n",
       "      <td>60.844122</td>\n",
       "    </tr>\n",
       "    <tr>\n",
       "      <th>min</th>\n",
       "      <td>-3.000000</td>\n",
       "      <td>-74.438233</td>\n",
       "      <td>-74.006893</td>\n",
       "      <td>-74.429332</td>\n",
       "      <td>-74.006377</td>\n",
       "      <td>0.000000</td>\n",
       "    </tr>\n",
       "    <tr>\n",
       "      <th>25%</th>\n",
       "      <td>6.000000</td>\n",
       "      <td>-73.992156</td>\n",
       "      <td>40.734927</td>\n",
       "      <td>-73.991182</td>\n",
       "      <td>40.734651</td>\n",
       "      <td>1.000000</td>\n",
       "    </tr>\n",
       "    <tr>\n",
       "      <th>50%</th>\n",
       "      <td>8.500000</td>\n",
       "      <td>-73.981698</td>\n",
       "      <td>40.752603</td>\n",
       "      <td>-73.980172</td>\n",
       "      <td>40.753567</td>\n",
       "      <td>1.000000</td>\n",
       "    </tr>\n",
       "    <tr>\n",
       "      <th>75%</th>\n",
       "      <td>12.500000</td>\n",
       "      <td>-73.966838</td>\n",
       "      <td>40.767381</td>\n",
       "      <td>-73.963643</td>\n",
       "      <td>40.768013</td>\n",
       "      <td>2.000000</td>\n",
       "    </tr>\n",
       "    <tr>\n",
       "      <th>max</th>\n",
       "      <td>54343.000000</td>\n",
       "      <td>40.766125</td>\n",
       "      <td>401.083332</td>\n",
       "      <td>40.802437</td>\n",
       "      <td>41.366138</td>\n",
       "      <td>5345.000000</td>\n",
       "    </tr>\n",
       "  </tbody>\n",
       "</table>\n",
       "</div>"
      ],
      "text/plain": [
       "        fare_amount  pickup_longitude  pickup_latitude  dropoff_longitude  \\\n",
       "count  16042.000000      16067.000000     16067.000000       16067.000000   \n",
       "mean      15.015004        -72.462787        39.914725         -72.462328   \n",
       "std      430.460945         10.578384         6.826587          10.575062   \n",
       "min       -3.000000        -74.438233       -74.006893         -74.429332   \n",
       "25%        6.000000        -73.992156        40.734927         -73.991182   \n",
       "50%        8.500000        -73.981698        40.752603         -73.980172   \n",
       "75%       12.500000        -73.966838        40.767381         -73.963643   \n",
       "max    54343.000000         40.766125       401.083332          40.802437   \n",
       "\n",
       "       dropoff_latitude  passenger_count  \n",
       "count      16067.000000     16012.000000  \n",
       "mean          39.897906         2.625070  \n",
       "std            6.187087        60.844122  \n",
       "min          -74.006377         0.000000  \n",
       "25%           40.734651         1.000000  \n",
       "50%           40.753567         1.000000  \n",
       "75%           40.768013         2.000000  \n",
       "max           41.366138      5345.000000  "
      ]
     },
     "execution_count": 9,
     "metadata": {},
     "output_type": "execute_result"
    }
   ],
   "source": [
    "train.describe()"
   ]
  },
  {
   "cell_type": "code",
   "execution_count": 10,
   "metadata": {
    "collapsed": false
   },
   "outputs": [
    {
     "data": {
      "text/plain": [
       "(16067, 7)"
      ]
     },
     "execution_count": 10,
     "metadata": {},
     "output_type": "execute_result"
    }
   ],
   "source": [
    "train.shape"
   ]
  },
  {
   "cell_type": "code",
   "execution_count": 11,
   "metadata": {
    "collapsed": false
   },
   "outputs": [
    {
     "data": {
      "text/plain": [
       "fare_amount            467\n",
       "pickup_datetime      16020\n",
       "pickup_longitude     13789\n",
       "pickup_latitude      14241\n",
       "dropoff_longitude    13887\n",
       "dropoff_latitude     14263\n",
       "passenger_count         27\n",
       "dtype: int64"
      ]
     },
     "execution_count": 11,
     "metadata": {},
     "output_type": "execute_result"
    }
   ],
   "source": [
    "train.nunique()"
   ]
  },
  {
   "cell_type": "code",
   "execution_count": 12,
   "metadata": {
    "collapsed": false
   },
   "outputs": [],
   "source": [
    "## EDA\n",
    "#-  we will convert passenger_count into a categorical variable because passenger_count is not a continuous variable.\n",
    "#-  passenger_count cannot take continous values. and also they are limited in number if its a cab."
   ]
  },
  {
   "cell_type": "code",
   "execution_count": 5,
   "metadata": {
    "collapsed": false
   },
   "outputs": [],
   "source": [
    "cat_var=['passenger_count']\n",
    "num_var=['pickup_longitude','pickup_latitude','dropoff_longitude','dropoff_latitude','fare_amount']"
   ]
  },
  {
   "cell_type": "code",
   "execution_count": 14,
   "metadata": {
    "collapsed": false
   },
   "outputs": [],
   "source": [
    "#Missing Value Analayis"
   ]
  },
  {
   "cell_type": "code",
   "execution_count": 6,
   "metadata": {
    "collapsed": false
   },
   "outputs": [
    {
     "data": {
      "text/plain": [
       "fare_amount          25\n",
       "pickup_datetime       1\n",
       "pickup_longitude      0\n",
       "pickup_latitude       0\n",
       "dropoff_longitude     0\n",
       "dropoff_latitude      0\n",
       "passenger_count      55\n",
       "dtype: int64"
      ]
     },
     "execution_count": 6,
     "metadata": {},
     "output_type": "execute_result"
    }
   ],
   "source": [
    "train.isnull().sum()"
   ]
  },
  {
   "cell_type": "code",
   "execution_count": 16,
   "metadata": {
    "collapsed": false
   },
   "outputs": [],
   "source": [
    "missing_val=pd.DataFrame(train.isnull().sum())"
   ]
  },
  {
   "cell_type": "code",
   "execution_count": 17,
   "metadata": {
    "collapsed": false
   },
   "outputs": [],
   "source": [
    "missing_val=missing_val.reset_index()"
   ]
  },
  {
   "cell_type": "code",
   "execution_count": 18,
   "metadata": {
    "collapsed": false
   },
   "outputs": [],
   "source": [
    "missing_val=missing_val.rename(columns={'index':'Variables',0:'Missing_percentage'})"
   ]
  },
  {
   "cell_type": "code",
   "execution_count": 19,
   "metadata": {
    "collapsed": false
   },
   "outputs": [],
   "source": [
    "missing_val['Missing_percentage']=(missing_val['Missing_percentage']/len(train))*100"
   ]
  },
  {
   "cell_type": "code",
   "execution_count": 20,
   "metadata": {
    "collapsed": false
   },
   "outputs": [
    {
     "data": {
      "text/html": [
       "<div>\n",
       "<style scoped>\n",
       "    .dataframe tbody tr th:only-of-type {\n",
       "        vertical-align: middle;\n",
       "    }\n",
       "\n",
       "    .dataframe tbody tr th {\n",
       "        vertical-align: top;\n",
       "    }\n",
       "\n",
       "    .dataframe thead th {\n",
       "        text-align: right;\n",
       "    }\n",
       "</style>\n",
       "<table border=\"1\" class=\"dataframe\">\n",
       "  <thead>\n",
       "    <tr style=\"text-align: right;\">\n",
       "      <th></th>\n",
       "      <th>Variables</th>\n",
       "      <th>Missing_percentage</th>\n",
       "    </tr>\n",
       "  </thead>\n",
       "  <tbody>\n",
       "    <tr>\n",
       "      <th>0</th>\n",
       "      <td>passenger_count</td>\n",
       "      <td>0.342317</td>\n",
       "    </tr>\n",
       "    <tr>\n",
       "      <th>1</th>\n",
       "      <td>fare_amount</td>\n",
       "      <td>0.155598</td>\n",
       "    </tr>\n",
       "    <tr>\n",
       "      <th>2</th>\n",
       "      <td>pickup_datetime</td>\n",
       "      <td>0.006224</td>\n",
       "    </tr>\n",
       "    <tr>\n",
       "      <th>3</th>\n",
       "      <td>pickup_longitude</td>\n",
       "      <td>0.000000</td>\n",
       "    </tr>\n",
       "    <tr>\n",
       "      <th>4</th>\n",
       "      <td>pickup_latitude</td>\n",
       "      <td>0.000000</td>\n",
       "    </tr>\n",
       "    <tr>\n",
       "      <th>5</th>\n",
       "      <td>dropoff_longitude</td>\n",
       "      <td>0.000000</td>\n",
       "    </tr>\n",
       "    <tr>\n",
       "      <th>6</th>\n",
       "      <td>dropoff_latitude</td>\n",
       "      <td>0.000000</td>\n",
       "    </tr>\n",
       "  </tbody>\n",
       "</table>\n",
       "</div>"
      ],
      "text/plain": [
       "           Variables  Missing_percentage\n",
       "0    passenger_count            0.342317\n",
       "1        fare_amount            0.155598\n",
       "2    pickup_datetime            0.006224\n",
       "3   pickup_longitude            0.000000\n",
       "4    pickup_latitude            0.000000\n",
       "5  dropoff_longitude            0.000000\n",
       "6   dropoff_latitude            0.000000"
      ]
     },
     "execution_count": 20,
     "metadata": {},
     "output_type": "execute_result"
    }
   ],
   "source": [
    "missing_val = missing_val.sort_values('Missing_percentage', ascending = False).reset_index(drop = True)\n",
    "missing_val"
   ]
  },
  {
   "cell_type": "code",
   "execution_count": 7,
   "metadata": {
    "collapsed": false
   },
   "outputs": [],
   "source": [
    "# Missing values are less than 1% so we can delete NA values from our dataset\n",
    "train=train.dropna()"
   ]
  },
  {
   "cell_type": "code",
   "execution_count": 22,
   "metadata": {
    "collapsed": false
   },
   "outputs": [],
   "source": [
    "#Graphical EDA - Data Visualization"
   ]
  },
  {
   "cell_type": "code",
   "execution_count": 23,
   "metadata": {
    "collapsed": false
   },
   "outputs": [],
   "source": [
    "#Data Visualization categorical columns:-"
   ]
  },
  {
   "cell_type": "code",
   "execution_count": 24,
   "metadata": {
    "collapsed": false
   },
   "outputs": [
    {
     "data": {
      "text/plain": [
       "<matplotlib.axes._subplots.AxesSubplot at 0x7f7439999b70>"
      ]
     },
     "execution_count": 24,
     "metadata": {},
     "output_type": "execute_result"
    },
    {
     "data": {
      "image/png": "[encoded data removed]",
      "text/plain": [
       "<Figure size 432x288 with 1 Axes>"
      ]
     },
     "execution_count": 24,
     "metadata": {
      "image/png": {
       "height": 289.0,
       "width": 390.0
      }
     },
     "output_type": "execute_result"
    }
   ],
   "source": [
    "train['passenger_count'].value_counts().plot.bar(title='Freq dist of passenger_count')"
   ]
  },
  {
   "cell_type": "code",
   "execution_count": 25,
   "metadata": {
    "collapsed": false
   },
   "outputs": [],
   "source": [
    "#Data Visualization (univariate distribution) of the numerical columns"
   ]
  },
  {
   "cell_type": "code",
   "execution_count": 26,
   "metadata": {
    "collapsed": false
   },
   "outputs": [
    {
     "data": {
      "image/png": "[encoded data removed]",
      "text/plain": [
       "<Figure size 1152x864 with 5 Axes>"
      ]
     },
     "execution_count": 26,
     "metadata": {
      "image/png": {
       "height": 708.0,
       "width": 962.0
      }
     },
     "output_type": "execute_result"
    }
   ],
   "source": [
    "fig, ax = plt.subplots(len(num_var), figsize=(16,12))\n",
    "\n",
    "for i, col_val in enumerate(num_var):\n",
    "    \n",
    "\n",
    "    sns.distplot(train[col_val], hist=True, ax=ax[i])\n",
    "    ax[i].set_title('Freq dist '+col_val, fontsize=10)\n",
    "    ax[i].set_xlabel(col_val, fontsize=8)\n",
    "    ax[i].set_ylabel('Count', fontsize=8)\n",
    "\n",
    "plt.show()"
   ]
  },
  {
   "cell_type": "code",
   "execution_count": 27,
   "metadata": {
    "collapsed": false
   },
   "outputs": [],
   "source": [
    "#Data Visualization (bivariate distribution) of the numerical columns"
   ]
  },
  {
   "cell_type": "code",
   "execution_count": 28,
   "metadata": {
    "collapsed": false
   },
   "outputs": [
    {
     "data": {
      "image/png": "[encoded data removed]",
      "text/plain": [
       "<Figure size 900x900 with 30 Axes>"
      ]
     },
     "execution_count": 28,
     "metadata": {
      "image/png": {
       "height": 889.0,
       "width": 898.0
      }
     },
     "output_type": "execute_result"
    }
   ],
   "source": [
    "_ =sns.pairplot(data=train[num_var],kind='scatter',dropna=True)\n",
    "_.fig.suptitle('Pairwise plot of all numerical variables')\n",
    "# plt.savefig('Pairwise.png')\n",
    "plt.show()"
   ]
  },
  {
   "cell_type": "code",
   "execution_count": 0,
   "metadata": {
    "collapsed": false
   },
   "outputs": [],
   "source": [
    "## Removing values which are not within desired range(outlier) depending upon basic understanding of dataset."
   ]
  },
  {
   "cell_type": "code",
   "execution_count": 0,
   "metadata": {
    "collapsed": false
   },
   "outputs": [],
   "source": [
    "## 1.Fare amount has a negative value, which doesn't make sense. A price amount cannot be -ve and also cannot be 0. So we will remove these fields.\n"
   ]
  },
  {
   "cell_type": "code",
   "execution_count": 0,
   "metadata": {
    "collapsed": false
   },
   "outputs": [],
   "source": [
    "train['fare_amount'].describe()"
   ]
  },
  {
   "cell_type": "code",
   "execution_count": 0,
   "metadata": {
    "collapsed": false
   },
   "outputs": [],
   "source": [
    "sum(train['fare_amount']<1)"
   ]
  },
  {
   "cell_type": "code",
   "execution_count": 0,
   "metadata": {
    "collapsed": false
   },
   "outputs": [],
   "source": [
    "train[train['fare_amount']<1]"
   ]
  },
  {
   "cell_type": "code",
   "execution_count": 8,
   "metadata": {
    "collapsed": false
   },
   "outputs": [
    {
     "data": {
      "text/plain": [
       "(15981, 7)"
      ]
     },
     "execution_count": 8,
     "metadata": {},
     "output_type": "execute_result"
    }
   ],
   "source": [
    "train = train.drop(train[train['fare_amount']<1].index, axis=0)\n",
    "train.shape"
   ]
  },
  {
   "cell_type": "code",
   "execution_count": 0,
   "metadata": {
    "collapsed": false
   },
   "outputs": [],
   "source": [
    "#2.Passenger_count variable\n",
    "\n",
    "# Number of passengers cannot be 0 and maximum number of passengers that can fit in a car is 6."
   ]
  },
  {
   "cell_type": "code",
   "execution_count": 7,
   "metadata": {
    "collapsed": false
   },
   "outputs": [],
   "source": [
    "train['passenger_count']=train['passenger_count'].round().astype('object').astype('category',ordered=True)"
   ]
  },
  {
   "cell_type": "code",
   "execution_count": 10,
   "metadata": {
    "collapsed": false
   },
   "outputs": [
    {
     "data": {
      "text/plain": [
       "[1.0, 2.0, 3.0, 6.0, 5.0, 4.0]\n",
       "Categories (6, float64): [1.0 < 2.0 < 3.0 < 4.0 < 5.0 < 6.0]"
      ]
     },
     "execution_count": 10,
     "metadata": {},
     "output_type": "execute_result"
    }
   ],
   "source": [
    "train['passenger_count'].unique()"
   ]
  },
  {
   "cell_type": "code",
   "execution_count": 0,
   "metadata": {
    "collapsed": false
   },
   "outputs": [],
   "source": [
    "train['passenger_count'].value_counts()"
   ]
  },
  {
   "cell_type": "code",
   "execution_count": 0,
   "metadata": {
    "collapsed": false
   },
   "outputs": [],
   "source": [
    "test['passenger_count'].unique()"
   ]
  },
  {
   "cell_type": "code",
   "execution_count": 0,
   "metadata": {
    "collapsed": false
   },
   "outputs": [],
   "source": [
    "# => passenger_count variable conatins values which are equal to 0.\n",
    "# => And test data does not contain passenger_count=0 . So if we feature engineer passenger_count of train dataset then it will create a dummy variable for passenger_count=0 which will be an extra feature compared to test dataset.\n",
    "# => So, we will remove those 0 values.\n",
    "# => Also, We will also remove those values which are greater than 6 because maximum number of passengers that can fit in a car is 6"
   ]
  },
  {
   "cell_type": "code",
   "execution_count": 9,
   "metadata": {
    "collapsed": false
   },
   "outputs": [
    {
     "data": {
      "text/plain": [
       "(15904, 7)"
      ]
     },
     "execution_count": 9,
     "metadata": {},
     "output_type": "execute_result"
    }
   ],
   "source": [
    "train=train[ (train['passenger_count']<=6) & (train['passenger_count']>=1) ]\n",
    "train.shape"
   ]
  },
  {
   "cell_type": "code",
   "execution_count": 10,
   "metadata": {
    "collapsed": false
   },
   "outputs": [
    {
     "data": {
      "text/plain": [
       "0"
      ]
     },
     "execution_count": 10,
     "metadata": {},
     "output_type": "execute_result"
    }
   ],
   "source": [
    "sum(train['passenger_count']>6)"
   ]
  },
  {
   "cell_type": "code",
   "execution_count": 11,
   "metadata": {
    "collapsed": false
   },
   "outputs": [
    {
     "data": {
      "text/plain": [
       "0"
      ]
     },
     "execution_count": 11,
     "metadata": {},
     "output_type": "execute_result"
    }
   ],
   "source": [
    "sum(train['passenger_count']<1)"
   ]
  },
  {
   "cell_type": "code",
   "execution_count": 0,
   "metadata": {
    "collapsed": false
   },
   "outputs": [],
   "source": [
    "# 3.Latitudes range from -90 to 90.Longitudes range from -180 to 180. Removing which does not satisfy these ranges"
   ]
  },
  {
   "cell_type": "code",
   "execution_count": 12,
   "metadata": {
    "collapsed": false
   },
   "outputs": [
    {
     "data": {
      "text/plain": [
       "(15903, 7)"
      ]
     },
     "execution_count": 12,
     "metadata": {},
     "output_type": "execute_result"
    }
   ],
   "source": [
    "#Excluding values other than these ranges\n",
    "# for latitude range : -90<value<90\n",
    "#for longitude raange : -180<value<180\n",
    "train=train.drop(((train[train['pickup_longitude']<-180]) | (train[train['pickup_longitude']>180])).index,axis=0)\n",
    "train=train.drop(((train[train['dropoff_longitude']<-180]) | (train[train['dropoff_longitude']>180])).index,axis=0)\n",
    "train=train.drop(((train[train['pickup_latitude']<-90])| (train[train['pickup_latitude']>90])).index,axis=0)\n",
    "train=train.drop(((train[train['dropoff_latitude']<-90])| (train[train['dropoff_latitude']>90])).index,axis=0)\n",
    "train.shape"
   ]
  },
  {
   "cell_type": "code",
   "execution_count": 13,
   "metadata": {
    "collapsed": false
   },
   "outputs": [
    {
     "data": {
      "text/plain": [
       "(15444, 7)"
      ]
     },
     "execution_count": 13,
     "metadata": {},
     "output_type": "execute_result"
    }
   ],
   "source": [
    "#Removing observations whoose pickup and dropoff latitude and londitude are same\n",
    "train = train[(train['pickup_latitude'] != train['dropoff_latitude']) & (train['pickup_longitude'] != train['dropoff_longitude'])]\n",
    "train.shape"
   ]
  },
  {
   "cell_type": "code",
   "execution_count": 0,
   "metadata": {
    "collapsed": false
   },
   "outputs": [],
   "source": [
    "### Outlier Analysis using Boxplot\n"
   ]
  },
  {
   "cell_type": "code",
   "execution_count": 0,
   "metadata": {
    "collapsed": false
   },
   "outputs": [],
   "source": [
    "#Univariate Boxplots: Boxplots for all Numerical Variables including target variable."
   ]
  },
  {
   "cell_type": "code",
   "execution_count": 35,
   "metadata": {
    "collapsed": false
   },
   "outputs": [
    {
     "data": {
      "image/png": "[encoded data removed]",
      "text/plain": [
       "<Figure size 1440x360 with 1 Axes>"
      ]
     },
     "execution_count": 35,
     "metadata": {
      "image/png": {
       "height": 332.0,
       "width": 1143.0
      }
     },
     "output_type": "execute_result"
    }
   ],
   "source": [
    "plt.figure(figsize=(20,5)) \n",
    "plt.xlim(0,100)\n",
    "sns.boxplot(x=train['fare_amount'],data=train,orient='h')\n",
    "plt.title('Boxplot of fare_amount')\n",
    "# plt.savefig('bp of fare_amount.png')\n",
    "plt.show()"
   ]
  },
  {
   "cell_type": "code",
   "execution_count": 0,
   "metadata": {
    "collapsed": false
   },
   "outputs": [],
   "source": [
    "sum(train['fare_amount']<22.5)/len(train['fare_amount'])*100"
   ]
  },
  {
   "cell_type": "code",
   "execution_count": 0,
   "metadata": {
    "collapsed": false
   },
   "outputs": [],
   "source": [
    "#Bivariate Boxplots: Boxplot for Numerical Variable Vs Categorical Variable."
   ]
  },
  {
   "cell_type": "code",
   "execution_count": 36,
   "metadata": {
    "collapsed": false
   },
   "outputs": [
    {
     "data": {
      "image/png": "[encoded data removed]",
      "text/plain": [
       "<Figure size 1440x720 with 1 Axes>"
      ]
     },
     "execution_count": 36,
     "metadata": {
      "image/png": {
       "height": 603.0,
       "width": 1166.0
      }
     },
     "output_type": "execute_result"
    }
   ],
   "source": [
    "plt.figure(figsize=(20,10))\n",
    "plt.xlim(0,100)\n",
    "_ = sns.boxplot(x=train['fare_amount'],y=train['passenger_count'],data=train,orient='h')\n",
    "plt.title('Boxplot of fare_amount w.r.t passenger_count')\n",
    "# plt.savefig('Boxplot of fare_amount w.r.t passenger_count.png')\n",
    "plt.show()"
   ]
  },
  {
   "cell_type": "code",
   "execution_count": 0,
   "metadata": {
    "collapsed": false
   },
   "outputs": [],
   "source": [
    "## Outlier Treatment\n",
    "-  As we can see from the above Boxplots there are outliers in the train dataset.\n",
    "-  Reconsider pickup_longitude,etc."
   ]
  },
  {
   "cell_type": "code",
   "execution_count": 14,
   "metadata": {
    "collapsed": false
   },
   "outputs": [],
   "source": [
    "def outlier_treatment(col):\n",
    "    ''' calculating outlier indices and replacing them with NA  '''\n",
    "    #Extract quartiles\n",
    "    q75, q25 = np.percentile(train[col], [75 ,25])\n",
    "    print(q75,q25)\n",
    "    #Calculate IQR\n",
    "    iqr = q75 - q25\n",
    "    #Calculate inner and outer fence\n",
    "    minimum = q25 - (iqr*1.5)\n",
    "    maximum = q75 + (iqr*1.5)\n",
    "    print(minimum,maximum)\n",
    "    #Replace with NA\n",
    "    train.loc[train[col] < minimum,col] = np.nan\n",
    "    train.loc[train[col] > maximum,col] = np.nan"
   ]
  },
  {
   "cell_type": "code",
   "execution_count": 15,
   "metadata": {
    "collapsed": false
   },
   "outputs": [
    {
     "name": "stdout",
     "output_type": "stream",
     "text": [
      "12.5 6.0\n",
      "-3.75 22.25\n"
     ]
    },
    {
     "name": "stdout",
     "output_type": "stream",
     "text": [
      "-73.9681235 -73.9923709575\n",
      "-74.02874214375 -73.93175231375001\n",
      "40.767799 40.736542824999994\n",
      "40.689658562499986 40.8146832625\n",
      "-73.96544625 -73.99136425\n",
      "-74.03024125000002 -73.92656925\n",
      "40.7683105 40.73626324999999\n",
      "40.688192374999986 40.816381375000006\n",
      "nan nan\n",
      "nan nan\n",
      "nan nan\n",
      "nan nan\n",
      "nan nan\n",
      "nan nan\n",
      "nan nan\n",
      "nan nan\n",
      "nan nan\n",
      "nan nan\n",
      "nan nan\n",
      "nan nan\n",
      "nan nan\n",
      "nan nan\n",
      "nan nan\n",
      "nan nan\n",
      "nan nan\n",
      "nan nan\n",
      "nan nan\n",
      "nan nan\n",
      "nan nan\n",
      "nan nan\n",
      "nan nan\n",
      "nan nan\n",
      "nan nan\n",
      "nan nan\n",
      "nan nan\n",
      "nan nan\n",
      "nan nan\n",
      "nan nan\n",
      "nan nan\n",
      "nan nan\n"
     ]
    },
    {
     "name": "stdout",
     "output_type": "stream",
     "text": [
      "nan nan\n",
      "nan nan\n",
      "nan nan\n",
      "nan nan\n",
      "nan nan\n",
      "nan nan\n",
      "nan nan\n",
      "nan nan\n"
     ]
    }
   ],
   "source": [
    "for i in num_var:\n",
    "    outlier_treatment('fare_amount')\n",
    "    outlier_treatment('pickup_longitude')\n",
    "    outlier_treatment('pickup_latitude')\n",
    "    outlier_treatment('dropoff_longitude')\n",
    "    outlier_treatment('dropoff_latitude')"
   ]
  },
  {
   "cell_type": "code",
   "execution_count": 16,
   "metadata": {
    "collapsed": false
   },
   "outputs": [
    {
     "data": {
      "text/html": [
       "<div>\n",
       "<style scoped>\n",
       "    .dataframe tbody tr th:only-of-type {\n",
       "        vertical-align: middle;\n",
       "    }\n",
       "\n",
       "    .dataframe tbody tr th {\n",
       "        vertical-align: top;\n",
       "    }\n",
       "\n",
       "    .dataframe thead th {\n",
       "        text-align: right;\n",
       "    }\n",
       "</style>\n",
       "<table border=\"1\" class=\"dataframe\">\n",
       "  <thead>\n",
       "    <tr style=\"text-align: right;\">\n",
       "      <th></th>\n",
       "      <th>0</th>\n",
       "    </tr>\n",
       "  </thead>\n",
       "  <tbody>\n",
       "    <tr>\n",
       "      <th>fare_amount</th>\n",
       "      <td>1348</td>\n",
       "    </tr>\n",
       "    <tr>\n",
       "      <th>pickup_datetime</th>\n",
       "      <td>0</td>\n",
       "    </tr>\n",
       "    <tr>\n",
       "      <th>pickup_longitude</th>\n",
       "      <td>783</td>\n",
       "    </tr>\n",
       "    <tr>\n",
       "      <th>pickup_latitude</th>\n",
       "      <td>495</td>\n",
       "    </tr>\n",
       "    <tr>\n",
       "      <th>dropoff_longitude</th>\n",
       "      <td>898</td>\n",
       "    </tr>\n",
       "    <tr>\n",
       "      <th>dropoff_latitude</th>\n",
       "      <td>737</td>\n",
       "    </tr>\n",
       "    <tr>\n",
       "      <th>passenger_count</th>\n",
       "      <td>0</td>\n",
       "    </tr>\n",
       "  </tbody>\n",
       "</table>\n",
       "</div>"
      ],
      "text/plain": [
       "                      0\n",
       "fare_amount        1348\n",
       "pickup_datetime       0\n",
       "pickup_longitude    783\n",
       "pickup_latitude     495\n",
       "dropoff_longitude   898\n",
       "dropoff_latitude    737\n",
       "passenger_count       0"
      ]
     },
     "execution_count": 16,
     "metadata": {},
     "output_type": "execute_result"
    }
   ],
   "source": [
    "pd.DataFrame(train.isnull().sum())"
   ]
  },
  {
   "cell_type": "code",
   "execution_count": 17,
   "metadata": {
    "collapsed": false
   },
   "outputs": [],
   "source": [
    "train['fare_amount'].fillna((train['fare_amount'].mean()), inplace=True)\n",
    "train['pickup_longitude'].fillna((train['pickup_longitude'].mean()), inplace=True)\n",
    "train['pickup_latitude'].fillna((train['pickup_latitude'].mean()), inplace=True)\n",
    "train['dropoff_longitude'].fillna((train['dropoff_longitude'].mean()), inplace=True)\n",
    "train['dropoff_latitude'].fillna((train['dropoff_latitude'].mean()), inplace=True)"
   ]
  },
  {
   "cell_type": "code",
   "execution_count": 18,
   "metadata": {
    "collapsed": false
   },
   "outputs": [
    {
     "data": {
      "text/html": [
       "<div>\n",
       "<style scoped>\n",
       "    .dataframe tbody tr th:only-of-type {\n",
       "        vertical-align: middle;\n",
       "    }\n",
       "\n",
       "    .dataframe tbody tr th {\n",
       "        vertical-align: top;\n",
       "    }\n",
       "\n",
       "    .dataframe thead th {\n",
       "        text-align: right;\n",
       "    }\n",
       "</style>\n",
       "<table border=\"1\" class=\"dataframe\">\n",
       "  <thead>\n",
       "    <tr style=\"text-align: right;\">\n",
       "      <th></th>\n",
       "      <th>0</th>\n",
       "    </tr>\n",
       "  </thead>\n",
       "  <tbody>\n",
       "    <tr>\n",
       "      <th>fare_amount</th>\n",
       "      <td>0</td>\n",
       "    </tr>\n",
       "    <tr>\n",
       "      <th>pickup_datetime</th>\n",
       "      <td>0</td>\n",
       "    </tr>\n",
       "    <tr>\n",
       "      <th>pickup_longitude</th>\n",
       "      <td>0</td>\n",
       "    </tr>\n",
       "    <tr>\n",
       "      <th>pickup_latitude</th>\n",
       "      <td>0</td>\n",
       "    </tr>\n",
       "    <tr>\n",
       "      <th>dropoff_longitude</th>\n",
       "      <td>0</td>\n",
       "    </tr>\n",
       "    <tr>\n",
       "      <th>dropoff_latitude</th>\n",
       "      <td>0</td>\n",
       "    </tr>\n",
       "    <tr>\n",
       "      <th>passenger_count</th>\n",
       "      <td>0</td>\n",
       "    </tr>\n",
       "  </tbody>\n",
       "</table>\n",
       "</div>"
      ],
      "text/plain": [
       "                   0\n",
       "fare_amount        0\n",
       "pickup_datetime    0\n",
       "pickup_longitude   0\n",
       "pickup_latitude    0\n",
       "dropoff_longitude  0\n",
       "dropoff_latitude   0\n",
       "passenger_count    0"
      ]
     },
     "execution_count": 18,
     "metadata": {},
     "output_type": "execute_result"
    }
   ],
   "source": [
    "pd.DataFrame(train.isnull().sum())"
   ]
  },
  {
   "cell_type": "code",
   "execution_count": 0,
   "metadata": {
    "collapsed": false
   },
   "outputs": [],
   "source": [
    "#Imputing with missing values using KNN\n",
    "train = pd.DataFrame(KNN(k = 3).fit_transform(train), columns = train.columns, index=train.index)"
   ]
  },
  {
   "cell_type": "code",
   "execution_count": 0,
   "metadata": {
    "collapsed": false
   },
   "outputs": [],
   "source": [
    "#Feature Engineering"
   ]
  },
  {
   "cell_type": "code",
   "execution_count": 0,
   "metadata": {
    "collapsed": false
   },
   "outputs": [],
   "source": [
    "#1.Feature Engineering for timestamp variable\n",
    "# ->we will derive new features from pickup_datetime variable\n",
    "# ->new features will be year,month,day_of_week,hour"
   ]
  },
  {
   "cell_type": "code",
   "execution_count": 19,
   "metadata": {
    "collapsed": false
   },
   "outputs": [],
   "source": [
    "data = [train,test]\n",
    "for i in data:\n",
    "    i[\"year\"] = i[\"pickup_datetime\"].apply(lambda row: row.year)\n",
    "    i[\"month\"] = i[\"pickup_datetime\"].apply(lambda row: row.month)\n",
    "#     i[\"day_of_month\"] = i[\"pickup_datetime\"].apply(lambda row: row.day)\n",
    "    i[\"day_of_week\"] = i[\"pickup_datetime\"].apply(lambda row: row.dayofweek)\n",
    "    i[\"hour\"] = i[\"pickup_datetime\"].apply(lambda row: row.hour)"
   ]
  },
  {
   "cell_type": "code",
   "execution_count": 0,
   "metadata": {
    "collapsed": false
   },
   "outputs": [],
   "source": [
    "#Now we will use month,day_of_week,hour to derive new features like sessions in a day,seasons in a year,week:weekend/weekday"
   ]
  },
  {
   "cell_type": "code",
   "execution_count": 20,
   "metadata": {
    "collapsed": false
   },
   "outputs": [],
   "source": [
    "def f(x):\n",
    "    ''' for sessions in a day using hour column '''\n",
    "    if (x >=5) and (x <= 11):\n",
    "        return 'morning'\n",
    "    elif (x >=12) and (x <=16 ):\n",
    "        return 'afternoon'\n",
    "    elif (x >= 17) and (x <= 20):\n",
    "        return'evening'\n",
    "    elif (x >=21) and (x <= 23) :\n",
    "        return 'night_PM'\n",
    "    elif (x >=0) and (x <=4):\n",
    "        return'night_AM'"
   ]
  },
  {
   "cell_type": "code",
   "execution_count": 21,
   "metadata": {
    "collapsed": false
   },
   "outputs": [],
   "source": [
    "def h(x):\n",
    "    ''' for week:weekday/weekend in a day_of_week column '''\n",
    "    if (x >=0) and (x <= 4):\n",
    "        return 'weekday'\n",
    "    elif (x >=5) and (x <=6 ):\n",
    "        return 'weekend'"
   ]
  },
  {
   "cell_type": "code",
   "execution_count": 22,
   "metadata": {
    "collapsed": false
   },
   "outputs": [],
   "source": [
    "def g(x):\n",
    "    ''' for seasons in a year using month column'''\n",
    "    if (x >=3) and (x <= 5):\n",
    "        return 'spring'\n",
    "    elif (x >=6) and (x <=8 ):\n",
    "        return 'summer'\n",
    "    elif (x >= 9) and (x <= 11):\n",
    "        return'fall'\n",
    "    elif (x >=12)|(x <= 2) :\n",
    "        return 'winter'"
   ]
  },
  {
   "cell_type": "code",
   "execution_count": 23,
   "metadata": {
    "collapsed": false
   },
   "outputs": [],
   "source": [
    "train['session'] = train['hour'].apply(f)\n",
    "test['session'] = test['hour'].apply(f)\n",
    "train['seasons'] = train['month'].apply(g)\n",
    "test['seasons'] = test['month'].apply(g)\n",
    "train['week'] = train['day_of_week'].apply(h)\n",
    "test['week'] = test['day_of_week'].apply(h)"
   ]
  },
  {
   "cell_type": "code",
   "execution_count": 24,
   "metadata": {
    "collapsed": false
   },
   "outputs": [
    {
     "data": {
      "text/plain": [
       "(15444, 14)"
      ]
     },
     "execution_count": 24,
     "metadata": {},
     "output_type": "execute_result"
    }
   ],
   "source": [
    "train.shape"
   ]
  },
  {
   "cell_type": "code",
   "execution_count": 0,
   "metadata": {
    "collapsed": false
   },
   "outputs": [],
   "source": [
    "#2.Feature Engineering for passenger_count variable\n",
    "# -> Because models in scikit learn require numerical input,if dataset contains categorical variables then we have to encode them.\n",
    "# -> We will use one hot encoding technique for passenger_count variable."
   ]
  },
  {
   "cell_type": "code",
   "execution_count": 27,
   "metadata": {
    "collapsed": false
   },
   "outputs": [],
   "source": [
    "train['passenger_count']=train['passenger_count'].astype('int').round().astype('object').astype('category')"
   ]
  },
  {
   "cell_type": "code",
   "execution_count": 28,
   "metadata": {
    "collapsed": false
   },
   "outputs": [
    {
     "data": {
      "text/plain": [
       "count     15444\n",
       "unique        6\n",
       "top           1\n",
       "freq      10896\n",
       "Name: passenger_count, dtype: int64"
      ]
     },
     "execution_count": 28,
     "metadata": {},
     "output_type": "execute_result"
    }
   ],
   "source": [
    "train['passenger_count'].describe()"
   ]
  },
  {
   "cell_type": "code",
   "execution_count": 29,
   "metadata": {
    "collapsed": false
   },
   "outputs": [],
   "source": [
    "#Creating dummies for each variable in passenger_count and merging dummies dataframe to both train and test dataframe\n",
    "temp = pd.get_dummies(train['passenger_count'], prefix = 'passenger_count')\n",
    "train = train.join(temp)\n",
    "temp = pd.get_dummies(test['passenger_count'], prefix = 'passenger_count')\n",
    "test = test.join(temp)\n",
    "temp = pd.get_dummies(train['seasons'], prefix = 'season')\n",
    "train = train.join(temp)\n",
    "temp = pd.get_dummies(test['seasons'], prefix = 'season')\n",
    "test = test.join(temp)\n",
    "temp = pd.get_dummies(train['week'], prefix = 'week')\n",
    "train = train.join(temp)\n",
    "temp = pd.get_dummies(test['week'], prefix = 'week')\n",
    "test = test.join(temp)\n",
    "temp = pd.get_dummies(train['session'], prefix = 'session')\n",
    "train = train.join(temp)\n",
    "temp = pd.get_dummies(test['session'], prefix = 'session')\n",
    "test = test.join(temp)\n",
    "temp = pd.get_dummies(train['year'], prefix = 'year')\n",
    "train = train.join(temp)\n",
    "temp = pd.get_dummies(test['year'], prefix = 'year')\n",
    "test = test.join(temp)"
   ]
  },
  {
   "cell_type": "code",
   "execution_count": 30,
   "metadata": {
    "collapsed": false
   },
   "outputs": [
    {
     "data": {
      "text/html": [
       "<div>\n",
       "<style scoped>\n",
       "    .dataframe tbody tr th:only-of-type {\n",
       "        vertical-align: middle;\n",
       "    }\n",
       "\n",
       "    .dataframe tbody tr th {\n",
       "        vertical-align: top;\n",
       "    }\n",
       "\n",
       "    .dataframe thead th {\n",
       "        text-align: right;\n",
       "    }\n",
       "</style>\n",
       "<table border=\"1\" class=\"dataframe\">\n",
       "  <thead>\n",
       "    <tr style=\"text-align: right;\">\n",
       "      <th></th>\n",
       "      <th>fare_amount</th>\n",
       "      <th>pickup_datetime</th>\n",
       "      <th>pickup_longitude</th>\n",
       "      <th>pickup_latitude</th>\n",
       "      <th>dropoff_longitude</th>\n",
       "      <th>dropoff_latitude</th>\n",
       "      <th>passenger_count</th>\n",
       "      <th>year</th>\n",
       "      <th>month</th>\n",
       "      <th>day_of_week</th>\n",
       "      <th>...</th>\n",
       "      <th>session_morning</th>\n",
       "      <th>session_night_AM</th>\n",
       "      <th>session_night_PM</th>\n",
       "      <th>year_2009</th>\n",
       "      <th>year_2010</th>\n",
       "      <th>year_2011</th>\n",
       "      <th>year_2012</th>\n",
       "      <th>year_2013</th>\n",
       "      <th>year_2014</th>\n",
       "      <th>year_2015</th>\n",
       "    </tr>\n",
       "  </thead>\n",
       "  <tbody>\n",
       "    <tr>\n",
       "      <th>0</th>\n",
       "      <td>4.5</td>\n",
       "      <td>2009-06-15 17:26:21+00:00</td>\n",
       "      <td>-73.981716</td>\n",
       "      <td>40.721319</td>\n",
       "      <td>-73.980097</td>\n",
       "      <td>40.712278</td>\n",
       "      <td>1</td>\n",
       "      <td>2009</td>\n",
       "      <td>6</td>\n",
       "      <td>0</td>\n",
       "      <td>...</td>\n",
       "      <td>0</td>\n",
       "      <td>0</td>\n",
       "      <td>0</td>\n",
       "      <td>1</td>\n",
       "      <td>0</td>\n",
       "      <td>0</td>\n",
       "      <td>0</td>\n",
       "      <td>0</td>\n",
       "      <td>0</td>\n",
       "      <td>0</td>\n",
       "    </tr>\n",
       "    <tr>\n",
       "      <th>1</th>\n",
       "      <td>16.9</td>\n",
       "      <td>2010-01-05 16:52:16+00:00</td>\n",
       "      <td>-74.016048</td>\n",
       "      <td>40.711303</td>\n",
       "      <td>-73.979268</td>\n",
       "      <td>40.782004</td>\n",
       "      <td>1</td>\n",
       "      <td>2010</td>\n",
       "      <td>1</td>\n",
       "      <td>1</td>\n",
       "      <td>...</td>\n",
       "      <td>0</td>\n",
       "      <td>0</td>\n",
       "      <td>0</td>\n",
       "      <td>0</td>\n",
       "      <td>1</td>\n",
       "      <td>0</td>\n",
       "      <td>0</td>\n",
       "      <td>0</td>\n",
       "      <td>0</td>\n",
       "      <td>0</td>\n",
       "    </tr>\n",
       "    <tr>\n",
       "      <th>2</th>\n",
       "      <td>5.7</td>\n",
       "      <td>2011-08-18 00:35:00+00:00</td>\n",
       "      <td>-73.982738</td>\n",
       "      <td>40.761270</td>\n",
       "      <td>-73.991242</td>\n",
       "      <td>40.750562</td>\n",
       "      <td>2</td>\n",
       "      <td>2011</td>\n",
       "      <td>8</td>\n",
       "      <td>3</td>\n",
       "      <td>...</td>\n",
       "      <td>0</td>\n",
       "      <td>1</td>\n",
       "      <td>0</td>\n",
       "      <td>0</td>\n",
       "      <td>0</td>\n",
       "      <td>1</td>\n",
       "      <td>0</td>\n",
       "      <td>0</td>\n",
       "      <td>0</td>\n",
       "      <td>0</td>\n",
       "    </tr>\n",
       "    <tr>\n",
       "      <th>3</th>\n",
       "      <td>7.7</td>\n",
       "      <td>2012-04-21 04:30:42+00:00</td>\n",
       "      <td>-73.987130</td>\n",
       "      <td>40.733143</td>\n",
       "      <td>-73.991567</td>\n",
       "      <td>40.758092</td>\n",
       "      <td>1</td>\n",
       "      <td>2012</td>\n",
       "      <td>4</td>\n",
       "      <td>5</td>\n",
       "      <td>...</td>\n",
       "      <td>0</td>\n",
       "      <td>1</td>\n",
       "      <td>0</td>\n",
       "      <td>0</td>\n",
       "      <td>0</td>\n",
       "      <td>0</td>\n",
       "      <td>1</td>\n",
       "      <td>0</td>\n",
       "      <td>0</td>\n",
       "      <td>0</td>\n",
       "    </tr>\n",
       "    <tr>\n",
       "      <th>4</th>\n",
       "      <td>5.3</td>\n",
       "      <td>2010-03-09 07:51:00+00:00</td>\n",
       "      <td>-73.968095</td>\n",
       "      <td>40.768008</td>\n",
       "      <td>-73.956655</td>\n",
       "      <td>40.783762</td>\n",
       "      <td>1</td>\n",
       "      <td>2010</td>\n",
       "      <td>3</td>\n",
       "      <td>1</td>\n",
       "      <td>...</td>\n",
       "      <td>1</td>\n",
       "      <td>0</td>\n",
       "      <td>0</td>\n",
       "      <td>0</td>\n",
       "      <td>1</td>\n",
       "      <td>0</td>\n",
       "      <td>0</td>\n",
       "      <td>0</td>\n",
       "      <td>0</td>\n",
       "      <td>0</td>\n",
       "    </tr>\n",
       "  </tbody>\n",
       "</table>\n",
       "<p>5 rows × 38 columns</p>\n",
       "</div>"
      ],
      "text/plain": [
       "   fare_amount           pickup_datetime  pickup_longitude  pickup_latitude  \\\n",
       "0          4.5 2009-06-15 17:26:21+00:00        -73.981716        40.721319   \n",
       "1         16.9 2010-01-05 16:52:16+00:00        -74.016048        40.711303   \n",
       "2          5.7 2011-08-18 00:35:00+00:00        -73.982738        40.761270   \n",
       "3          7.7 2012-04-21 04:30:42+00:00        -73.987130        40.733143   \n",
       "4          5.3 2010-03-09 07:51:00+00:00        -73.968095        40.768008   \n",
       "\n",
       "   dropoff_longitude  dropoff_latitude passenger_count  year  month  \\\n",
       "0         -73.980097         40.712278               1  2009      6   \n",
       "1         -73.979268         40.782004               1  2010      1   \n",
       "2         -73.991242         40.750562               2  2011      8   \n",
       "3         -73.991567         40.758092               1  2012      4   \n",
       "4         -73.956655         40.783762               1  2010      3   \n",
       "\n",
       "   day_of_week  ...  session_morning session_night_AM session_night_PM  \\\n",
       "0            0  ...                0                0                0   \n",
       "1            1  ...                0                0                0   \n",
       "2            3  ...                0                1                0   \n",
       "3            5  ...                0                1                0   \n",
       "4            1  ...                1                0                0   \n",
       "\n",
       "  year_2009  year_2010  year_2011  year_2012  year_2013  year_2014  year_2015  \n",
       "0         1          0          0          0          0          0          0  \n",
       "1         0          1          0          0          0          0          0  \n",
       "2         0          0          1          0          0          0          0  \n",
       "3         0          0          0          1          0          0          0  \n",
       "4         0          1          0          0          0          0          0  \n",
       "\n",
       "[5 rows x 38 columns]"
      ]
     },
     "execution_count": 30,
     "metadata": {},
     "output_type": "execute_result"
    }
   ],
   "source": [
    "train.head()"
   ]
  },
  {
   "cell_type": "code",
   "execution_count": 31,
   "metadata": {
    "collapsed": false
   },
   "outputs": [
    {
     "data": {
      "text/html": [
       "<div>\n",
       "<style scoped>\n",
       "    .dataframe tbody tr th:only-of-type {\n",
       "        vertical-align: middle;\n",
       "    }\n",
       "\n",
       "    .dataframe tbody tr th {\n",
       "        vertical-align: top;\n",
       "    }\n",
       "\n",
       "    .dataframe thead th {\n",
       "        text-align: right;\n",
       "    }\n",
       "</style>\n",
       "<table border=\"1\" class=\"dataframe\">\n",
       "  <thead>\n",
       "    <tr style=\"text-align: right;\">\n",
       "      <th></th>\n",
       "      <th>pickup_datetime</th>\n",
       "      <th>pickup_longitude</th>\n",
       "      <th>pickup_latitude</th>\n",
       "      <th>dropoff_longitude</th>\n",
       "      <th>dropoff_latitude</th>\n",
       "      <th>passenger_count</th>\n",
       "      <th>year</th>\n",
       "      <th>month</th>\n",
       "      <th>day_of_week</th>\n",
       "      <th>hour</th>\n",
       "      <th>...</th>\n",
       "      <th>session_morning</th>\n",
       "      <th>session_night_AM</th>\n",
       "      <th>session_night_PM</th>\n",
       "      <th>year_2009</th>\n",
       "      <th>year_2010</th>\n",
       "      <th>year_2011</th>\n",
       "      <th>year_2012</th>\n",
       "      <th>year_2013</th>\n",
       "      <th>year_2014</th>\n",
       "      <th>year_2015</th>\n",
       "    </tr>\n",
       "  </thead>\n",
       "  <tbody>\n",
       "    <tr>\n",
       "      <th>0</th>\n",
       "      <td>2015-01-27 13:08:24+00:00</td>\n",
       "      <td>-73.973320</td>\n",
       "      <td>40.763805</td>\n",
       "      <td>-73.981430</td>\n",
       "      <td>40.743835</td>\n",
       "      <td>1</td>\n",
       "      <td>2015</td>\n",
       "      <td>1</td>\n",
       "      <td>1</td>\n",
       "      <td>13</td>\n",
       "      <td>...</td>\n",
       "      <td>0</td>\n",
       "      <td>0</td>\n",
       "      <td>0</td>\n",
       "      <td>0</td>\n",
       "      <td>0</td>\n",
       "      <td>0</td>\n",
       "      <td>0</td>\n",
       "      <td>0</td>\n",
       "      <td>0</td>\n",
       "      <td>1</td>\n",
       "    </tr>\n",
       "    <tr>\n",
       "      <th>1</th>\n",
       "      <td>2015-01-27 13:08:24+00:00</td>\n",
       "      <td>-73.986862</td>\n",
       "      <td>40.719383</td>\n",
       "      <td>-73.998886</td>\n",
       "      <td>40.739201</td>\n",
       "      <td>1</td>\n",
       "      <td>2015</td>\n",
       "      <td>1</td>\n",
       "      <td>1</td>\n",
       "      <td>13</td>\n",
       "      <td>...</td>\n",
       "      <td>0</td>\n",
       "      <td>0</td>\n",
       "      <td>0</td>\n",
       "      <td>0</td>\n",
       "      <td>0</td>\n",
       "      <td>0</td>\n",
       "      <td>0</td>\n",
       "      <td>0</td>\n",
       "      <td>0</td>\n",
       "      <td>1</td>\n",
       "    </tr>\n",
       "    <tr>\n",
       "      <th>2</th>\n",
       "      <td>2011-10-08 11:53:44+00:00</td>\n",
       "      <td>-73.982524</td>\n",
       "      <td>40.751260</td>\n",
       "      <td>-73.979654</td>\n",
       "      <td>40.746139</td>\n",
       "      <td>1</td>\n",
       "      <td>2011</td>\n",
       "      <td>10</td>\n",
       "      <td>5</td>\n",
       "      <td>11</td>\n",
       "      <td>...</td>\n",
       "      <td>1</td>\n",
       "      <td>0</td>\n",
       "      <td>0</td>\n",
       "      <td>0</td>\n",
       "      <td>0</td>\n",
       "      <td>1</td>\n",
       "      <td>0</td>\n",
       "      <td>0</td>\n",
       "      <td>0</td>\n",
       "      <td>0</td>\n",
       "    </tr>\n",
       "    <tr>\n",
       "      <th>3</th>\n",
       "      <td>2012-12-01 21:12:12+00:00</td>\n",
       "      <td>-73.981160</td>\n",
       "      <td>40.767807</td>\n",
       "      <td>-73.990448</td>\n",
       "      <td>40.751635</td>\n",
       "      <td>1</td>\n",
       "      <td>2012</td>\n",
       "      <td>12</td>\n",
       "      <td>5</td>\n",
       "      <td>21</td>\n",
       "      <td>...</td>\n",
       "      <td>0</td>\n",
       "      <td>0</td>\n",
       "      <td>1</td>\n",
       "      <td>0</td>\n",
       "      <td>0</td>\n",
       "      <td>0</td>\n",
       "      <td>1</td>\n",
       "      <td>0</td>\n",
       "      <td>0</td>\n",
       "      <td>0</td>\n",
       "    </tr>\n",
       "    <tr>\n",
       "      <th>4</th>\n",
       "      <td>2012-12-01 21:12:12+00:00</td>\n",
       "      <td>-73.966046</td>\n",
       "      <td>40.789775</td>\n",
       "      <td>-73.988565</td>\n",
       "      <td>40.744427</td>\n",
       "      <td>1</td>\n",
       "      <td>2012</td>\n",
       "      <td>12</td>\n",
       "      <td>5</td>\n",
       "      <td>21</td>\n",
       "      <td>...</td>\n",
       "      <td>0</td>\n",
       "      <td>0</td>\n",
       "      <td>1</td>\n",
       "      <td>0</td>\n",
       "      <td>0</td>\n",
       "      <td>0</td>\n",
       "      <td>1</td>\n",
       "      <td>0</td>\n",
       "      <td>0</td>\n",
       "      <td>0</td>\n",
       "    </tr>\n",
       "  </tbody>\n",
       "</table>\n",
       "<p>5 rows × 37 columns</p>\n",
       "</div>"
      ],
      "text/plain": [
       "            pickup_datetime  pickup_longitude  pickup_latitude  \\\n",
       "0 2015-01-27 13:08:24+00:00        -73.973320        40.763805   \n",
       "1 2015-01-27 13:08:24+00:00        -73.986862        40.719383   \n",
       "2 2011-10-08 11:53:44+00:00        -73.982524        40.751260   \n",
       "3 2012-12-01 21:12:12+00:00        -73.981160        40.767807   \n",
       "4 2012-12-01 21:12:12+00:00        -73.966046        40.789775   \n",
       "\n",
       "   dropoff_longitude  dropoff_latitude  passenger_count  year  month  \\\n",
       "0         -73.981430         40.743835                1  2015      1   \n",
       "1         -73.998886         40.739201                1  2015      1   \n",
       "2         -73.979654         40.746139                1  2011     10   \n",
       "3         -73.990448         40.751635                1  2012     12   \n",
       "4         -73.988565         40.744427                1  2012     12   \n",
       "\n",
       "   day_of_week  hour  ... session_morning session_night_AM session_night_PM  \\\n",
       "0            1    13  ...               0                0                0   \n",
       "1            1    13  ...               0                0                0   \n",
       "2            5    11  ...               1                0                0   \n",
       "3            5    21  ...               0                0                1   \n",
       "4            5    21  ...               0                0                1   \n",
       "\n",
       "   year_2009  year_2010  year_2011  year_2012  year_2013  year_2014  year_2015  \n",
       "0          0          0          0          0          0          0          1  \n",
       "1          0          0          0          0          0          0          1  \n",
       "2          0          0          1          0          0          0          0  \n",
       "3          0          0          0          1          0          0          0  \n",
       "4          0          0          0          1          0          0          0  \n",
       "\n",
       "[5 rows x 37 columns]"
      ]
     },
     "execution_count": 31,
     "metadata": {},
     "output_type": "execute_result"
    }
   ],
   "source": [
    "test.head()"
   ]
  },
  {
   "cell_type": "code",
   "execution_count": 0,
   "metadata": {
    "collapsed": false
   },
   "outputs": [],
   "source": [
    "#we will drop one column from each one-hot-encoded variables"
   ]
  },
  {
   "cell_type": "code",
   "execution_count": 32,
   "metadata": {
    "collapsed": false
   },
   "outputs": [
    {
     "data": {
      "text/plain": [
       "Index(['fare_amount', 'pickup_datetime', 'pickup_longitude', 'pickup_latitude',\n",
       "       'dropoff_longitude', 'dropoff_latitude', 'passenger_count', 'year',\n",
       "       'month', 'day_of_week', 'hour', 'session', 'seasons', 'week',\n",
       "       'passenger_count_1', 'passenger_count_2', 'passenger_count_3',\n",
       "       'passenger_count_4', 'passenger_count_5', 'passenger_count_6',\n",
       "       'season_fall', 'season_spring', 'season_summer', 'season_winter',\n",
       "       'week_weekday', 'week_weekend', 'session_afternoon', 'session_evening',\n",
       "       'session_morning', 'session_night_AM', 'session_night_PM', 'year_2009',\n",
       "       'year_2010', 'year_2011', 'year_2012', 'year_2013', 'year_2014',\n",
       "       'year_2015'],\n",
       "      dtype='object')"
      ]
     },
     "execution_count": 32,
     "metadata": {},
     "output_type": "execute_result"
    }
   ],
   "source": [
    "train.columns"
   ]
  },
  {
   "cell_type": "code",
   "execution_count": 33,
   "metadata": {
    "collapsed": false
   },
   "outputs": [],
   "source": [
    "train=train.drop(['passenger_count_1','season_fall','week_weekday','session_afternoon','year_2009'],axis=1)\n",
    "test=test.drop(['passenger_count_1','season_fall','week_weekday','session_afternoon','year_2009'],axis=1)"
   ]
  },
  {
   "cell_type": "code",
   "execution_count": 0,
   "metadata": {
    "collapsed": false
   },
   "outputs": [],
   "source": [
    "#3.Feature Engineering for latitude and longitude variable\n",
    "# -> As we have latitude and longitude data for pickup and dropoff, we will find the distance the cab travelled from pickup and dropoff location."
   ]
  },
  {
   "cell_type": "code",
   "execution_count": 54,
   "metadata": {
    "collapsed": false
   },
   "outputs": [],
   "source": [
    "def haversine(coord1, coord2):\n",
    "#     '''Calculate distance the cab travelled from pickup and dropoff location using the Haversine Formula'''\n",
    "     data = [train, test]\n",
    "     for i in data:\n",
    "         lon1, lat1 = coord1\n",
    "         lon2, lat2 = coord2\n",
    "         R = 6371000  # radius of Earth in meters\n",
    "         phi_1 = np.radians(i[lat1])\n",
    "         phi_2 = np.radians(i[lat2])\n",
    "         delta_phi = np.radians(i[lat2] - i[lat1])\n",
    "         delta_lambda = np.radians(i[lon2] - i[lon1])\n",
    "         a = np.sin(delta_phi / 2.0) ** 2 + np.cos(phi_1) * np.cos(phi_2) * np.sin(delta_lambda / 2.0) ** 2\n",
    "         c = 2 * np.arctan2(np.sqrt(a), np.sqrt(1 - a))\n",
    "         meters = R * c  # output distance in meters\n",
    "         km = meters / 1000.0  # output distance in kilometers\n",
    "         miles = round(km, 3)/1.609344\n",
    "         i['distance'] = miles\n",
    "     print(f\"Distance: {miles} miles\")\n",
    "     return miles"
   ]
  },
  {
   "cell_type": "code",
   "execution_count": 0,
   "metadata": {
    "collapsed": false
   },
   "outputs": [],
   "source": [
    "#haversine(['pickup_longitude','pickup_latitude'],['dropoff_longitude','dropoff_latitude'])"
   ]
  },
  {
   "cell_type": "code",
   "execution_count": 34,
   "metadata": {
    "collapsed": false
   },
   "outputs": [],
   "source": [
    "# Calculate distance the cab travelled from pickup and dropoff location using great_circle from geopy library\n",
    "data = [train, test]\n",
    "for i in data:\n",
    "    i['great_circle']=i.apply(lambda x: great_circle((x['pickup_latitude'],x['pickup_longitude']), (x['dropoff_latitude'],   x['dropoff_longitude'])).miles, axis=1)\n",
    "    i['geodesic']=i.apply(lambda x: geodesic((x['pickup_latitude'],x['pickup_longitude']), (x['dropoff_latitude'],   x['dropoff_longitude'])).miles, axis=1)"
   ]
  },
  {
   "cell_type": "code",
   "execution_count": 35,
   "metadata": {
    "collapsed": false
   },
   "outputs": [
    {
     "data": {
      "text/html": [
       "<div>\n",
       "<style scoped>\n",
       "    .dataframe tbody tr th:only-of-type {\n",
       "        vertical-align: middle;\n",
       "    }\n",
       "\n",
       "    .dataframe tbody tr th {\n",
       "        vertical-align: top;\n",
       "    }\n",
       "\n",
       "    .dataframe thead th {\n",
       "        text-align: right;\n",
       "    }\n",
       "</style>\n",
       "<table border=\"1\" class=\"dataframe\">\n",
       "  <thead>\n",
       "    <tr style=\"text-align: right;\">\n",
       "      <th></th>\n",
       "      <th>fare_amount</th>\n",
       "      <th>pickup_datetime</th>\n",
       "      <th>pickup_longitude</th>\n",
       "      <th>pickup_latitude</th>\n",
       "      <th>dropoff_longitude</th>\n",
       "      <th>dropoff_latitude</th>\n",
       "      <th>passenger_count</th>\n",
       "      <th>year</th>\n",
       "      <th>month</th>\n",
       "      <th>day_of_week</th>\n",
       "      <th>...</th>\n",
       "      <th>session_night_AM</th>\n",
       "      <th>session_night_PM</th>\n",
       "      <th>year_2010</th>\n",
       "      <th>year_2011</th>\n",
       "      <th>year_2012</th>\n",
       "      <th>year_2013</th>\n",
       "      <th>year_2014</th>\n",
       "      <th>year_2015</th>\n",
       "      <th>great_circle</th>\n",
       "      <th>geodesic</th>\n",
       "    </tr>\n",
       "  </thead>\n",
       "  <tbody>\n",
       "    <tr>\n",
       "      <th>0</th>\n",
       "      <td>4.5</td>\n",
       "      <td>2009-06-15 17:26:21+00:00</td>\n",
       "      <td>-73.981716</td>\n",
       "      <td>40.721319</td>\n",
       "      <td>-73.980097</td>\n",
       "      <td>40.712278</td>\n",
       "      <td>1</td>\n",
       "      <td>2009</td>\n",
       "      <td>6</td>\n",
       "      <td>0</td>\n",
       "      <td>...</td>\n",
       "      <td>0</td>\n",
       "      <td>0</td>\n",
       "      <td>0</td>\n",
       "      <td>0</td>\n",
       "      <td>0</td>\n",
       "      <td>0</td>\n",
       "      <td>0</td>\n",
       "      <td>0</td>\n",
       "      <td>0.630406</td>\n",
       "      <td>0.629618</td>\n",
       "    </tr>\n",
       "    <tr>\n",
       "      <th>1</th>\n",
       "      <td>16.9</td>\n",
       "      <td>2010-01-05 16:52:16+00:00</td>\n",
       "      <td>-74.016048</td>\n",
       "      <td>40.711303</td>\n",
       "      <td>-73.979268</td>\n",
       "      <td>40.782004</td>\n",
       "      <td>1</td>\n",
       "      <td>2010</td>\n",
       "      <td>1</td>\n",
       "      <td>1</td>\n",
       "      <td>...</td>\n",
       "      <td>0</td>\n",
       "      <td>0</td>\n",
       "      <td>1</td>\n",
       "      <td>0</td>\n",
       "      <td>0</td>\n",
       "      <td>0</td>\n",
       "      <td>0</td>\n",
       "      <td>0</td>\n",
       "      <td>5.250677</td>\n",
       "      <td>5.246511</td>\n",
       "    </tr>\n",
       "    <tr>\n",
       "      <th>2</th>\n",
       "      <td>5.7</td>\n",
       "      <td>2011-08-18 00:35:00+00:00</td>\n",
       "      <td>-73.982738</td>\n",
       "      <td>40.761270</td>\n",
       "      <td>-73.991242</td>\n",
       "      <td>40.750562</td>\n",
       "      <td>2</td>\n",
       "      <td>2011</td>\n",
       "      <td>8</td>\n",
       "      <td>3</td>\n",
       "      <td>...</td>\n",
       "      <td>1</td>\n",
       "      <td>0</td>\n",
       "      <td>0</td>\n",
       "      <td>1</td>\n",
       "      <td>0</td>\n",
       "      <td>0</td>\n",
       "      <td>0</td>\n",
       "      <td>0</td>\n",
       "      <td>0.863412</td>\n",
       "      <td>0.863167</td>\n",
       "    </tr>\n",
       "    <tr>\n",
       "      <th>3</th>\n",
       "      <td>7.7</td>\n",
       "      <td>2012-04-21 04:30:42+00:00</td>\n",
       "      <td>-73.987130</td>\n",
       "      <td>40.733143</td>\n",
       "      <td>-73.991567</td>\n",
       "      <td>40.758092</td>\n",
       "      <td>1</td>\n",
       "      <td>2012</td>\n",
       "      <td>4</td>\n",
       "      <td>5</td>\n",
       "      <td>...</td>\n",
       "      <td>1</td>\n",
       "      <td>0</td>\n",
       "      <td>0</td>\n",
       "      <td>0</td>\n",
       "      <td>1</td>\n",
       "      <td>0</td>\n",
       "      <td>0</td>\n",
       "      <td>0</td>\n",
       "      <td>1.739388</td>\n",
       "      <td>1.737223</td>\n",
       "    </tr>\n",
       "    <tr>\n",
       "      <th>4</th>\n",
       "      <td>5.3</td>\n",
       "      <td>2010-03-09 07:51:00+00:00</td>\n",
       "      <td>-73.968095</td>\n",
       "      <td>40.768008</td>\n",
       "      <td>-73.956655</td>\n",
       "      <td>40.783762</td>\n",
       "      <td>1</td>\n",
       "      <td>2010</td>\n",
       "      <td>3</td>\n",
       "      <td>1</td>\n",
       "      <td>...</td>\n",
       "      <td>0</td>\n",
       "      <td>0</td>\n",
       "      <td>1</td>\n",
       "      <td>0</td>\n",
       "      <td>0</td>\n",
       "      <td>0</td>\n",
       "      <td>0</td>\n",
       "      <td>0</td>\n",
       "      <td>1.242220</td>\n",
       "      <td>1.241710</td>\n",
       "    </tr>\n",
       "  </tbody>\n",
       "</table>\n",
       "<p>5 rows × 35 columns</p>\n",
       "</div>"
      ],
      "text/plain": [
       "   fare_amount           pickup_datetime  pickup_longitude  pickup_latitude  \\\n",
       "0          4.5 2009-06-15 17:26:21+00:00        -73.981716        40.721319   \n",
       "1         16.9 2010-01-05 16:52:16+00:00        -74.016048        40.711303   \n",
       "2          5.7 2011-08-18 00:35:00+00:00        -73.982738        40.761270   \n",
       "3          7.7 2012-04-21 04:30:42+00:00        -73.987130        40.733143   \n",
       "4          5.3 2010-03-09 07:51:00+00:00        -73.968095        40.768008   \n",
       "\n",
       "   dropoff_longitude  dropoff_latitude passenger_count  year  month  \\\n",
       "0         -73.980097         40.712278               1  2009      6   \n",
       "1         -73.979268         40.782004               1  2010      1   \n",
       "2         -73.991242         40.750562               2  2011      8   \n",
       "3         -73.991567         40.758092               1  2012      4   \n",
       "4         -73.956655         40.783762               1  2010      3   \n",
       "\n",
       "   day_of_week  ...  session_night_AM session_night_PM year_2010 year_2011  \\\n",
       "0            0  ...                 0                0         0         0   \n",
       "1            1  ...                 0                0         1         0   \n",
       "2            3  ...                 1                0         0         1   \n",
       "3            5  ...                 1                0         0         0   \n",
       "4            1  ...                 0                0         1         0   \n",
       "\n",
       "   year_2012  year_2013  year_2014  year_2015  great_circle  geodesic  \n",
       "0          0          0          0          0      0.630406  0.629618  \n",
       "1          0          0          0          0      5.250677  5.246511  \n",
       "2          0          0          0          0      0.863412  0.863167  \n",
       "3          1          0          0          0      1.739388  1.737223  \n",
       "4          0          0          0          0      1.242220  1.241710  \n",
       "\n",
       "[5 rows x 35 columns]"
      ]
     },
     "execution_count": 35,
     "metadata": {},
     "output_type": "execute_result"
    }
   ],
   "source": [
    "train.head()"
   ]
  },
  {
   "cell_type": "code",
   "execution_count": 36,
   "metadata": {
    "collapsed": false
   },
   "outputs": [
    {
     "data": {
      "text/html": [
       "<div>\n",
       "<style scoped>\n",
       "    .dataframe tbody tr th:only-of-type {\n",
       "        vertical-align: middle;\n",
       "    }\n",
       "\n",
       "    .dataframe tbody tr th {\n",
       "        vertical-align: top;\n",
       "    }\n",
       "\n",
       "    .dataframe thead th {\n",
       "        text-align: right;\n",
       "    }\n",
       "</style>\n",
       "<table border=\"1\" class=\"dataframe\">\n",
       "  <thead>\n",
       "    <tr style=\"text-align: right;\">\n",
       "      <th></th>\n",
       "      <th>pickup_datetime</th>\n",
       "      <th>pickup_longitude</th>\n",
       "      <th>pickup_latitude</th>\n",
       "      <th>dropoff_longitude</th>\n",
       "      <th>dropoff_latitude</th>\n",
       "      <th>passenger_count</th>\n",
       "      <th>year</th>\n",
       "      <th>month</th>\n",
       "      <th>day_of_week</th>\n",
       "      <th>hour</th>\n",
       "      <th>...</th>\n",
       "      <th>session_night_AM</th>\n",
       "      <th>session_night_PM</th>\n",
       "      <th>year_2010</th>\n",
       "      <th>year_2011</th>\n",
       "      <th>year_2012</th>\n",
       "      <th>year_2013</th>\n",
       "      <th>year_2014</th>\n",
       "      <th>year_2015</th>\n",
       "      <th>great_circle</th>\n",
       "      <th>geodesic</th>\n",
       "    </tr>\n",
       "  </thead>\n",
       "  <tbody>\n",
       "    <tr>\n",
       "      <th>0</th>\n",
       "      <td>2015-01-27 13:08:24+00:00</td>\n",
       "      <td>-73.973320</td>\n",
       "      <td>40.763805</td>\n",
       "      <td>-73.981430</td>\n",
       "      <td>40.743835</td>\n",
       "      <td>1</td>\n",
       "      <td>2015</td>\n",
       "      <td>1</td>\n",
       "      <td>1</td>\n",
       "      <td>13</td>\n",
       "      <td>...</td>\n",
       "      <td>0</td>\n",
       "      <td>0</td>\n",
       "      <td>0</td>\n",
       "      <td>0</td>\n",
       "      <td>0</td>\n",
       "      <td>0</td>\n",
       "      <td>0</td>\n",
       "      <td>1</td>\n",
       "      <td>1.443609</td>\n",
       "      <td>1.442197</td>\n",
       "    </tr>\n",
       "    <tr>\n",
       "      <th>1</th>\n",
       "      <td>2015-01-27 13:08:24+00:00</td>\n",
       "      <td>-73.986862</td>\n",
       "      <td>40.719383</td>\n",
       "      <td>-73.998886</td>\n",
       "      <td>40.739201</td>\n",
       "      <td>1</td>\n",
       "      <td>2015</td>\n",
       "      <td>1</td>\n",
       "      <td>1</td>\n",
       "      <td>13</td>\n",
       "      <td>...</td>\n",
       "      <td>0</td>\n",
       "      <td>0</td>\n",
       "      <td>0</td>\n",
       "      <td>0</td>\n",
       "      <td>0</td>\n",
       "      <td>0</td>\n",
       "      <td>0</td>\n",
       "      <td>1</td>\n",
       "      <td>1.507047</td>\n",
       "      <td>1.506080</td>\n",
       "    </tr>\n",
       "    <tr>\n",
       "      <th>2</th>\n",
       "      <td>2011-10-08 11:53:44+00:00</td>\n",
       "      <td>-73.982524</td>\n",
       "      <td>40.751260</td>\n",
       "      <td>-73.979654</td>\n",
       "      <td>40.746139</td>\n",
       "      <td>1</td>\n",
       "      <td>2011</td>\n",
       "      <td>10</td>\n",
       "      <td>5</td>\n",
       "      <td>11</td>\n",
       "      <td>...</td>\n",
       "      <td>0</td>\n",
       "      <td>0</td>\n",
       "      <td>0</td>\n",
       "      <td>1</td>\n",
       "      <td>0</td>\n",
       "      <td>0</td>\n",
       "      <td>0</td>\n",
       "      <td>0</td>\n",
       "      <td>0.384398</td>\n",
       "      <td>0.384120</td>\n",
       "    </tr>\n",
       "    <tr>\n",
       "      <th>3</th>\n",
       "      <td>2012-12-01 21:12:12+00:00</td>\n",
       "      <td>-73.981160</td>\n",
       "      <td>40.767807</td>\n",
       "      <td>-73.990448</td>\n",
       "      <td>40.751635</td>\n",
       "      <td>1</td>\n",
       "      <td>2012</td>\n",
       "      <td>12</td>\n",
       "      <td>5</td>\n",
       "      <td>21</td>\n",
       "      <td>...</td>\n",
       "      <td>0</td>\n",
       "      <td>1</td>\n",
       "      <td>0</td>\n",
       "      <td>0</td>\n",
       "      <td>1</td>\n",
       "      <td>0</td>\n",
       "      <td>0</td>\n",
       "      <td>0</td>\n",
       "      <td>1.218531</td>\n",
       "      <td>1.217683</td>\n",
       "    </tr>\n",
       "    <tr>\n",
       "      <th>4</th>\n",
       "      <td>2012-12-01 21:12:12+00:00</td>\n",
       "      <td>-73.966046</td>\n",
       "      <td>40.789775</td>\n",
       "      <td>-73.988565</td>\n",
       "      <td>40.744427</td>\n",
       "      <td>1</td>\n",
       "      <td>2012</td>\n",
       "      <td>12</td>\n",
       "      <td>5</td>\n",
       "      <td>21</td>\n",
       "      <td>...</td>\n",
       "      <td>0</td>\n",
       "      <td>1</td>\n",
       "      <td>0</td>\n",
       "      <td>0</td>\n",
       "      <td>1</td>\n",
       "      <td>0</td>\n",
       "      <td>0</td>\n",
       "      <td>0</td>\n",
       "      <td>3.347519</td>\n",
       "      <td>3.344737</td>\n",
       "    </tr>\n",
       "  </tbody>\n",
       "</table>\n",
       "<p>5 rows × 34 columns</p>\n",
       "</div>"
      ],
      "text/plain": [
       "            pickup_datetime  pickup_longitude  pickup_latitude  \\\n",
       "0 2015-01-27 13:08:24+00:00        -73.973320        40.763805   \n",
       "1 2015-01-27 13:08:24+00:00        -73.986862        40.719383   \n",
       "2 2011-10-08 11:53:44+00:00        -73.982524        40.751260   \n",
       "3 2012-12-01 21:12:12+00:00        -73.981160        40.767807   \n",
       "4 2012-12-01 21:12:12+00:00        -73.966046        40.789775   \n",
       "\n",
       "   dropoff_longitude  dropoff_latitude  passenger_count  year  month  \\\n",
       "0         -73.981430         40.743835                1  2015      1   \n",
       "1         -73.998886         40.739201                1  2015      1   \n",
       "2         -73.979654         40.746139                1  2011     10   \n",
       "3         -73.990448         40.751635                1  2012     12   \n",
       "4         -73.988565         40.744427                1  2012     12   \n",
       "\n",
       "   day_of_week  hour  ... session_night_AM session_night_PM year_2010  \\\n",
       "0            1    13  ...                0                0         0   \n",
       "1            1    13  ...                0                0         0   \n",
       "2            5    11  ...                0                0         0   \n",
       "3            5    21  ...                0                1         0   \n",
       "4            5    21  ...                0                1         0   \n",
       "\n",
       "   year_2011  year_2012  year_2013  year_2014  year_2015  great_circle  \\\n",
       "0          0          0          0          0          1      1.443609   \n",
       "1          0          0          0          0          1      1.507047   \n",
       "2          1          0          0          0          0      0.384398   \n",
       "3          0          1          0          0          0      1.218531   \n",
       "4          0          1          0          0          0      3.347519   \n",
       "\n",
       "   geodesic  \n",
       "0  1.442197  \n",
       "1  1.506080  \n",
       "2  0.384120  \n",
       "3  1.217683  \n",
       "4  3.344737  \n",
       "\n",
       "[5 rows x 34 columns]"
      ]
     },
     "execution_count": 36,
     "metadata": {},
     "output_type": "execute_result"
    }
   ],
   "source": [
    "test.head()"
   ]
  },
  {
   "cell_type": "code",
   "execution_count": 0,
   "metadata": {
    "collapsed": false
   },
   "outputs": [],
   "source": [
    "#As Vincenty is more accurate than haversine. Also vincenty is prefered for short distances.Therefore we will drop great_circle. we will drop them together with other variables which were used to feature engineer."
   ]
  },
  {
   "cell_type": "code",
   "execution_count": 0,
   "metadata": {
    "collapsed": false
   },
   "outputs": [],
   "source": [
    "#pd.DataFrame(train.isna().sum())"
   ]
  },
  {
   "cell_type": "code",
   "execution_count": 0,
   "metadata": {
    "collapsed": false
   },
   "outputs": [],
   "source": [
    "#We will remove the variables which were used to feature engineer new variables"
   ]
  },
  {
   "cell_type": "code",
   "execution_count": 29,
   "metadata": {
    "collapsed": false
   },
   "outputs": [
    {
     "data": {
      "text/plain": [
       "Index(['fare_amount', 'pickup_datetime', 'pickup_longitude', 'pickup_latitude',\n",
       "       'dropoff_longitude', 'dropoff_latitude', 'passenger_count', 'year',\n",
       "       'month', 'day_of_week', 'hour', 'session', 'seasons', 'week',\n",
       "       'passenger_count_2', 'passenger_count_3', 'passenger_count_4',\n",
       "       'passenger_count_5', 'passenger_count_6', 'season_spring',\n",
       "       'season_summer', 'season_winter', 'week_weekend', 'session_evening',\n",
       "       'session_morning', 'session_night_AM', 'session_night_PM', 'year_2010',\n",
       "       'year_2011', 'year_2012', 'year_2013', 'year_2014', 'year_2015',\n",
       "       'great_circle', 'geodesic'],\n",
       "      dtype='object')"
      ]
     },
     "execution_count": 29,
     "metadata": {},
     "output_type": "execute_result"
    }
   ],
   "source": [
    "train.columns"
   ]
  },
  {
   "cell_type": "code",
   "execution_count": 37,
   "metadata": {
    "collapsed": false
   },
   "outputs": [],
   "source": [
    "train=train.drop(['pickup_datetime','pickup_longitude', 'pickup_latitude',\n",
    "       'dropoff_longitude', 'dropoff_latitude', 'passenger_count', 'year',\n",
    "       'month', 'day_of_week', 'hour', 'session', 'seasons', 'week','great_circle'],axis=1)\n",
    "test=test.drop(['pickup_datetime','pickup_longitude', 'pickup_latitude',\n",
    "       'dropoff_longitude', 'dropoff_latitude', 'passenger_count', 'year',\n",
    "       'month', 'day_of_week', 'hour', 'session', 'seasons', 'week','great_circle'],axis=1)"
   ]
  },
  {
   "cell_type": "code",
   "execution_count": 38,
   "metadata": {
    "collapsed": false
   },
   "outputs": [
    {
     "data": {
      "text/plain": [
       "((15444, 21), (9914, 20))"
      ]
     },
     "execution_count": 38,
     "metadata": {},
     "output_type": "execute_result"
    }
   ],
   "source": [
    "train.shape,test.shape"
   ]
  },
  {
   "cell_type": "code",
   "execution_count": 32,
   "metadata": {
    "collapsed": false
   },
   "outputs": [
    {
     "data": {
      "text/plain": [
       "Index(['fare_amount', 'passenger_count_2', 'passenger_count_3',\n",
       "       'passenger_count_4', 'passenger_count_5', 'passenger_count_6',\n",
       "       'season_spring', 'season_summer', 'season_winter', 'week_weekend',\n",
       "       'session_evening', 'session_morning', 'session_night_AM',\n",
       "       'session_night_PM', 'year_2010', 'year_2011', 'year_2012', 'year_2013',\n",
       "       'year_2014', 'year_2015', 'geodesic'],\n",
       "      dtype='object')"
      ]
     },
     "execution_count": 32,
     "metadata": {},
     "output_type": "execute_result"
    }
   ],
   "source": [
    "train.columns"
   ]
  },
  {
   "cell_type": "code",
   "execution_count": 33,
   "metadata": {
    "collapsed": false
   },
   "outputs": [
    {
     "data": {
      "text/plain": [
       "Index(['passenger_count_2', 'passenger_count_3', 'passenger_count_4',\n",
       "       'passenger_count_5', 'passenger_count_6', 'season_spring',\n",
       "       'season_summer', 'season_winter', 'week_weekend', 'session_evening',\n",
       "       'session_morning', 'session_night_AM', 'session_night_PM', 'year_2010',\n",
       "       'year_2011', 'year_2012', 'year_2013', 'year_2014', 'year_2015',\n",
       "       'geodesic'],\n",
       "      dtype='object')"
      ]
     },
     "execution_count": 33,
     "metadata": {},
     "output_type": "execute_result"
    }
   ],
   "source": [
    "test.columns"
   ]
  },
  {
   "cell_type": "code",
   "execution_count": 39,
   "metadata": {
    "collapsed": false
   },
   "outputs": [
    {
     "data": {
      "text/html": [
       "<div>\n",
       "<style scoped>\n",
       "    .dataframe tbody tr th:only-of-type {\n",
       "        vertical-align: middle;\n",
       "    }\n",
       "\n",
       "    .dataframe tbody tr th {\n",
       "        vertical-align: top;\n",
       "    }\n",
       "\n",
       "    .dataframe thead th {\n",
       "        text-align: right;\n",
       "    }\n",
       "</style>\n",
       "<table border=\"1\" class=\"dataframe\">\n",
       "  <thead>\n",
       "    <tr style=\"text-align: right;\">\n",
       "      <th></th>\n",
       "      <th>fare_amount</th>\n",
       "      <th>passenger_count_2</th>\n",
       "      <th>passenger_count_3</th>\n",
       "      <th>passenger_count_4</th>\n",
       "      <th>passenger_count_5</th>\n",
       "      <th>passenger_count_6</th>\n",
       "      <th>season_spring</th>\n",
       "      <th>season_summer</th>\n",
       "      <th>season_winter</th>\n",
       "      <th>week_weekend</th>\n",
       "      <th>...</th>\n",
       "      <th>session_morning</th>\n",
       "      <th>session_night_AM</th>\n",
       "      <th>session_night_PM</th>\n",
       "      <th>year_2010</th>\n",
       "      <th>year_2011</th>\n",
       "      <th>year_2012</th>\n",
       "      <th>year_2013</th>\n",
       "      <th>year_2014</th>\n",
       "      <th>year_2015</th>\n",
       "      <th>geodesic</th>\n",
       "    </tr>\n",
       "  </thead>\n",
       "  <tbody>\n",
       "    <tr>\n",
       "      <th>0</th>\n",
       "      <td>4.5</td>\n",
       "      <td>0</td>\n",
       "      <td>0</td>\n",
       "      <td>0</td>\n",
       "      <td>0</td>\n",
       "      <td>0</td>\n",
       "      <td>0</td>\n",
       "      <td>1</td>\n",
       "      <td>0</td>\n",
       "      <td>0</td>\n",
       "      <td>...</td>\n",
       "      <td>0</td>\n",
       "      <td>0</td>\n",
       "      <td>0</td>\n",
       "      <td>0</td>\n",
       "      <td>0</td>\n",
       "      <td>0</td>\n",
       "      <td>0</td>\n",
       "      <td>0</td>\n",
       "      <td>0</td>\n",
       "      <td>0.629618</td>\n",
       "    </tr>\n",
       "    <tr>\n",
       "      <th>1</th>\n",
       "      <td>16.9</td>\n",
       "      <td>0</td>\n",
       "      <td>0</td>\n",
       "      <td>0</td>\n",
       "      <td>0</td>\n",
       "      <td>0</td>\n",
       "      <td>0</td>\n",
       "      <td>0</td>\n",
       "      <td>1</td>\n",
       "      <td>0</td>\n",
       "      <td>...</td>\n",
       "      <td>0</td>\n",
       "      <td>0</td>\n",
       "      <td>0</td>\n",
       "      <td>1</td>\n",
       "      <td>0</td>\n",
       "      <td>0</td>\n",
       "      <td>0</td>\n",
       "      <td>0</td>\n",
       "      <td>0</td>\n",
       "      <td>5.246511</td>\n",
       "    </tr>\n",
       "    <tr>\n",
       "      <th>2</th>\n",
       "      <td>5.7</td>\n",
       "      <td>1</td>\n",
       "      <td>0</td>\n",
       "      <td>0</td>\n",
       "      <td>0</td>\n",
       "      <td>0</td>\n",
       "      <td>0</td>\n",
       "      <td>1</td>\n",
       "      <td>0</td>\n",
       "      <td>0</td>\n",
       "      <td>...</td>\n",
       "      <td>0</td>\n",
       "      <td>1</td>\n",
       "      <td>0</td>\n",
       "      <td>0</td>\n",
       "      <td>1</td>\n",
       "      <td>0</td>\n",
       "      <td>0</td>\n",
       "      <td>0</td>\n",
       "      <td>0</td>\n",
       "      <td>0.863167</td>\n",
       "    </tr>\n",
       "    <tr>\n",
       "      <th>3</th>\n",
       "      <td>7.7</td>\n",
       "      <td>0</td>\n",
       "      <td>0</td>\n",
       "      <td>0</td>\n",
       "      <td>0</td>\n",
       "      <td>0</td>\n",
       "      <td>1</td>\n",
       "      <td>0</td>\n",
       "      <td>0</td>\n",
       "      <td>1</td>\n",
       "      <td>...</td>\n",
       "      <td>0</td>\n",
       "      <td>1</td>\n",
       "      <td>0</td>\n",
       "      <td>0</td>\n",
       "      <td>0</td>\n",
       "      <td>1</td>\n",
       "      <td>0</td>\n",
       "      <td>0</td>\n",
       "      <td>0</td>\n",
       "      <td>1.737223</td>\n",
       "    </tr>\n",
       "    <tr>\n",
       "      <th>4</th>\n",
       "      <td>5.3</td>\n",
       "      <td>0</td>\n",
       "      <td>0</td>\n",
       "      <td>0</td>\n",
       "      <td>0</td>\n",
       "      <td>0</td>\n",
       "      <td>1</td>\n",
       "      <td>0</td>\n",
       "      <td>0</td>\n",
       "      <td>0</td>\n",
       "      <td>...</td>\n",
       "      <td>1</td>\n",
       "      <td>0</td>\n",
       "      <td>0</td>\n",
       "      <td>1</td>\n",
       "      <td>0</td>\n",
       "      <td>0</td>\n",
       "      <td>0</td>\n",
       "      <td>0</td>\n",
       "      <td>0</td>\n",
       "      <td>1.241710</td>\n",
       "    </tr>\n",
       "  </tbody>\n",
       "</table>\n",
       "<p>5 rows × 21 columns</p>\n",
       "</div>"
      ],
      "text/plain": [
       "   fare_amount  passenger_count_2  passenger_count_3  passenger_count_4  \\\n",
       "0          4.5                  0                  0                  0   \n",
       "1         16.9                  0                  0                  0   \n",
       "2          5.7                  1                  0                  0   \n",
       "3          7.7                  0                  0                  0   \n",
       "4          5.3                  0                  0                  0   \n",
       "\n",
       "   passenger_count_5  passenger_count_6  season_spring  season_summer  \\\n",
       "0                  0                  0              0              1   \n",
       "1                  0                  0              0              0   \n",
       "2                  0                  0              0              1   \n",
       "3                  0                  0              1              0   \n",
       "4                  0                  0              1              0   \n",
       "\n",
       "   season_winter  week_weekend  ...  session_morning  session_night_AM  \\\n",
       "0              0             0  ...                0                 0   \n",
       "1              1             0  ...                0                 0   \n",
       "2              0             0  ...                0                 1   \n",
       "3              0             1  ...                0                 1   \n",
       "4              0             0  ...                1                 0   \n",
       "\n",
       "   session_night_PM  year_2010  year_2011  year_2012  year_2013  year_2014  \\\n",
       "0                 0          0          0          0          0          0   \n",
       "1                 0          1          0          0          0          0   \n",
       "2                 0          0          1          0          0          0   \n",
       "3                 0          0          0          1          0          0   \n",
       "4                 0          1          0          0          0          0   \n",
       "\n",
       "   year_2015  geodesic  \n",
       "0          0  0.629618  \n",
       "1          0  5.246511  \n",
       "2          0  0.863167  \n",
       "3          0  1.737223  \n",
       "4          0  1.241710  \n",
       "\n",
       "[5 rows x 21 columns]"
      ]
     },
     "execution_count": 39,
     "metadata": {},
     "output_type": "execute_result"
    }
   ],
   "source": [
    "train.head()"
   ]
  },
  {
   "cell_type": "code",
   "execution_count": 40,
   "metadata": {
    "collapsed": false
   },
   "outputs": [
    {
     "data": {
      "text/html": [
       "<div>\n",
       "<style scoped>\n",
       "    .dataframe tbody tr th:only-of-type {\n",
       "        vertical-align: middle;\n",
       "    }\n",
       "\n",
       "    .dataframe tbody tr th {\n",
       "        vertical-align: top;\n",
       "    }\n",
       "\n",
       "    .dataframe thead th {\n",
       "        text-align: right;\n",
       "    }\n",
       "</style>\n",
       "<table border=\"1\" class=\"dataframe\">\n",
       "  <thead>\n",
       "    <tr style=\"text-align: right;\">\n",
       "      <th></th>\n",
       "      <th>passenger_count_2</th>\n",
       "      <th>passenger_count_3</th>\n",
       "      <th>passenger_count_4</th>\n",
       "      <th>passenger_count_5</th>\n",
       "      <th>passenger_count_6</th>\n",
       "      <th>season_spring</th>\n",
       "      <th>season_summer</th>\n",
       "      <th>season_winter</th>\n",
       "      <th>week_weekend</th>\n",
       "      <th>session_evening</th>\n",
       "      <th>session_morning</th>\n",
       "      <th>session_night_AM</th>\n",
       "      <th>session_night_PM</th>\n",
       "      <th>year_2010</th>\n",
       "      <th>year_2011</th>\n",
       "      <th>year_2012</th>\n",
       "      <th>year_2013</th>\n",
       "      <th>year_2014</th>\n",
       "      <th>year_2015</th>\n",
       "      <th>geodesic</th>\n",
       "    </tr>\n",
       "  </thead>\n",
       "  <tbody>\n",
       "    <tr>\n",
       "      <th>0</th>\n",
       "      <td>0</td>\n",
       "      <td>0</td>\n",
       "      <td>0</td>\n",
       "      <td>0</td>\n",
       "      <td>0</td>\n",
       "      <td>0</td>\n",
       "      <td>0</td>\n",
       "      <td>1</td>\n",
       "      <td>0</td>\n",
       "      <td>0</td>\n",
       "      <td>0</td>\n",
       "      <td>0</td>\n",
       "      <td>0</td>\n",
       "      <td>0</td>\n",
       "      <td>0</td>\n",
       "      <td>0</td>\n",
       "      <td>0</td>\n",
       "      <td>0</td>\n",
       "      <td>1</td>\n",
       "      <td>1.442197</td>\n",
       "    </tr>\n",
       "    <tr>\n",
       "      <th>1</th>\n",
       "      <td>0</td>\n",
       "      <td>0</td>\n",
       "      <td>0</td>\n",
       "      <td>0</td>\n",
       "      <td>0</td>\n",
       "      <td>0</td>\n",
       "      <td>0</td>\n",
       "      <td>1</td>\n",
       "      <td>0</td>\n",
       "      <td>0</td>\n",
       "      <td>0</td>\n",
       "      <td>0</td>\n",
       "      <td>0</td>\n",
       "      <td>0</td>\n",
       "      <td>0</td>\n",
       "      <td>0</td>\n",
       "      <td>0</td>\n",
       "      <td>0</td>\n",
       "      <td>1</td>\n",
       "      <td>1.506080</td>\n",
       "    </tr>\n",
       "    <tr>\n",
       "      <th>2</th>\n",
       "      <td>0</td>\n",
       "      <td>0</td>\n",
       "      <td>0</td>\n",
       "      <td>0</td>\n",
       "      <td>0</td>\n",
       "      <td>0</td>\n",
       "      <td>0</td>\n",
       "      <td>0</td>\n",
       "      <td>1</td>\n",
       "      <td>0</td>\n",
       "      <td>1</td>\n",
       "      <td>0</td>\n",
       "      <td>0</td>\n",
       "      <td>0</td>\n",
       "      <td>1</td>\n",
       "      <td>0</td>\n",
       "      <td>0</td>\n",
       "      <td>0</td>\n",
       "      <td>0</td>\n",
       "      <td>0.384120</td>\n",
       "    </tr>\n",
       "    <tr>\n",
       "      <th>3</th>\n",
       "      <td>0</td>\n",
       "      <td>0</td>\n",
       "      <td>0</td>\n",
       "      <td>0</td>\n",
       "      <td>0</td>\n",
       "      <td>0</td>\n",
       "      <td>0</td>\n",
       "      <td>1</td>\n",
       "      <td>1</td>\n",
       "      <td>0</td>\n",
       "      <td>0</td>\n",
       "      <td>0</td>\n",
       "      <td>1</td>\n",
       "      <td>0</td>\n",
       "      <td>0</td>\n",
       "      <td>1</td>\n",
       "      <td>0</td>\n",
       "      <td>0</td>\n",
       "      <td>0</td>\n",
       "      <td>1.217683</td>\n",
       "    </tr>\n",
       "    <tr>\n",
       "      <th>4</th>\n",
       "      <td>0</td>\n",
       "      <td>0</td>\n",
       "      <td>0</td>\n",
       "      <td>0</td>\n",
       "      <td>0</td>\n",
       "      <td>0</td>\n",
       "      <td>0</td>\n",
       "      <td>1</td>\n",
       "      <td>1</td>\n",
       "      <td>0</td>\n",
       "      <td>0</td>\n",
       "      <td>0</td>\n",
       "      <td>1</td>\n",
       "      <td>0</td>\n",
       "      <td>0</td>\n",
       "      <td>1</td>\n",
       "      <td>0</td>\n",
       "      <td>0</td>\n",
       "      <td>0</td>\n",
       "      <td>3.344737</td>\n",
       "    </tr>\n",
       "  </tbody>\n",
       "</table>\n",
       "</div>"
      ],
      "text/plain": [
       "   passenger_count_2  passenger_count_3  passenger_count_4  passenger_count_5  \\\n",
       "0                  0                  0                  0                  0   \n",
       "1                  0                  0                  0                  0   \n",
       "2                  0                  0                  0                  0   \n",
       "3                  0                  0                  0                  0   \n",
       "4                  0                  0                  0                  0   \n",
       "\n",
       "   passenger_count_6  season_spring  season_summer  season_winter  \\\n",
       "0                  0              0              0              1   \n",
       "1                  0              0              0              1   \n",
       "2                  0              0              0              0   \n",
       "3                  0              0              0              1   \n",
       "4                  0              0              0              1   \n",
       "\n",
       "   week_weekend  session_evening  session_morning  session_night_AM  \\\n",
       "0             0                0                0                 0   \n",
       "1             0                0                0                 0   \n",
       "2             1                0                1                 0   \n",
       "3             1                0                0                 0   \n",
       "4             1                0                0                 0   \n",
       "\n",
       "   session_night_PM  year_2010  year_2011  year_2012  year_2013  year_2014  \\\n",
       "0                 0          0          0          0          0          0   \n",
       "1                 0          0          0          0          0          0   \n",
       "2                 0          0          1          0          0          0   \n",
       "3                 1          0          0          1          0          0   \n",
       "4                 1          0          0          1          0          0   \n",
       "\n",
       "   year_2015  geodesic  \n",
       "0          1  1.442197  \n",
       "1          1  1.506080  \n",
       "2          0  0.384120  \n",
       "3          0  1.217683  \n",
       "4          0  3.344737  "
      ]
     },
     "execution_count": 40,
     "metadata": {},
     "output_type": "execute_result"
    }
   ],
   "source": [
    "test.head()"
   ]
  },
  {
   "cell_type": "code",
   "execution_count": 41,
   "metadata": {
    "collapsed": false
   },
   "outputs": [
    {
     "data": {
      "image/png": "[encoded data removed]",
      "text/plain": [
       "<Figure size 1440x360 with 1 Axes>"
      ]
     },
     "execution_count": 41,
     "metadata": {
      "image/png": {
       "height": 331.0,
       "width": 1133.0
      }
     },
     "output_type": "execute_result"
    }
   ],
   "source": [
    "plt.figure(figsize=(20,5)) \n",
    "sns.boxplot(x=train['geodesic'],data=train,orient='h')\n",
    "plt.title('Boxplot of geodesic ')\n",
    "# plt.savefig('bp geodesic.png')\n",
    "plt.show()"
   ]
  },
  {
   "cell_type": "code",
   "execution_count": 42,
   "metadata": {
    "collapsed": false
   },
   "outputs": [
    {
     "data": {
      "image/png": "[encoded data removed]",
      "text/plain": [
       "<Figure size 1440x360 with 1 Axes>"
      ]
     },
     "execution_count": 42,
     "metadata": {
      "image/png": {
       "height": 331.0,
       "width": 1143.0
      }
     },
     "output_type": "execute_result"
    }
   ],
   "source": [
    "plt.figure(figsize=(20,5)) \n",
    "plt.xlim(0,100)\n",
    "sns.boxplot(x=train['geodesic'],data=train,orient='h')\n",
    "plt.title('Boxplot of geodesic ')\n",
    "# plt.savefig('bp geodesic.png')\n",
    "plt.show()"
   ]
  },
  {
   "cell_type": "code",
   "execution_count": 43,
   "metadata": {
    "collapsed": false
   },
   "outputs": [
    {
     "name": "stdout",
     "output_type": "stream",
     "text": [
      "2.0679799869903386 0.7583375055600134\n",
      "-1.2061262165854743 4.032443709135826\n"
     ]
    }
   ],
   "source": [
    "outlier_treatment('geodesic')"
   ]
  },
  {
   "cell_type": "code",
   "execution_count": 39,
   "metadata": {
    "collapsed": false
   },
   "outputs": [
    {
     "data": {
      "text/html": [
       "<div>\n",
       "<style scoped>\n",
       "    .dataframe tbody tr th:only-of-type {\n",
       "        vertical-align: middle;\n",
       "    }\n",
       "\n",
       "    .dataframe tbody tr th {\n",
       "        vertical-align: top;\n",
       "    }\n",
       "\n",
       "    .dataframe thead th {\n",
       "        text-align: right;\n",
       "    }\n",
       "</style>\n",
       "<table border=\"1\" class=\"dataframe\">\n",
       "  <thead>\n",
       "    <tr style=\"text-align: right;\">\n",
       "      <th></th>\n",
       "      <th>0</th>\n",
       "    </tr>\n",
       "  </thead>\n",
       "  <tbody>\n",
       "    <tr>\n",
       "      <th>fare_amount</th>\n",
       "      <td>0</td>\n",
       "    </tr>\n",
       "    <tr>\n",
       "      <th>passenger_count_2</th>\n",
       "      <td>0</td>\n",
       "    </tr>\n",
       "    <tr>\n",
       "      <th>passenger_count_3</th>\n",
       "      <td>0</td>\n",
       "    </tr>\n",
       "    <tr>\n",
       "      <th>passenger_count_4</th>\n",
       "      <td>0</td>\n",
       "    </tr>\n",
       "    <tr>\n",
       "      <th>passenger_count_5</th>\n",
       "      <td>0</td>\n",
       "    </tr>\n",
       "    <tr>\n",
       "      <th>passenger_count_6</th>\n",
       "      <td>0</td>\n",
       "    </tr>\n",
       "    <tr>\n",
       "      <th>season_spring</th>\n",
       "      <td>0</td>\n",
       "    </tr>\n",
       "    <tr>\n",
       "      <th>season_summer</th>\n",
       "      <td>0</td>\n",
       "    </tr>\n",
       "    <tr>\n",
       "      <th>season_winter</th>\n",
       "      <td>0</td>\n",
       "    </tr>\n",
       "    <tr>\n",
       "      <th>week_weekend</th>\n",
       "      <td>0</td>\n",
       "    </tr>\n",
       "    <tr>\n",
       "      <th>session_evening</th>\n",
       "      <td>0</td>\n",
       "    </tr>\n",
       "    <tr>\n",
       "      <th>session_morning</th>\n",
       "      <td>0</td>\n",
       "    </tr>\n",
       "    <tr>\n",
       "      <th>session_night_AM</th>\n",
       "      <td>0</td>\n",
       "    </tr>\n",
       "    <tr>\n",
       "      <th>session_night_PM</th>\n",
       "      <td>0</td>\n",
       "    </tr>\n",
       "    <tr>\n",
       "      <th>year_2010</th>\n",
       "      <td>0</td>\n",
       "    </tr>\n",
       "    <tr>\n",
       "      <th>year_2011</th>\n",
       "      <td>0</td>\n",
       "    </tr>\n",
       "    <tr>\n",
       "      <th>year_2012</th>\n",
       "      <td>0</td>\n",
       "    </tr>\n",
       "    <tr>\n",
       "      <th>year_2013</th>\n",
       "      <td>0</td>\n",
       "    </tr>\n",
       "    <tr>\n",
       "      <th>year_2014</th>\n",
       "      <td>0</td>\n",
       "    </tr>\n",
       "    <tr>\n",
       "      <th>year_2015</th>\n",
       "      <td>0</td>\n",
       "    </tr>\n",
       "    <tr>\n",
       "      <th>geodesic</th>\n",
       "      <td>1348</td>\n",
       "    </tr>\n",
       "  </tbody>\n",
       "</table>\n",
       "</div>"
      ],
      "text/plain": [
       "                      0\n",
       "fare_amount           0\n",
       "passenger_count_2     0\n",
       "passenger_count_3     0\n",
       "passenger_count_4     0\n",
       "passenger_count_5     0\n",
       "passenger_count_6     0\n",
       "season_spring         0\n",
       "season_summer         0\n",
       "season_winter         0\n",
       "week_weekend          0\n",
       "session_evening       0\n",
       "session_morning       0\n",
       "session_night_AM      0\n",
       "session_night_PM      0\n",
       "year_2010             0\n",
       "year_2011             0\n",
       "year_2012             0\n",
       "year_2013             0\n",
       "year_2014             0\n",
       "year_2015             0\n",
       "geodesic           1348"
      ]
     },
     "execution_count": 39,
     "metadata": {},
     "output_type": "execute_result"
    }
   ],
   "source": [
    "pd.DataFrame(train.isnull().sum())"
   ]
  },
  {
   "cell_type": "code",
   "execution_count": 44,
   "metadata": {
    "collapsed": false
   },
   "outputs": [],
   "source": [
    "train['geodesic'].fillna((train['geodesic'].mean()), inplace=True)"
   ]
  },
  {
   "cell_type": "code",
   "execution_count": 0,
   "metadata": {
    "collapsed": false
   },
   "outputs": [],
   "source": [
    "#Imputing with missing values using KNN\n",
    "train = pd.DataFrame(KNN(k = 3).fit_transform(train), columns = train.columns, index=train.index)"
   ]
  },
  {
   "cell_type": "code",
   "execution_count": 47,
   "metadata": {
    "collapsed": false
   },
   "outputs": [
    {
     "data": {
      "text/html": [
       "<div>\n",
       "<style scoped>\n",
       "    .dataframe tbody tr th:only-of-type {\n",
       "        vertical-align: middle;\n",
       "    }\n",
       "\n",
       "    .dataframe tbody tr th {\n",
       "        vertical-align: top;\n",
       "    }\n",
       "\n",
       "    .dataframe thead th {\n",
       "        text-align: right;\n",
       "    }\n",
       "</style>\n",
       "<table border=\"1\" class=\"dataframe\">\n",
       "  <thead>\n",
       "    <tr style=\"text-align: right;\">\n",
       "      <th></th>\n",
       "      <th>0</th>\n",
       "    </tr>\n",
       "  </thead>\n",
       "  <tbody>\n",
       "    <tr>\n",
       "      <th>fare_amount</th>\n",
       "      <td>0</td>\n",
       "    </tr>\n",
       "    <tr>\n",
       "      <th>passenger_count_2</th>\n",
       "      <td>0</td>\n",
       "    </tr>\n",
       "    <tr>\n",
       "      <th>passenger_count_3</th>\n",
       "      <td>0</td>\n",
       "    </tr>\n",
       "    <tr>\n",
       "      <th>passenger_count_4</th>\n",
       "      <td>0</td>\n",
       "    </tr>\n",
       "    <tr>\n",
       "      <th>passenger_count_5</th>\n",
       "      <td>0</td>\n",
       "    </tr>\n",
       "    <tr>\n",
       "      <th>passenger_count_6</th>\n",
       "      <td>0</td>\n",
       "    </tr>\n",
       "    <tr>\n",
       "      <th>season_spring</th>\n",
       "      <td>0</td>\n",
       "    </tr>\n",
       "    <tr>\n",
       "      <th>season_summer</th>\n",
       "      <td>0</td>\n",
       "    </tr>\n",
       "    <tr>\n",
       "      <th>season_winter</th>\n",
       "      <td>0</td>\n",
       "    </tr>\n",
       "    <tr>\n",
       "      <th>week_weekend</th>\n",
       "      <td>0</td>\n",
       "    </tr>\n",
       "    <tr>\n",
       "      <th>session_evening</th>\n",
       "      <td>0</td>\n",
       "    </tr>\n",
       "    <tr>\n",
       "      <th>session_morning</th>\n",
       "      <td>0</td>\n",
       "    </tr>\n",
       "    <tr>\n",
       "      <th>session_night_AM</th>\n",
       "      <td>0</td>\n",
       "    </tr>\n",
       "    <tr>\n",
       "      <th>session_night_PM</th>\n",
       "      <td>0</td>\n",
       "    </tr>\n",
       "    <tr>\n",
       "      <th>year_2010</th>\n",
       "      <td>0</td>\n",
       "    </tr>\n",
       "    <tr>\n",
       "      <th>year_2011</th>\n",
       "      <td>0</td>\n",
       "    </tr>\n",
       "    <tr>\n",
       "      <th>year_2012</th>\n",
       "      <td>0</td>\n",
       "    </tr>\n",
       "    <tr>\n",
       "      <th>year_2013</th>\n",
       "      <td>0</td>\n",
       "    </tr>\n",
       "    <tr>\n",
       "      <th>year_2014</th>\n",
       "      <td>0</td>\n",
       "    </tr>\n",
       "    <tr>\n",
       "      <th>year_2015</th>\n",
       "      <td>0</td>\n",
       "    </tr>\n",
       "    <tr>\n",
       "      <th>geodesic</th>\n",
       "      <td>0</td>\n",
       "    </tr>\n",
       "  </tbody>\n",
       "</table>\n",
       "</div>"
      ],
      "text/plain": [
       "                   0\n",
       "fare_amount        0\n",
       "passenger_count_2  0\n",
       "passenger_count_3  0\n",
       "passenger_count_4  0\n",
       "passenger_count_5  0\n",
       "passenger_count_6  0\n",
       "season_spring      0\n",
       "season_summer      0\n",
       "season_winter      0\n",
       "week_weekend       0\n",
       "session_evening    0\n",
       "session_morning    0\n",
       "session_night_AM   0\n",
       "session_night_PM   0\n",
       "year_2010          0\n",
       "year_2011          0\n",
       "year_2012          0\n",
       "year_2013          0\n",
       "year_2014          0\n",
       "year_2015          0\n",
       "geodesic           0"
      ]
     },
     "execution_count": 47,
     "metadata": {},
     "output_type": "execute_result"
    }
   ],
   "source": [
    "#pd.DataFrame(train.isnull().sum())"
   ]
  },
  {
   "cell_type": "code",
   "execution_count": 0,
   "metadata": {
    "collapsed": false
   },
   "outputs": [],
   "source": [
    "#Feature Selection"
   ]
  },
  {
   "cell_type": "code",
   "execution_count": 0,
   "metadata": {
    "collapsed": false
   },
   "outputs": [],
   "source": [
    "# 1.Correlation Analysis\n",
    "# -> Statistically correlated: features move together directionally.\n",
    "# -> Linear models assume feature independence.\n",
    "# -> And if features are correlated that could introduce bias into our models."
   ]
  },
  {
   "cell_type": "code",
   "execution_count": 48,
   "metadata": {
    "collapsed": false
   },
   "outputs": [
    {
     "data": {
      "text/plain": [
       "Index(['fare_amount', 'passenger_count_2', 'passenger_count_3',\n",
       "       'passenger_count_4', 'passenger_count_5', 'passenger_count_6',\n",
       "       'season_spring', 'season_summer', 'season_winter', 'week_weekend',\n",
       "       'session_evening', 'session_morning', 'session_night_AM',\n",
       "       'session_night_PM', 'year_2010', 'year_2011', 'year_2012', 'year_2013',\n",
       "       'year_2014', 'year_2015', 'geodesic'],\n",
       "      dtype='object')"
      ]
     },
     "execution_count": 48,
     "metadata": {},
     "output_type": "execute_result"
    }
   ],
   "source": [
    "train.columns"
   ]
  },
  {
   "cell_type": "code",
   "execution_count": 49,
   "metadata": {
    "collapsed": false
   },
   "outputs": [],
   "source": [
    "cat_var=['passenger_count_2',\n",
    "       'passenger_count_3', 'passenger_count_4', 'passenger_count_5',\n",
    "       'passenger_count_6', 'season_spring', 'season_summer',\n",
    "       'season_winter', 'week_weekend',\n",
    "       'session_evening', 'session_morning', 'session_night_AM',\n",
    "       'session_night_PM', 'year_2010', 'year_2011',\n",
    "       'year_2012', 'year_2013', 'year_2014', 'year_2015']\n",
    "num_var=['fare_amount','geodesic']\n",
    "train[cat_var]=train[cat_var].apply(lambda x: x.astype('category') )\n",
    "test[cat_var]=test[cat_var].apply(lambda x: x.astype('category') ) "
   ]
  },
  {
   "cell_type": "code",
   "execution_count": 0,
   "metadata": {
    "collapsed": false
   },
   "outputs": [],
   "source": [
    "# We will plot a Heatmap of correlation whereas, correlation measures how strongly 2 quantities are related to each other."
   ]
  },
  {
   "cell_type": "code",
   "execution_count": 43,
   "metadata": {
    "collapsed": false
   },
   "outputs": [
    {
     "data": {
      "image/png": "[encoded data removed]",
      "text/plain": [
       "<Figure size 720x720 with 2 Axes>"
      ]
     },
     "execution_count": 43,
     "metadata": {
      "image/png": {
       "height": 563.0,
       "width": 555.0
      }
     },
     "output_type": "execute_result"
    }
   ],
   "source": [
    "# heatmap using correlation matrix\n",
    "plt.figure(figsize=(10,10))\n",
    "_ = sns.heatmap(train[num_var].corr(), square=True, cmap='RdYlGn',linewidths=0.5,linecolor='w',annot=True)\n",
    "plt.title('Correlation matrix ')\n",
    "# plt.savefig('correlation.png')\n",
    "plt.show()"
   ]
  },
  {
   "cell_type": "code",
   "execution_count": 0,
   "metadata": {
    "collapsed": false
   },
   "outputs": [],
   "source": [
    "# As we can see from above correlation plot fare_amount and geodesic is highly correlated to each other.\n",
    "# As fare_amount is the target variable and ‘geodesic’ is independent variable we will keep ‘geodesic’ because it will help to explain variation in fare_amount."
   ]
  },
  {
   "cell_type": "code",
   "execution_count": 0,
   "metadata": {
    "collapsed": false
   },
   "outputs": [],
   "source": [
    "# Chi-square test of Independence for Categorical Variables/Features\n",
    "# Hypothesis testing :\n",
    "Null Hypothesis: 2 variables are dependent.\n",
    "Alternate Hypothesis: 2 variables are not independent.\n",
    "# If p-value is less than 0.05 then we reject the null hypothesis saying that 2 variables are dependent.\n",
    "# And if p-value is greater than 0.05 then we accept the null hypothesis saying that 2 variables are independent.\n",
    "# There should be no dependencies between Independent variables.\n",
    "# So we will remove that variable whose p-value with other variable is low than 0.05.\n",
    "# And we will keep that variable whose p-value with other variable is high than 0.05"
   ]
  },
  {
   "cell_type": "code",
   "execution_count": 44,
   "metadata": {
    "collapsed": false
   },
   "outputs": [
    {
     "name": "stdout",
     "output_type": "stream",
     "text": [
      "passenger_count_2 and passenger_count_3 are dependent on each other with 3.880874598247121e-27 ----Remove\n",
      "passenger_count_2 and passenger_count_4 are dependent on each other with 1.6562820541330264e-13 ----Remove\n"
     ]
    },
    {
     "name": "stdout",
     "output_type": "stream",
     "text": [
      "passenger_count_2 and passenger_count_5 are dependent on each other with 2.5495928011449748e-42 ----Remove\n"
     ]
    },
    {
     "name": "stdout",
     "output_type": "stream",
     "text": [
      "passenger_count_2 and passenger_count_6 are dependent on each other with 1.3412739135599215e-12 ----Remove\n",
      "passenger_count_2 and season_spring are independent on each other with 0.9885218179404535 ----Keep\n",
      "passenger_count_2 and season_summer are dependent on each other with 0.02156910570304293 ----Remove\n",
      "passenger_count_2 and season_winter are independent on each other with 0.5084474478316219 ----Keep\n",
      "passenger_count_2 and week_weekend are dependent on each other with 1.1261813904053738e-10 ----Remove\n"
     ]
    },
    {
     "name": "stdout",
     "output_type": "stream",
     "text": [
      "passenger_count_2 and session_evening are dependent on each other with 0.027904227888922415 ----Remove\n",
      "passenger_count_2 and session_morning are dependent on each other with 1.422804795010472e-16 ----Remove\n",
      "passenger_count_2 and session_night_AM are dependent on each other with 0.018044382140082055 ----Remove\n",
      "passenger_count_2 and session_night_PM are dependent on each other with 2.0689977346780605e-05 ----Remove\n",
      "passenger_count_2 and year_2010 are independent on each other with 0.7926500911740486 ----Keep\n"
     ]
    },
    {
     "name": "stdout",
     "output_type": "stream",
     "text": [
      "passenger_count_2 and year_2011 are dependent on each other with 0.008616045011099117 ----Remove\n",
      "passenger_count_2 and year_2012 are independent on each other with 0.9873349373712309 ----Keep\n",
      "passenger_count_2 and year_2013 are independent on each other with 0.09350324953183572 ----Keep\n",
      "passenger_count_2 and year_2014 are independent on each other with 0.22976123141096655 ----Keep\n",
      "passenger_count_2 and year_2015 are independent on each other with 0.8746529815658493 ----Keep\n"
     ]
    },
    {
     "name": "stdout",
     "output_type": "stream",
     "text": [
      "passenger_count_3 and passenger_count_2 are dependent on each other with 3.880874598247121e-27 ----Remove\n",
      "passenger_count_3 and passenger_count_4 are dependent on each other with 0.0002639310169297409 ----Remove\n"
     ]
    },
    {
     "name": "stdout",
     "output_type": "stream",
     "text": [
      "passenger_count_3 and passenger_count_5 are dependent on each other with 6.300119575065566e-12 ----Remove\n",
      "passenger_count_3 and passenger_count_6 are dependent on each other with 0.00046483380198887543 ----Remove\n",
      "passenger_count_3 and season_spring are independent on each other with 0.24486068017070495 ----Keep\n"
     ]
    },
    {
     "name": "stdout",
     "output_type": "stream",
     "text": [
      "passenger_count_3 and season_summer are independent on each other with 0.12611331226651634 ----Keep\n",
      "passenger_count_3 and season_winter are independent on each other with 0.4631141469510328 ----Keep\n",
      "passenger_count_3 and week_weekend are dependent on each other with 4.3217128356941136e-06 ----Remove\n",
      "passenger_count_3 and session_evening are independent on each other with 0.7483504924869417 ----Keep\n",
      "passenger_count_3 and session_morning are dependent on each other with 0.0002565919524368262 ----Remove\n",
      "passenger_count_3 and session_night_AM are dependent on each other with 0.0028634830987033784 ----Remove\n",
      "passenger_count_3 and session_night_PM are dependent on each other with 0.017461381217427373 ----Remove\n"
     ]
    },
    {
     "name": "stdout",
     "output_type": "stream",
     "text": [
      "passenger_count_3 and year_2010 are independent on each other with 0.25824878333578544 ----Keep\n",
      "passenger_count_3 and year_2011 are independent on each other with 0.6854066193312632 ----Keep\n",
      "passenger_count_3 and year_2012 are independent on each other with 0.6568420816520042 ----Keep\n",
      "passenger_count_3 and year_2013 are independent on each other with 0.30446767271443165 ----Keep\n",
      "passenger_count_3 and year_2014 are independent on each other with 0.1085086507062926 ----Keep\n",
      "passenger_count_3 and year_2015 are independent on each other with 0.6719657539125135 ----Keep\n"
     ]
    },
    {
     "name": "stdout",
     "output_type": "stream",
     "text": [
      "passenger_count_4 and passenger_count_2 are dependent on each other with 1.6562820541330264e-13 ----Remove\n",
      "passenger_count_4 and passenger_count_3 are dependent on each other with 0.0002639310169297409 ----Remove\n"
     ]
    },
    {
     "name": "stdout",
     "output_type": "stream",
     "text": [
      "passenger_count_4 and passenger_count_5 are dependent on each other with 3.0920025146415887e-06 ----Remove\n",
      "passenger_count_4 and passenger_count_6 are dependent on each other with 0.021535284814006603 ----Remove\n",
      "passenger_count_4 and season_spring are independent on each other with 0.19298492392624872 ----Keep\n",
      "passenger_count_4 and season_summer are independent on each other with 0.2564235088079283 ----Keep\n"
     ]
    },
    {
     "name": "stdout",
     "output_type": "stream",
     "text": [
      "passenger_count_4 and season_winter are dependent on each other with 0.03140516626398274 ----Remove\n",
      "passenger_count_4 and week_weekend are dependent on each other with 1.155686675227025e-05 ----Remove\n",
      "passenger_count_4 and session_evening are independent on each other with 0.9997012671768705 ----Keep\n",
      "passenger_count_4 and session_morning are dependent on each other with 4.1268196543664704e-05 ----Remove\n",
      "passenger_count_4 and session_night_AM are dependent on each other with 0.0014491086358962555 ----Remove\n",
      "passenger_count_4 and session_night_PM are independent on each other with 0.439719976162414 ----Keep\n"
     ]
    },
    {
     "name": "stdout",
     "output_type": "stream",
     "text": [
      "passenger_count_4 and year_2010 are independent on each other with 0.48618768616980845 ----Keep\n",
      "passenger_count_4 and year_2011 are independent on each other with 0.28664139778121855 ----Keep\n",
      "passenger_count_4 and year_2012 are independent on each other with 0.7605780157360365 ----Keep\n",
      "passenger_count_4 and year_2013 are independent on each other with 0.6740250852412275 ----Keep\n",
      "passenger_count_4 and year_2014 are independent on each other with 0.9047163614705267 ----Keep\n",
      "passenger_count_4 and year_2015 are independent on each other with 0.9253250081468951 ----Keep\n"
     ]
    },
    {
     "name": "stdout",
     "output_type": "stream",
     "text": [
      "passenger_count_5 and passenger_count_2 are dependent on each other with 2.5495928011449748e-42 ----Remove\n",
      "passenger_count_5 and passenger_count_3 are dependent on each other with 6.300119575065566e-12 ----Remove\n"
     ]
    },
    {
     "name": "stdout",
     "output_type": "stream",
     "text": [
      "passenger_count_5 and passenger_count_4 are dependent on each other with 3.0920025146415887e-06 ----Remove\n",
      "passenger_count_5 and passenger_count_6 are dependent on each other with 7.457854590735625e-06 ----Remove\n"
     ]
    },
    {
     "name": "stdout",
     "output_type": "stream",
     "text": [
      "passenger_count_5 and season_spring are dependent on each other with 0.03712882792382106 ----Remove\n",
      "passenger_count_5 and season_summer are independent on each other with 0.9001396970275477 ----Keep\n",
      "passenger_count_5 and season_winter are independent on each other with 0.27260550450749366 ----Keep\n"
     ]
    },
    {
     "name": "stdout",
     "output_type": "stream",
     "text": [
      "passenger_count_5 and week_weekend are independent on each other with 0.9836876146696336 ----Keep\n",
      "passenger_count_5 and session_evening are independent on each other with 0.6198143348889662 ----Keep\n",
      "passenger_count_5 and session_morning are independent on each other with 0.8239917469853544 ----Keep\n",
      "passenger_count_5 and session_night_AM are independent on each other with 0.643897872355125 ----Keep\n",
      "passenger_count_5 and session_night_PM are independent on each other with 0.7129692047887988 ----Keep\n",
      "passenger_count_5 and year_2010 are dependent on each other with 0.004884785498888652 ----Remove\n"
     ]
    },
    {
     "name": "stdout",
     "output_type": "stream",
     "text": [
      "passenger_count_5 and year_2011 are independent on each other with 0.17696803399868244 ----Keep\n",
      "passenger_count_5 and year_2012 are independent on each other with 0.24168863496316867 ----Keep\n",
      "passenger_count_5 and year_2013 are dependent on each other with 0.013777214205450314 ----Remove\n",
      "passenger_count_5 and year_2014 are dependent on each other with 0.0003388376421704987 ----Remove\n",
      "passenger_count_5 and year_2015 are dependent on each other with 0.000220953516877017 ----Remove\n"
     ]
    },
    {
     "name": "stdout",
     "output_type": "stream",
     "text": [
      "passenger_count_6 and passenger_count_2 are dependent on each other with 1.3412739135599215e-12 ----Remove\n"
     ]
    },
    {
     "name": "stdout",
     "output_type": "stream",
     "text": [
      "passenger_count_6 and passenger_count_3 are dependent on each other with 0.00046483380198887543 ----Remove\n"
     ]
    },
    {
     "name": "stdout",
     "output_type": "stream",
     "text": [
      "passenger_count_6 and passenger_count_4 are dependent on each other with 0.021535284814006603 ----Remove\n"
     ]
    },
    {
     "name": "stdout",
     "output_type": "stream",
     "text": [
      "passenger_count_6 and passenger_count_5 are dependent on each other with 7.457854590735625e-06 ----Remove\n",
      "passenger_count_6 and season_spring are independent on each other with 0.8624157315219587 ----Keep\n",
      "passenger_count_6 and season_summer are independent on each other with 0.8963147506825618 ----Keep\n"
     ]
    },
    {
     "name": "stdout",
     "output_type": "stream",
     "text": [
      "passenger_count_6 and season_winter are independent on each other with 0.3904903716320045 ----Keep\n",
      "passenger_count_6 and week_weekend are independent on each other with 0.7604818978745929 ----Keep\n",
      "passenger_count_6 and session_evening are independent on each other with 0.4570496277410452 ----Keep\n"
     ]
    },
    {
     "name": "stdout",
     "output_type": "stream",
     "text": [
      "passenger_count_6 and session_morning are independent on each other with 0.7272856192803814 ----Keep\n",
      "passenger_count_6 and session_night_AM are independent on each other with 0.8288092395846891 ----Keep\n",
      "passenger_count_6 and session_night_PM are independent on each other with 0.318836785505026 ----Keep\n"
     ]
    },
    {
     "name": "stdout",
     "output_type": "stream",
     "text": [
      "passenger_count_6 and year_2010 are dependent on each other with 4.968297624065672e-09 ----Remove\n",
      "passenger_count_6 and year_2011 are dependent on each other with 2.7334555120325144e-05 ----Remove\n",
      "passenger_count_6 and year_2012 are dependent on each other with 0.028318768642273298 ----Remove\n",
      "passenger_count_6 and year_2013 are dependent on each other with 6.790055314834625e-09 ----Remove\n"
     ]
    },
    {
     "name": "stdout",
     "output_type": "stream",
     "text": [
      "passenger_count_6 and year_2014 are dependent on each other with 1.8172342453134513e-06 ----Remove\n",
      "passenger_count_6 and year_2015 are dependent on each other with 1.7224539196962448e-06 ----Remove\n",
      "season_spring and passenger_count_2 are independent on each other with 0.9885218179404535 ----Keep\n"
     ]
    },
    {
     "name": "stdout",
     "output_type": "stream",
     "text": [
      "season_spring and passenger_count_3 are independent on each other with 0.24486068017070495 ----Keep\n",
      "season_spring and passenger_count_4 are independent on each other with 0.19298492392624872 ----Keep\n"
     ]
    },
    {
     "name": "stdout",
     "output_type": "stream",
     "text": [
      "season_spring and passenger_count_5 are dependent on each other with 0.03712882792382106 ----Remove\n",
      "season_spring and passenger_count_6 are independent on each other with 0.8624157315219587 ----Keep\n"
     ]
    },
    {
     "name": "stdout",
     "output_type": "stream",
     "text": [
      "season_spring and season_summer are dependent on each other with 0.0 ----Remove\n"
     ]
    },
    {
     "name": "stdout",
     "output_type": "stream",
     "text": [
      "season_spring and season_winter are dependent on each other with 0.0 ----Remove\n",
      "season_spring and week_weekend are independent on each other with 0.659017663887979 ----Keep\n",
      "season_spring and session_evening are independent on each other with 0.8010521057190065 ----Keep\n",
      "season_spring and session_morning are independent on each other with 0.05901517009965523 ----Keep\n",
      "season_spring and session_night_AM are independent on each other with 0.5948386358497064 ----Keep\n"
     ]
    },
    {
     "name": "stdout",
     "output_type": "stream",
     "text": [
      "season_spring and session_night_PM are independent on each other with 0.608061289264885 ----Keep\n",
      "season_spring and year_2010 are independent on each other with 0.1970616894600986 ----Keep\n",
      "season_spring and year_2011 are independent on each other with 0.12068607890700066 ----Keep\n",
      "season_spring and year_2012 are dependent on each other with 0.0007573591981238606 ----Remove\n",
      "season_spring and year_2013 are dependent on each other with 0.026184861734220553 ----Remove\n",
      "season_spring and year_2014 are independent on each other with 0.07095545547458673 ----Keep\n",
      "season_spring and year_2015 are dependent on each other with 6.744625321280487e-70 ----Remove\n"
     ]
    },
    {
     "name": "stdout",
     "output_type": "stream",
     "text": [
      "season_summer and passenger_count_2 are dependent on each other with 0.02156910570304293 ----Remove\n",
      "season_summer and passenger_count_3 are independent on each other with 0.12611331226651634 ----Keep\n",
      "season_summer and passenger_count_4 are independent on each other with 0.2564235088079283 ----Keep\n",
      "season_summer and passenger_count_5 are independent on each other with 0.9001396970275477 ----Keep\n",
      "season_summer and passenger_count_6 are independent on each other with 0.8963147506825618 ----Keep\n"
     ]
    },
    {
     "name": "stdout",
     "output_type": "stream",
     "text": [
      "season_summer and season_spring are dependent on each other with 0.0 ----Remove\n",
      "season_summer and season_winter are dependent on each other with 0.0 ----Remove\n"
     ]
    },
    {
     "name": "stdout",
     "output_type": "stream",
     "text": [
      "season_summer and week_weekend are dependent on each other with 0.013666954799390296 ----Remove\n",
      "season_summer and session_evening are independent on each other with 0.5979963450866705 ----Keep\n",
      "season_summer and session_morning are independent on each other with 0.7239553703970808 ----Keep\n",
      "season_summer and session_night_AM are independent on each other with 0.05704734632918652 ----Keep\n"
     ]
    },
    {
     "name": "stdout",
     "output_type": "stream",
     "text": [
      "season_summer and session_night_PM are independent on each other with 0.35853955299784135 ----Keep\n",
      "season_summer and year_2010 are independent on each other with 0.448791538063668 ----Keep\n",
      "season_summer and year_2011 are independent on each other with 0.6433828446863759 ----Keep\n",
      "season_summer and year_2012 are dependent on each other with 0.0006409708040698562 ----Remove\n",
      "season_summer and year_2013 are independent on each other with 0.38406158823423 ----Keep\n"
     ]
    },
    {
     "name": "stdout",
     "output_type": "stream",
     "text": [
      "season_summer and year_2014 are independent on each other with 0.3196725369130749 ----Keep\n",
      "season_summer and year_2015 are dependent on each other with 2.532544892467278e-08 ----Remove\n",
      "season_winter and passenger_count_2 are independent on each other with 0.5084474478316219 ----Keep\n",
      "season_winter and passenger_count_3 are independent on each other with 0.4631141469510328 ----Keep\n",
      "season_winter and passenger_count_4 are dependent on each other with 0.03140516626398274 ----Remove\n"
     ]
    },
    {
     "name": "stdout",
     "output_type": "stream",
     "text": [
      "season_winter and passenger_count_5 are independent on each other with 0.27260550450749366 ----Keep\n",
      "season_winter and passenger_count_6 are independent on each other with 0.3904903716320045 ----Keep\n",
      "season_winter and season_spring are dependent on each other with 0.0 ----Remove\n"
     ]
    },
    {
     "name": "stdout",
     "output_type": "stream",
     "text": [
      "season_winter and season_summer are dependent on each other with 0.0 ----Remove\n",
      "season_winter and week_weekend are independent on each other with 0.3651036569134599 ----Keep\n",
      "season_winter and session_evening are independent on each other with 0.43285442553938147 ----Keep\n",
      "season_winter and session_morning are independent on each other with 0.8001419666502505 ----Keep\n",
      "season_winter and session_night_AM are independent on each other with 0.06498530001752786 ----Keep\n"
     ]
    },
    {
     "name": "stdout",
     "output_type": "stream",
     "text": [
      "season_winter and session_night_PM are independent on each other with 0.8479680264080527 ----Keep\n",
      "season_winter and year_2010 are independent on each other with 0.6115812832573292 ----Keep\n",
      "season_winter and year_2011 are independent on each other with 0.5248097209063658 ----Keep\n",
      "season_winter and year_2012 are independent on each other with 0.29760147958112326 ----Keep\n",
      "season_winter and year_2013 are independent on each other with 0.29717604670738057 ----Keep\n"
     ]
    },
    {
     "name": "stdout",
     "output_type": "stream",
     "text": [
      "season_winter and year_2014 are independent on each other with 0.95211348675815 ----Keep\n",
      "season_winter and year_2015 are dependent on each other with 5.0652379286764286e-09 ----Remove\n",
      "week_weekend and passenger_count_2 are dependent on each other with 1.1261813904053738e-10 ----Remove\n",
      "week_weekend and passenger_count_3 are dependent on each other with 4.32171283569412e-06 ----Remove\n"
     ]
    },
    {
     "name": "stdout",
     "output_type": "stream",
     "text": [
      "week_weekend and passenger_count_4 are dependent on each other with 1.155686675227025e-05 ----Remove\n",
      "week_weekend and passenger_count_5 are independent on each other with 0.9836876146696336 ----Keep\n",
      "week_weekend and passenger_count_6 are independent on each other with 0.7604818978745929 ----Keep\n",
      "week_weekend and season_spring are independent on each other with 0.659017663887979 ----Keep\n",
      "week_weekend and season_summer are dependent on each other with 0.013666954799390296 ----Remove\n",
      "week_weekend and season_winter are independent on each other with 0.3651036569134599 ----Keep\n"
     ]
    },
    {
     "name": "stdout",
     "output_type": "stream",
     "text": [
      "week_weekend and session_evening are dependent on each other with 2.469103238849862e-06 ----Remove\n",
      "week_weekend and session_morning are dependent on each other with 7.405593316085316e-38 ----Remove\n",
      "week_weekend and session_night_AM are dependent on each other with 3.887537981503885e-127 ----Remove\n",
      "week_weekend and session_night_PM are independent on each other with 0.08059190684816295 ----Keep\n",
      "week_weekend and year_2010 are independent on each other with 0.24802604214849472 ----Keep\n"
     ]
    },
    {
     "name": "stdout",
     "output_type": "stream",
     "text": [
      "week_weekend and year_2011 are independent on each other with 0.4133023524892606 ----Keep\n",
      "week_weekend and year_2012 are independent on each other with 0.06533214352556665 ----Keep\n",
      "week_weekend and year_2013 are independent on each other with 0.9073088747146473 ----Keep\n",
      "week_weekend and year_2014 are independent on each other with 0.8285540864828675 ----Keep\n",
      "week_weekend and year_2015 are dependent on each other with 0.006088183753478373 ----Remove\n",
      "session_evening and passenger_count_2 are dependent on each other with 0.027904227888922415 ----Remove\n",
      "session_evening and passenger_count_3 are independent on each other with 0.7483504924869417 ----Keep\n"
     ]
    },
    {
     "name": "stdout",
     "output_type": "stream",
     "text": [
      "session_evening and passenger_count_4 are independent on each other with 0.9997012671768705 ----Keep\n",
      "session_evening and passenger_count_5 are independent on each other with 0.6198143348889662 ----Keep\n",
      "session_evening and passenger_count_6 are independent on each other with 0.4570496277410452 ----Keep\n",
      "session_evening and season_spring are independent on each other with 0.8010521057190065 ----Keep\n",
      "session_evening and season_summer are independent on each other with 0.5979963450866705 ----Keep\n"
     ]
    },
    {
     "name": "stdout",
     "output_type": "stream",
     "text": [
      "session_evening and season_winter are independent on each other with 0.43285442553938147 ----Keep\n",
      "session_evening and week_weekend are dependent on each other with 2.469103238849862e-06 ----Remove\n"
     ]
    },
    {
     "name": "stdout",
     "output_type": "stream",
     "text": [
      "session_evening and session_morning are dependent on each other with 0.0 ----Remove\n"
     ]
    },
    {
     "name": "stdout",
     "output_type": "stream",
     "text": [
      "session_evening and session_night_AM are dependent on each other with 2.634323848066775e-137 ----Remove\n",
      "session_evening and session_night_PM are dependent on each other with 3.106513526059017e-198 ----Remove\n",
      "session_evening and year_2010 are independent on each other with 0.23048262410358428 ----Keep\n",
      "session_evening and year_2011 are independent on each other with 0.34241367145018553 ----Keep\n"
     ]
    },
    {
     "name": "stderr",
     "output_type": "stream",
     "text": [
      "WARNING: Some output was deleted.\n"
     ]
    }
   ],
   "source": [
    "#loop for chi square values\n",
    "for i in cat_var:\n",
    "    for j in cat_var:\n",
    "        if(i != j):\n",
    "            chi2, p, dof, ex = chi2_contingency(pd.crosstab(train[i], train[j]))\n",
    "            if(p < 0.05):\n",
    "                print(i,\"and\",j,\"are dependent on each other with\",p,'----Remove')\n",
    "            else:\n",
    "                print(i,\"and\",j,\"are independent on each other with\",p,'----Keep')"
   ]
  },
  {
   "cell_type": "code",
   "execution_count": 0,
   "metadata": {
    "collapsed": false
   },
   "outputs": [],
   "source": [
    "# Analysis of Variance(Anova) Test\n",
    "# It is carried out to compare between each groups in a categorical variable.\n",
    "# ANOVA only lets us know the means for different groups are same or not. It doesn’t help us identify which mean is different.\n",
    "# Hypothesis testing :\n",
    "Null Hypothesis: mean of all categories in a variable are same.\n",
    "Alternate Hypothesis: mean of at least one category in a variable is different.\n",
    "# If p-value is less than 0.05 then we reject the null hypothesis.\n",
    "# And if p-value is greater than 0.05 then we accept the null hypothesis"
   ]
  },
  {
   "cell_type": "code",
   "execution_count": 46,
   "metadata": {
    "collapsed": false
   },
   "outputs": [
    {
     "data": {
      "text/plain": [
       "Index(['fare_amount', 'passenger_count_2', 'passenger_count_3',\n",
       "       'passenger_count_4', 'passenger_count_5', 'passenger_count_6',\n",
       "       'season_spring', 'season_summer', 'season_winter', 'week_weekend',\n",
       "       'session_evening', 'session_morning', 'session_night_AM',\n",
       "       'session_night_PM', 'year_2010', 'year_2011', 'year_2012', 'year_2013',\n",
       "       'year_2014', 'year_2015', 'geodesic'],\n",
       "      dtype='object')"
      ]
     },
     "execution_count": 46,
     "metadata": {},
     "output_type": "execute_result"
    }
   ],
   "source": [
    "train.columns"
   ]
  },
  {
   "cell_type": "code",
   "execution_count": 50,
   "metadata": {
    "collapsed": false
   },
   "outputs": [
    {
     "data": {
      "text/html": [
       "<div>\n",
       "<style scoped>\n",
       "    .dataframe tbody tr th:only-of-type {\n",
       "        vertical-align: middle;\n",
       "    }\n",
       "\n",
       "    .dataframe tbody tr th {\n",
       "        vertical-align: top;\n",
       "    }\n",
       "\n",
       "    .dataframe thead th {\n",
       "        text-align: right;\n",
       "    }\n",
       "</style>\n",
       "<table border=\"1\" class=\"dataframe\">\n",
       "  <thead>\n",
       "    <tr style=\"text-align: right;\">\n",
       "      <th></th>\n",
       "      <th>df</th>\n",
       "      <th>sum_sq</th>\n",
       "      <th>mean_sq</th>\n",
       "      <th>F</th>\n",
       "      <th>PR(&gt;F)</th>\n",
       "    </tr>\n",
       "  </thead>\n",
       "  <tbody>\n",
       "    <tr>\n",
       "      <th>C(passenger_count_2)</th>\n",
       "      <td>1.0</td>\n",
       "      <td>12.823085</td>\n",
       "      <td>12.823085</td>\n",
       "      <td>0.841291</td>\n",
       "      <td>3.590421e-01</td>\n",
       "    </tr>\n",
       "    <tr>\n",
       "      <th>C(passenger_count_3)</th>\n",
       "      <td>1.0</td>\n",
       "      <td>9.799461</td>\n",
       "      <td>9.799461</td>\n",
       "      <td>0.642919</td>\n",
       "      <td>4.226683e-01</td>\n",
       "    </tr>\n",
       "    <tr>\n",
       "      <th>C(passenger_count_4)</th>\n",
       "      <td>1.0</td>\n",
       "      <td>74.252504</td>\n",
       "      <td>74.252504</td>\n",
       "      <td>4.871524</td>\n",
       "      <td>2.731805e-02</td>\n",
       "    </tr>\n",
       "    <tr>\n",
       "      <th>C(passenger_count_5)</th>\n",
       "      <td>1.0</td>\n",
       "      <td>31.470614</td>\n",
       "      <td>31.470614</td>\n",
       "      <td>2.064710</td>\n",
       "      <td>1.507639e-01</td>\n",
       "    </tr>\n",
       "    <tr>\n",
       "      <th>C(passenger_count_6)</th>\n",
       "      <td>1.0</td>\n",
       "      <td>173.177230</td>\n",
       "      <td>173.177230</td>\n",
       "      <td>11.361732</td>\n",
       "      <td>7.515679e-04</td>\n",
       "    </tr>\n",
       "    <tr>\n",
       "      <th>C(season_spring)</th>\n",
       "      <td>1.0</td>\n",
       "      <td>47.726091</td>\n",
       "      <td>47.726091</td>\n",
       "      <td>3.131191</td>\n",
       "      <td>7.682734e-02</td>\n",
       "    </tr>\n",
       "    <tr>\n",
       "      <th>C(season_summer)</th>\n",
       "      <td>1.0</td>\n",
       "      <td>19.650944</td>\n",
       "      <td>19.650944</td>\n",
       "      <td>1.289250</td>\n",
       "      <td>2.562038e-01</td>\n",
       "    </tr>\n",
       "    <tr>\n",
       "      <th>C(season_winter)</th>\n",
       "      <td>1.0</td>\n",
       "      <td>253.052748</td>\n",
       "      <td>253.052748</td>\n",
       "      <td>16.602169</td>\n",
       "      <td>4.632895e-05</td>\n",
       "    </tr>\n",
       "    <tr>\n",
       "      <th>C(week_weekend)</th>\n",
       "      <td>1.0</td>\n",
       "      <td>24.974376</td>\n",
       "      <td>24.974376</td>\n",
       "      <td>1.638507</td>\n",
       "      <td>2.005496e-01</td>\n",
       "    </tr>\n",
       "    <tr>\n",
       "      <th>C(session_night_AM)</th>\n",
       "      <td>1.0</td>\n",
       "      <td>990.160483</td>\n",
       "      <td>990.160483</td>\n",
       "      <td>64.961995</td>\n",
       "      <td>8.191739e-16</td>\n",
       "    </tr>\n",
       "    <tr>\n",
       "      <th>C(session_night_PM)</th>\n",
       "      <td>1.0</td>\n",
       "      <td>163.518078</td>\n",
       "      <td>163.518078</td>\n",
       "      <td>10.728019</td>\n",
       "      <td>1.057581e-03</td>\n",
       "    </tr>\n",
       "    <tr>\n",
       "      <th>C(session_evening)</th>\n",
       "      <td>1.0</td>\n",
       "      <td>46.927442</td>\n",
       "      <td>46.927442</td>\n",
       "      <td>3.078794</td>\n",
       "      <td>7.933917e-02</td>\n",
       "    </tr>\n",
       "    <tr>\n",
       "      <th>C(session_morning)</th>\n",
       "      <td>1.0</td>\n",
       "      <td>71.499524</td>\n",
       "      <td>71.499524</td>\n",
       "      <td>4.690908</td>\n",
       "      <td>3.033789e-02</td>\n",
       "    </tr>\n",
       "    <tr>\n",
       "      <th>C(year_2010)</th>\n",
       "      <td>1.0</td>\n",
       "      <td>929.298308</td>\n",
       "      <td>929.298308</td>\n",
       "      <td>60.968977</td>\n",
       "      <td>6.169305e-15</td>\n",
       "    </tr>\n",
       "    <tr>\n",
       "      <th>C(year_2011)</th>\n",
       "      <td>1.0</td>\n",
       "      <td>851.407489</td>\n",
       "      <td>851.407489</td>\n",
       "      <td>55.858752</td>\n",
       "      <td>8.204577e-14</td>\n",
       "    </tr>\n",
       "    <tr>\n",
       "      <th>C(year_2012)</th>\n",
       "      <td>1.0</td>\n",
       "      <td>316.462417</td>\n",
       "      <td>316.462417</td>\n",
       "      <td>20.762321</td>\n",
       "      <td>5.239483e-06</td>\n",
       "    </tr>\n",
       "    <tr>\n",
       "      <th>C(year_2013)</th>\n",
       "      <td>1.0</td>\n",
       "      <td>272.472136</td>\n",
       "      <td>272.472136</td>\n",
       "      <td>17.876227</td>\n",
       "      <td>2.371056e-05</td>\n",
       "    </tr>\n",
       "    <tr>\n",
       "      <th>C(year_2014)</th>\n",
       "      <td>1.0</td>\n",
       "      <td>986.908505</td>\n",
       "      <td>986.908505</td>\n",
       "      <td>64.748641</td>\n",
       "      <td>9.124356e-16</td>\n",
       "    </tr>\n",
       "    <tr>\n",
       "      <th>C(year_2015)</th>\n",
       "      <td>1.0</td>\n",
       "      <td>1521.539213</td>\n",
       "      <td>1521.539213</td>\n",
       "      <td>99.824447</td>\n",
       "      <td>1.962052e-23</td>\n",
       "    </tr>\n",
       "    <tr>\n",
       "      <th>Residual</th>\n",
       "      <td>15424.0</td>\n",
       "      <td>235094.924990</td>\n",
       "      <td>15.242150</td>\n",
       "      <td>NaN</td>\n",
       "      <td>NaN</td>\n",
       "    </tr>\n",
       "  </tbody>\n",
       "</table>\n",
       "</div>"
      ],
      "text/plain": [
       "                           df         sum_sq      mean_sq          F  \\\n",
       "C(passenger_count_2)      1.0      12.823085    12.823085   0.841291   \n",
       "C(passenger_count_3)      1.0       9.799461     9.799461   0.642919   \n",
       "C(passenger_count_4)      1.0      74.252504    74.252504   4.871524   \n",
       "C(passenger_count_5)      1.0      31.470614    31.470614   2.064710   \n",
       "C(passenger_count_6)      1.0     173.177230   173.177230  11.361732   \n",
       "C(season_spring)          1.0      47.726091    47.726091   3.131191   \n",
       "C(season_summer)          1.0      19.650944    19.650944   1.289250   \n",
       "C(season_winter)          1.0     253.052748   253.052748  16.602169   \n",
       "C(week_weekend)           1.0      24.974376    24.974376   1.638507   \n",
       "C(session_night_AM)       1.0     990.160483   990.160483  64.961995   \n",
       "C(session_night_PM)       1.0     163.518078   163.518078  10.728019   \n",
       "C(session_evening)        1.0      46.927442    46.927442   3.078794   \n",
       "C(session_morning)        1.0      71.499524    71.499524   4.690908   \n",
       "C(year_2010)              1.0     929.298308   929.298308  60.968977   \n",
       "C(year_2011)              1.0     851.407489   851.407489  55.858752   \n",
       "C(year_2012)              1.0     316.462417   316.462417  20.762321   \n",
       "C(year_2013)              1.0     272.472136   272.472136  17.876227   \n",
       "C(year_2014)              1.0     986.908505   986.908505  64.748641   \n",
       "C(year_2015)              1.0    1521.539213  1521.539213  99.824447   \n",
       "Residual              15424.0  235094.924990    15.242150        NaN   \n",
       "\n",
       "                            PR(>F)  \n",
       "C(passenger_count_2)  3.590421e-01  \n",
       "C(passenger_count_3)  4.226683e-01  \n",
       "C(passenger_count_4)  2.731805e-02  \n",
       "C(passenger_count_5)  1.507639e-01  \n",
       "C(passenger_count_6)  7.515679e-04  \n",
       "C(season_spring)      7.682734e-02  \n",
       "C(season_summer)      2.562038e-01  \n",
       "C(season_winter)      4.632895e-05  \n",
       "C(week_weekend)       2.005496e-01  \n",
       "C(session_night_AM)   8.191739e-16  \n",
       "C(session_night_PM)   1.057581e-03  \n",
       "C(session_evening)    7.933917e-02  \n",
       "C(session_morning)    3.033789e-02  \n",
       "C(year_2010)          6.169305e-15  \n",
       "C(year_2011)          8.204577e-14  \n",
       "C(year_2012)          5.239483e-06  \n",
       "C(year_2013)          2.371056e-05  \n",
       "C(year_2014)          9.124356e-16  \n",
       "C(year_2015)          1.962052e-23  \n",
       "Residual                       NaN  "
      ]
     },
     "execution_count": 50,
     "metadata": {},
     "output_type": "execute_result"
    }
   ],
   "source": [
    "#ANOVA _1)+C(passenger_count_2)+C(passenger_count_3)+C(passenger_count_4)+C(passenger_count_5)+C(passenger_count_6)\n",
    "model = ols('fare_amount ~ C(passenger_count_2)+C(passenger_count_3)+C(passenger_count_4)+C(passenger_count_5)+C(passenger_count_6)+C(season_spring)+C(season_summer)+C(season_winter)+C(week_weekend)+C(session_night_AM)+C(session_night_PM)+C(session_evening)+C(session_morning)+C(year_2010)+C(year_2011)+C(year_2012)+C(year_2013)+C(year_2014)+C(year_2015)',data=train).fit()\n",
    "                \n",
    "aov_table = sm.stats.anova_lm(model)\n",
    "aov_table"
   ]
  },
  {
   "cell_type": "code",
   "execution_count": 0,
   "metadata": {
    "collapsed": false
   },
   "outputs": [],
   "source": [
    "# Every variable has p-value less than 0.05 therefore we reject the null hypothesis."
   ]
  },
  {
   "cell_type": "code",
   "execution_count": 0,
   "metadata": {
    "collapsed": false
   },
   "outputs": [],
   "source": [
    "# Multicollinearity Test\n",
    "VIF is always greater or equal to 1.\n",
    "if VIF is 1 --- Not correlated to any of the variables.\n",
    "if VIF is between 1-5 --- Moderately correlated.\n",
    "if VIF is above 5 --- Highly correlated.\n",
    "If there are multiple variables with VIF greater than 5, only remove the variable with the highest VIF."
   ]
  },
  {
   "cell_type": "code",
   "execution_count": 51,
   "metadata": {
    "collapsed": false
   },
   "outputs": [
    {
     "data": {
      "text/html": [
       "<div>\n",
       "<style scoped>\n",
       "    .dataframe tbody tr th:only-of-type {\n",
       "        vertical-align: middle;\n",
       "    }\n",
       "\n",
       "    .dataframe tbody tr th {\n",
       "        vertical-align: top;\n",
       "    }\n",
       "\n",
       "    .dataframe thead th {\n",
       "        text-align: right;\n",
       "    }\n",
       "</style>\n",
       "<table border=\"1\" class=\"dataframe\">\n",
       "  <thead>\n",
       "    <tr style=\"text-align: right;\">\n",
       "      <th></th>\n",
       "      <th>VIF</th>\n",
       "      <th>features</th>\n",
       "    </tr>\n",
       "  </thead>\n",
       "  <tbody>\n",
       "    <tr>\n",
       "      <th>0</th>\n",
       "      <td>15.590124</td>\n",
       "      <td>Intercept</td>\n",
       "    </tr>\n",
       "    <tr>\n",
       "      <th>1</th>\n",
       "      <td>1.040883</td>\n",
       "      <td>passenger_count_2[T.1]</td>\n",
       "    </tr>\n",
       "    <tr>\n",
       "      <th>2</th>\n",
       "      <td>1.019782</td>\n",
       "      <td>passenger_count_3[T.1]</td>\n",
       "    </tr>\n",
       "    <tr>\n",
       "      <th>3</th>\n",
       "      <td>1.011753</td>\n",
       "      <td>passenger_count_4[T.1]</td>\n",
       "    </tr>\n",
       "    <tr>\n",
       "      <th>4</th>\n",
       "      <td>1.025126</td>\n",
       "      <td>passenger_count_5[T.1]</td>\n",
       "    </tr>\n",
       "    <tr>\n",
       "      <th>5</th>\n",
       "      <td>1.017291</td>\n",
       "      <td>passenger_count_6[T.1]</td>\n",
       "    </tr>\n",
       "    <tr>\n",
       "      <th>6</th>\n",
       "      <td>1.640256</td>\n",
       "      <td>season_spring[T.1]</td>\n",
       "    </tr>\n",
       "    <tr>\n",
       "      <th>7</th>\n",
       "      <td>1.549341</td>\n",
       "      <td>season_summer[T.1]</td>\n",
       "    </tr>\n",
       "    <tr>\n",
       "      <th>8</th>\n",
       "      <td>1.584704</td>\n",
       "      <td>season_winter[T.1]</td>\n",
       "    </tr>\n",
       "    <tr>\n",
       "      <th>9</th>\n",
       "      <td>1.051697</td>\n",
       "      <td>week_weekend[T.1]</td>\n",
       "    </tr>\n",
       "    <tr>\n",
       "      <th>10</th>\n",
       "      <td>1.362757</td>\n",
       "      <td>session_night_AM[T.1]</td>\n",
       "    </tr>\n",
       "    <tr>\n",
       "      <th>11</th>\n",
       "      <td>1.425045</td>\n",
       "      <td>session_night_PM[T.1]</td>\n",
       "    </tr>\n",
       "    <tr>\n",
       "      <th>12</th>\n",
       "      <td>1.529003</td>\n",
       "      <td>session_evening[T.1]</td>\n",
       "    </tr>\n",
       "    <tr>\n",
       "      <th>13</th>\n",
       "      <td>1.561000</td>\n",
       "      <td>session_morning[T.1]</td>\n",
       "    </tr>\n",
       "    <tr>\n",
       "      <th>14</th>\n",
       "      <td>1.686571</td>\n",
       "      <td>year_2010[T.1]</td>\n",
       "    </tr>\n",
       "    <tr>\n",
       "      <th>15</th>\n",
       "      <td>1.684761</td>\n",
       "      <td>year_2011[T.1]</td>\n",
       "    </tr>\n",
       "    <tr>\n",
       "      <th>16</th>\n",
       "      <td>1.709437</td>\n",
       "      <td>year_2012[T.1]</td>\n",
       "    </tr>\n",
       "    <tr>\n",
       "      <th>17</th>\n",
       "      <td>1.709399</td>\n",
       "      <td>year_2013[T.1]</td>\n",
       "    </tr>\n",
       "    <tr>\n",
       "      <th>18</th>\n",
       "      <td>1.664865</td>\n",
       "      <td>year_2014[T.1]</td>\n",
       "    </tr>\n",
       "    <tr>\n",
       "      <th>19</th>\n",
       "      <td>1.408374</td>\n",
       "      <td>year_2015[T.1]</td>\n",
       "    </tr>\n",
       "    <tr>\n",
       "      <th>20</th>\n",
       "      <td>1.014239</td>\n",
       "      <td>geodesic</td>\n",
       "    </tr>\n",
       "  </tbody>\n",
       "</table>\n",
       "</div>"
      ],
      "text/plain": [
       "          VIF                features\n",
       "0   15.590124               Intercept\n",
       "1    1.040883  passenger_count_2[T.1]\n",
       "2    1.019782  passenger_count_3[T.1]\n",
       "3    1.011753  passenger_count_4[T.1]\n",
       "4    1.025126  passenger_count_5[T.1]\n",
       "5    1.017291  passenger_count_6[T.1]\n",
       "6    1.640256      season_spring[T.1]\n",
       "7    1.549341      season_summer[T.1]\n",
       "8    1.584704      season_winter[T.1]\n",
       "9    1.051697       week_weekend[T.1]\n",
       "10   1.362757   session_night_AM[T.1]\n",
       "11   1.425045   session_night_PM[T.1]\n",
       "12   1.529003    session_evening[T.1]\n",
       "13   1.561000    session_morning[T.1]\n",
       "14   1.686571          year_2010[T.1]\n",
       "15   1.684761          year_2011[T.1]\n",
       "16   1.709437          year_2012[T.1]\n",
       "17   1.709399          year_2013[T.1]\n",
       "18   1.664865          year_2014[T.1]\n",
       "19   1.408374          year_2015[T.1]\n",
       "20   1.014239                geodesic"
      ]
     },
     "execution_count": 51,
     "metadata": {},
     "output_type": "execute_result"
    }
   ],
   "source": [
    "# _1+passenger_count_2+passenger_count_3+passenger_count_4+passenger_count_5+passenger_count_6\n",
    "outcome, predictors = dmatrices('fare_amount ~ geodesic+passenger_count_2+passenger_count_3+passenger_count_4+passenger_count_5+passenger_count_6+season_spring+season_summer+season_winter+week_weekend+session_night_AM+session_night_PM+session_evening+session_morning+year_2010+year_2011+year_2012+year_2013+year_2014+year_2015',train, return_type='dataframe')\n",
    "# calculating VIF for each individual Predictors\n",
    "vif = pd.DataFrame()\n",
    "vif[\"VIF\"] = [variance_inflation_factor(predictors.values, i) for i in range(predictors.shape[1])]\n",
    "vif[\"features\"] = predictors.columns\n",
    "vif"
   ]
  },
  {
   "cell_type": "code",
   "execution_count": 0,
   "metadata": {
    "collapsed": false
   },
   "outputs": [],
   "source": [
    "#So we have no or very low multicollinearity"
   ]
  },
  {
   "cell_type": "code",
   "execution_count": 0,
   "metadata": {
    "collapsed": false
   },
   "outputs": [],
   "source": [
    "# Feature Scaling Check with or without normalization of standarscalar"
   ]
  },
  {
   "cell_type": "code",
   "execution_count": 52,
   "metadata": {
    "collapsed": false
   },
   "outputs": [
    {
     "data": {
      "text/plain": [
       "fare_amount    15.663540\n",
       "geodesic        0.760517\n",
       "dtype: float64"
      ]
     },
     "execution_count": 52,
     "metadata": {},
     "output_type": "execute_result"
    }
   ],
   "source": [
    "train[num_var].var()"
   ]
  },
  {
   "cell_type": "code",
   "execution_count": 53,
   "metadata": {
    "collapsed": false
   },
   "outputs": [
    {
     "data": {
      "image/png": "[encoded data removed]",
      "text/plain": [
       "<Figure size 432x288 with 1 Axes>"
      ]
     },
     "execution_count": 53,
     "metadata": {
      "image/png": {
       "height": 263.0,
       "width": 373.0
      }
     },
     "output_type": "execute_result"
    }
   ],
   "source": [
    "sns.distplot(train['geodesic'],bins=50)\n",
    "plt.savefig('distplot.png')"
   ]
  },
  {
   "cell_type": "code",
   "execution_count": 54,
   "metadata": {
    "collapsed": false
   },
   "outputs": [
    {
     "data": {
      "text/plain": [
       "((array([-3.9167234 , -3.69733025, -3.57713869, ...,  3.57713869,\n",
       "          3.69733025,  3.9167234 ]),\n",
       "  array([1.25608391e-04, 2.13559841e-04, 2.95258741e-04, ...,\n",
       "         4.02528592e+00, 4.02884029e+00, 4.03171482e+00])),\n",
       " (0.8431923934714649, 1.4276089057565295, 0.9666771412128726))"
      ]
     },
     "execution_count": 54,
     "metadata": {},
     "output_type": "execute_result"
    },
    {
     "data": {
      "image/png": "[encoded data removed]",
      "text/plain": [
       "<Figure size 432x288 with 1 Axes>"
      ]
     },
     "execution_count": 54,
     "metadata": {
      "image/png": {
       "height": 277.0,
       "width": 386.0
      }
     },
     "output_type": "execute_result"
    }
   ],
   "source": [
    "plt.figure()\n",
    "stats.probplot(train['geodesic'], dist='norm', fit=True,plot=plt)\n",
    "# plt.savefig('qq prob plot.png')"
   ]
  },
  {
   "cell_type": "code",
   "execution_count": 55,
   "metadata": {
    "collapsed": false
   },
   "outputs": [],
   "source": [
    "#Normalization\n",
    "train['geodesic'] = (train['geodesic'] - min(train['geodesic']))/(max(train['geodesic']) - min(train['geodesic']))\n",
    "test['geodesic'] = (test['geodesic'] - min(test['geodesic']))/(max(test['geodesic']) - min(test['geodesic']))"
   ]
  },
  {
   "cell_type": "code",
   "execution_count": 56,
   "metadata": {
    "collapsed": false
   },
   "outputs": [
    {
     "data": {
      "text/plain": [
       "0.046790346187628305"
      ]
     },
     "execution_count": 56,
     "metadata": {},
     "output_type": "execute_result"
    }
   ],
   "source": [
    "train['geodesic'].var()"
   ]
  },
  {
   "cell_type": "code",
   "execution_count": 57,
   "metadata": {
    "collapsed": false
   },
   "outputs": [
    {
     "data": {
      "image/png": "[encoded data removed]",
      "text/plain": [
       "<Figure size 432x288 with 1 Axes>"
      ]
     },
     "execution_count": 57,
     "metadata": {
      "image/png": {
       "height": 263.0,
       "width": 373.0
      }
     },
     "output_type": "execute_result"
    }
   ],
   "source": [
    "sns.distplot(train['geodesic'],bins=50)\n",
    "plt.savefig('distplot.png')"
   ]
  },
  {
   "cell_type": "code",
   "execution_count": 58,
   "metadata": {
    "collapsed": false
   },
   "outputs": [
    {
     "data": {
      "text/plain": [
       "((array([-3.9167234 , -3.69733025, -3.57713869, ...,  3.57713869,\n",
       "          3.69733025,  3.9167234 ]),\n",
       "  array([0.00000000e+00, 2.18155782e-05, 4.20802669e-05, ...,\n",
       "         9.98405368e-01, 9.99287000e-01, 1.00000000e+00])),\n",
       " (0.20914640608864374, 0.3540745904578369, 0.9666771412128725))"
      ]
     },
     "execution_count": 58,
     "metadata": {},
     "output_type": "execute_result"
    },
    {
     "data": {
      "image/png": "[encoded data removed]",
      "text/plain": [
       "<Figure size 432x288 with 1 Axes>"
      ]
     },
     "execution_count": 58,
     "metadata": {
      "image/png": {
       "height": 277.0,
       "width": 402.0
      }
     },
     "output_type": "execute_result"
    }
   ],
   "source": [
    "plt.figure()\n",
    "stats.probplot(train['geodesic'], dist='norm', fit=True,plot=plt)\n",
    "# plt.savefig('qq prob plot.png')"
   ]
  },
  {
   "cell_type": "code",
   "execution_count": 0,
   "metadata": {
    "collapsed": false
   },
   "outputs": [],
   "source": []
  },
  {
   "cell_type": "code",
   "execution_count": 59,
   "metadata": {
    "collapsed": false
   },
   "outputs": [],
   "source": [
    "df4=train.copy()\n",
    "train=df4.copy()\n",
    "f4=test.copy()\n",
    "test=f4.copy()"
   ]
  },
  {
   "cell_type": "code",
   "execution_count": 60,
   "metadata": {
    "collapsed": false
   },
   "outputs": [],
   "source": [
    "train=train.drop(['passenger_count_2'],axis=1)\n",
    "test=test.drop(['passenger_count_2'],axis=1)"
   ]
  },
  {
   "cell_type": "code",
   "execution_count": 0,
   "metadata": {
    "collapsed": false
   },
   "outputs": [],
   "source": [
    "#Splitting train into train and validation subsets\n",
    "X_train y_train--are train subset\n",
    "X_test y_test--are validation subset"
   ]
  },
  {
   "cell_type": "code",
   "execution_count": 61,
   "metadata": {
    "collapsed": false
   },
   "outputs": [
    {
     "name": "stdout",
     "output_type": "stream",
     "text": [
      "(15444, 20) (11583, 19) (3861, 19) (11583,) (3861,)\n"
     ]
    }
   ],
   "source": [
    "X = train.drop('fare_amount',axis=1).values\n",
    "y = train['fare_amount'].values\n",
    "X_train, X_test, y_train, y_test = train_test_split(X, y, test_size = 0.25, random_state=42)\n",
    "print(train.shape, X_train.shape, X_test.shape,y_train.shape,y_test.shape)"
   ]
  },
  {
   "cell_type": "code",
   "execution_count": 62,
   "metadata": {
    "collapsed": false
   },
   "outputs": [],
   "source": [
    "def rmsle(y,y_):\n",
    "    log1 = np.nan_to_num(np.array([np.log(v + 1) for v in y]))\n",
    "    log2 = np.nan_to_num(np.array([np.log(v + 1) for v in y_]))\n",
    "    calc = (log1 - log2) ** 2\n",
    "    return np.sqrt(np.mean(calc))\n",
    "def scores(y, y_):\n",
    "    print('r square  ', metrics.r2_score(y, y_))\n",
    "    print('Adjusted r square:{}'.format(1 - (1-metrics.r2_score(y, y_))*(len(y)-1)/(len(y)-X_train.shape[1]-1)))\n",
    "    print('MAPE:{}'.format(np.mean(np.abs((y - y_) / y))*100))\n",
    "    print('MSE:', metrics.mean_squared_error(y, y_))\n",
    "    print('RMSE:', np.sqrt(metrics.mean_squared_error(y, y_))) \n",
    "def test_scores(model):\n",
    "    print('<<<------------------- Training Data Score --------------------->')\n",
    "    print()\n",
    "    #Predicting result on Training data\n",
    "    y_pred = model.predict(X_train)\n",
    "    scores(y_train,y_pred)\n",
    "    print('RMSLE:',rmsle(y_train,y_pred))\n",
    "    print()\n",
    "    print('<<<------------------- Test Data Score --------------------->')\n",
    "    print()\n",
    "    # Evaluating on Test Set\n",
    "    y_pred = model.predict(X_test)\n",
    "    scores(y_test,y_pred)\n",
    "    print('RMSLE:',rmsle(y_test,y_pred))"
   ]
  },
  {
   "cell_type": "code",
   "execution_count": 0,
   "metadata": {
    "collapsed": false
   },
   "outputs": [],
   "source": [
    "#Multiple Linear Regression"
   ]
  },
  {
   "cell_type": "code",
   "execution_count": 64,
   "metadata": {
    "collapsed": false
   },
   "outputs": [
    {
     "name": "stdout",
     "output_type": "stream",
     "text": [
      "Tuned Decision reg Parameters: {'copy_X': True, 'fit_intercept': True}\n",
      "Best score is 0.42484893836110715\n"
     ]
    }
   ],
   "source": [
    "# Setup the parameters and distributions to sample from: param_dist\n",
    "param_dist = {'copy_X':[True, False],\n",
    "          'fit_intercept':[True,False]}\n",
    "# Instantiate a Decision reg classifier: reg\n",
    "reg = LinearRegression()\n",
    "\n",
    "# Instantiate the gridSearchCV object: reg_cv\n",
    "reg_cv = GridSearchCV(reg, param_dist, cv=5,scoring='r2')\n",
    "\n",
    "# Fit it to the data\n",
    "reg_cv.fit(X, y)\n",
    "\n",
    "# Print the tuned parameters and score\n",
    "print(\"Tuned Decision reg Parameters: {}\".format(reg_cv.best_params_))\n",
    "print(\"Best score is {}\".format(reg_cv.best_score_))"
   ]
  },
  {
   "cell_type": "code",
   "execution_count": 65,
   "metadata": {
    "collapsed": false
   },
   "outputs": [
    {
     "name": "stdout",
     "output_type": "stream",
     "text": [
      "R^2: 0.43325042419225956\n",
      "Root Mean Squared Error: 2.979552366547074\n",
      "<<<------------------- Training Data Score --------------------->\n",
      "\n",
      "r square   0.42328875587041104\n",
      "Adjusted r square:0.42234111999404134\n",
      "MAPE:24.53183882065928\n",
      "MSE: 9.032344401295232\n",
      "RMSE: 3.005385898898049\n"
     ]
    },
    {
     "name": "stdout",
     "output_type": "stream",
     "text": [
      "RMSLE: 0.27184025443669585\n",
      "\n",
      "<<<------------------- Test Data Score --------------------->\n",
      "\n",
      "r square   0.43325042419225956\n",
      "Adjusted r square:0.43044692459831346\n",
      "MAPE:24.40522544383061\n",
      "MSE: 8.87773230499627\n",
      "RMSE: 2.979552366547074\n",
      "RMSLE: 0.27099311973776447\n",
      "[ 2.18568400e-01  4.66174676e-01 -3.60660764e-02  8.82251378e-02\n",
      " -2.61941681e-01 -4.86456979e-01 -3.62471388e-01 -2.52327244e-01\n",
      " -3.29969844e-01 -4.47079642e-01 -1.67280648e-02 -4.65889570e-01\n",
      " -1.40568282e-01 -8.88375107e-03  2.64389531e-01  1.00963660e+00\n",
      "  1.12096415e+00  1.42837386e+00  1.16063781e+01]\n"
     ]
    },
    {
     "data": {
      "image/png": "[encoded data removed]",
      "text/plain": [
       "<Figure size 1080x360 with 1 Axes>"
      ]
     },
     "execution_count": 65,
     "metadata": {
      "image/png": {
       "height": 383.0,
       "width": 872.0
      }
     },
     "output_type": "execute_result"
    }
   ],
   "source": [
    "# Create the regressor: reg_all\n",
    "reg_all = LinearRegression(copy_X= True, fit_intercept=True)\n",
    "\n",
    "# Fit the regressor to the training data\n",
    "reg_all.fit(X_train,y_train)\n",
    "\n",
    "# Predict on the test data: y_pred\n",
    "y_pred = reg_all.predict(X_test)\n",
    "\n",
    "# Compute and print R^2 and RMSE\n",
    "print(\"R^2: {}\".format(reg_all.score(X_test, y_test)))\n",
    "rmse = np.sqrt(mean_squared_error(y_test,y_pred))\n",
    "print(\"Root Mean Squared Error: {}\".format(rmse))\n",
    "test_scores(reg_all)\n",
    "\n",
    "# Compute and print the coefficients\n",
    "reg_coef = reg_all.coef_\n",
    "print(reg_coef)\n",
    "\n",
    "# Plot the coefficients\n",
    "plt.figure(figsize=(15,5))\n",
    "plt.plot(range(len(test.columns)), reg_coef)\n",
    "plt.xticks(range(len(test.columns)), test.columns.values, rotation=60)\n",
    "plt.margins(0.02)\n",
    "plt.savefig('linear coefficients')\n",
    "plt.show()"
   ]
  },
  {
   "cell_type": "code",
   "execution_count": 66,
   "metadata": {
    "collapsed": false
   },
   "outputs": [
    {
     "name": "stdout",
     "output_type": "stream",
     "text": [
      "[ -8.96296363  -8.07945839  -8.89175103 -10.14501476  -8.99027789]\n",
      "Average 5-Fold CV Score: -9.013893139277483\n"
     ]
    }
   ],
   "source": [
    "from sklearn.model_selection import cross_val_score\n",
    "# Create a linear regression object: reg\n",
    "reg = LinearRegression()\n",
    "\n",
    "# Compute 5-fold cross-validation scores: cv_scores\n",
    "cv_scores = cross_val_score(reg,X,y,cv=5,scoring='neg_mean_squared_error')\n",
    "\n",
    "# Print the 5-fold cross-validation scores\n",
    "print(cv_scores)\n",
    "\n",
    "print(\"Average 5-Fold CV Score: {}\".format(np.mean(cv_scores)))"
   ]
  },
  {
   "cell_type": "code",
   "execution_count": 0,
   "metadata": {
    "collapsed": false
   },
   "outputs": [],
   "source": [
    "#Ridge Regression"
   ]
  },
  {
   "cell_type": "code",
   "execution_count": 67,
   "metadata": {
    "collapsed": false
   },
   "outputs": [
    {
     "name": "stdout",
     "output_type": "stream",
     "text": [
      "Tuned Decision ridge Parameters: {'alpha': 0.0024420530945486497, 'max_iter': 500, 'normalize': True}\n",
      "Best score is 0.4248516397104168\n"
     ]
    }
   ],
   "source": [
    "# Setup the parameters and distributions to sample from: param_dist\n",
    "param_dist = {'alpha':np.logspace(-4, 0, 50),\n",
    "          'normalize':[True,False],\n",
    "             'max_iter':range(500,5000,500)}\n",
    "# Instantiate a Decision ridge classifier: ridge\n",
    "ridge = Ridge()\n",
    "\n",
    "# Instantiate the gridSearchCV object: ridge_cv\n",
    "ridge_cv = GridSearchCV(ridge, param_dist, cv=5,scoring='r2')\n",
    "\n",
    "# Fit it to the data\n",
    "ridge_cv.fit(X, y)\n",
    "\n",
    "# Print the tuned parameters and score\n",
    "print(\"Tuned Decision ridge Parameters: {}\".format(ridge_cv.best_params_))\n",
    "print(\"Best score is {}\".format(ridge_cv.best_score_))"
   ]
  },
  {
   "cell_type": "code",
   "execution_count": 0,
   "metadata": {
    "collapsed": false
   },
   "outputs": [],
   "source": [
    "# Instantiate a ridge regressor: ridge\n",
    "ridge = Ridge(alpha=0.0005428675439323859, normalize=True,max_iter = 500)\n",
    "\n",
    "# Fit the regressor to the data\n",
    "ridge.fit(X_train,y_train)\n",
    "\n",
    "# Compute and print the coefficients\n",
    "ridge_coef = ridge.coef_\n",
    "print(ridge_coef)\n",
    "\n",
    "# Plot the coefficients\n",
    "plt.figure(figsize=(15,5))\n",
    "plt.plot(range(len(test.columns)), ridge_coef)\n",
    "plt.xticks(range(len(test.columns)), test.columns.values, rotation=60)\n",
    "plt.margins(0.02)\n",
    "# plt.savefig('ridge coefficients')\n",
    "plt.show()\n",
    "test_scores(ridge)"
   ]
  },
  {
   "cell_type": "code",
   "execution_count": 0,
   "metadata": {
    "collapsed": false
   },
   "outputs": [],
   "source": [
    "#Lasso Regression"
   ]
  },
  {
   "cell_type": "code",
   "execution_count": 0,
   "metadata": {
    "collapsed": false
   },
   "outputs": [],
   "source": [
    "# Setup the parameters and distributions to sample from: param_dist\n",
    "param_dist = {'alpha':np.logspace(-4, 0, 50),\n",
    "          'normalize':[True,False],\n",
    "             'max_iter':range(500,5000,500)}\n",
    "# Instantiate a Decision lasso classifier: lasso\n",
    "lasso = Lasso()\n",
    "\n",
    "# Instantiate the gridSearchCV object: lasso_cv\n",
    "lasso_cv = GridSearchCV(lasso, param_dist, cv=5,scoring='r2')\n",
    "\n",
    "# Fit it to the data\n",
    "lasso_cv.fit(X, y)\n",
    "\n",
    "# Print the tuned parameters and score\n",
    "print(\"Tuned Decision lasso Parameters: {}\".format(lasso_cv.best_params_))\n",
    "print(\"Best score is {}\".format(lasso_cv.best_score_))"
   ]
  },
  {
   "cell_type": "code",
   "execution_count": 0,
   "metadata": {
    "collapsed": false
   },
   "outputs": [],
   "source": [
    "# Instantiate a lasso regressor: lasso\n",
    "lasso = Lasso(alpha=0.00021209508879201905, normalize=False,max_iter = 500)\n",
    "\n",
    "# Fit the regressor to the data\n",
    "lasso.fit(X,y)\n",
    "\n",
    "# Compute and print the coefficients\n",
    "lasso_coef = lasso.coef_\n",
    "print(lasso_coef)\n",
    "\n",
    "# Plot the coefficients\n",
    "plt.figure(figsize=(15,5))\n",
    "plt.ylim(-1,10)\n",
    "plt.plot(range(len(test.columns)), lasso_coef)\n",
    "plt.xticks(range(len(test.columns)), test.columns.values, rotation=60)\n",
    "plt.margins(0.02)\n",
    "plt.savefig('lasso coefficients')\n",
    "plt.show()\n",
    "test_scores(lasso)"
   ]
  },
  {
   "cell_type": "code",
   "execution_count": 0,
   "metadata": {
    "collapsed": false
   },
   "outputs": [],
   "source": [
    "# Decision Tree Regression"
   ]
  },
  {
   "cell_type": "code",
   "execution_count": 0,
   "metadata": {
    "collapsed": false
   },
   "outputs": [],
   "source": [
    "train.info()"
   ]
  },
  {
   "cell_type": "code",
   "execution_count": 0,
   "metadata": {
    "collapsed": false
   },
   "outputs": [],
   "source": [
    "# Setup the parameters and distributions to sample from: param_dist\n",
    "param_dist = {'max_depth': range(2,16,2),\n",
    "              'min_samples_split': range(2,16,2)}\n",
    "\n",
    "# Instantiate a Decision Tree classifier: tree\n",
    "tree = DecisionTreeRegressor()\n",
    "\n",
    "# Instantiate the gridSearchCV object: tree_cv\n",
    "tree_cv = GridSearchCV(tree, param_dist, cv=5)\n",
    "\n",
    "# Fit it to the data\n",
    "tree_cv.fit(X, y)\n",
    "\n",
    "# Print the tuned parameters and score\n",
    "print(\"Tuned Decision Tree Parameters: {}\".format(tree_cv.best_params_))\n",
    "print(\"Best score is {}\".format(tree_cv.best_score_))"
   ]
  },
  {
   "cell_type": "code",
   "execution_count": 0,
   "metadata": {
    "collapsed": false
   },
   "outputs": [],
   "source": [
    "# Instantiate a tree regressor: tree\n",
    "tree = DecisionTreeRegressor(max_depth= 6, min_samples_split=2)\n",
    "\n",
    "# Fit the regressor to the data\n",
    "tree.fit(X_train,y_train)\n",
    "\n",
    "# Compute and print the coefficients\n",
    "tree_features = tree.feature_importances_\n",
    "print(tree_features)\n",
    "\n",
    "# Sort test importances in descending order\n",
    "indices = np.argsort(tree_features)[::1]\n",
    "\n",
    "# Rearrange test names so they match the sorted test importances\n",
    "names = [test.columns[i] for i in indices]\n",
    "\n",
    "# Creating plot\n",
    "fig = plt.figure(figsize=(20,10))\n",
    "plt.title(\"test Importance\")\n",
    "\n",
    "# Add horizontal bars\n",
    "plt.barh(range(pd.DataFrame(X_train).shape[1]),tree_features[indices],align = 'center')\n",
    "plt.yticks(range(pd.DataFrame(X_train).shape[1]), names)\n",
    "plt.savefig('tree test importance')\n",
    "plt.show()\n",
    "# Make predictions and cal error\n",
    "test_scores(tree)"
   ]
  },
  {
   "cell_type": "code",
   "execution_count": 0,
   "metadata": {
    "collapsed": false
   },
   "outputs": [],
   "source": [
    "# Random Forest Regression"
   ]
  },
  {
   "cell_type": "code",
   "execution_count": 0,
   "metadata": {
    "collapsed": false
   },
   "outputs": [],
   "source": [
    "# Create the random grid\n",
    "random_grid = {'n_estimators': range(100,500,100),\n",
    "               'max_depth': range(5,20,1),\n",
    "               'min_samples_leaf':range(2,5,1),\n",
    "              'max_features':['auto','sqrt','log2'],\n",
    "              'bootstrap': [True, False],\n",
    "              'min_samples_split': range(2,5,1)}\n",
    "# Instantiate a Decision Forest classifier: Forest\n",
    "Forest = RandomForestRegressor()\n",
    "\n",
    "# Instantiate the gridSearchCV object: Forest_cv\n",
    "Forest_cv = RandomizedSearchCV(Forest, random_grid, cv=5)\n",
    "\n",
    "# Fit it to the data\n",
    "Forest_cv.fit(X, y)\n",
    "\n",
    "# Print the tuned parameters and score\n",
    "print(\"Tuned Random Forest Parameters: {}\".format(Forest_cv.best_params_))\n",
    "print(\"Best score is {}\".format(Forest_cv.best_score_))"
   ]
  },
  {
   "cell_type": "code",
   "execution_count": 0,
   "metadata": {
    "collapsed": false
   },
   "outputs": [],
   "source": [
    "# Instantiate a Forest regressor: Forest\n",
    "Forest = RandomForestRegressor(n_estimators=100, min_samples_split= 2, min_samples_leaf=4, max_features='auto', max_depth=9, bootstrap=True)\n",
    "\n",
    "# Fit the regressor to the data\n",
    "Forest.fit(X_train,y_train)\n",
    "\n",
    "# Compute and print the coefficients\n",
    "Forest_features = Forest.feature_importances_\n",
    "print(Forest_features)\n",
    "\n",
    "# Sort feature importances in descending order\n",
    "indices = np.argsort(Forest_features)[::1]\n",
    "\n",
    "# Rearrange feature names so they match the sorted feature importances\n",
    "names = [test.columns[i] for i in indices]\n",
    "\n",
    "# Creating plot\n",
    "fig = plt.figure(figsize=(20,10))\n",
    "plt.title(\"Feature Importance\")\n",
    "\n",
    "# Add horizontal bars\n",
    "plt.barh(range(pd.DataFrame(X_train).shape[1]),Forest_features[indices],align = 'center')\n",
    "plt.yticks(range(pd.DataFrame(X_train).shape[1]), names)\n",
    "plt.savefig('Random forest feature importance')\n",
    "plt.show()# Make predictions\n",
    "test_scores(Forest)"
   ]
  },
  {
   "cell_type": "code",
   "execution_count": 0,
   "metadata": {
    "collapsed": false
   },
   "outputs": [],
   "source": [
    "from sklearn.model_selection import cross_val_score\n",
    "# Create a random forest regression object: Forest\n",
    "Forest = RandomForestRegressor(n_estimators=400, min_samples_split= 2, min_samples_leaf=4, max_features='auto', max_depth=12, bootstrap=True)\n",
    "\n",
    "# Compute 5-fold cross-validation scores: cv_scores\n",
    "cv_scores = cross_val_score(Forest,X,y,cv=5,scoring='neg_mean_squared_error')\n",
    "\n",
    "# Print the 5-fold cross-validation scores\n",
    "print(cv_scores)\n",
    "\n",
    "print(\"Average 5-Fold CV Score: {}\".format(np.mean(cv_scores)))"
   ]
  },
  {
   "cell_type": "code",
   "execution_count": 0,
   "metadata": {
    "collapsed": false
   },
   "outputs": [],
   "source": [
    "## Improving accuracy using XGBOOST\n",
    "- Improve Accuracy a) Algorithm Tuning b) Ensembles"
   ]
  },
  {
   "cell_type": "code",
   "execution_count": 0,
   "metadata": {
    "collapsed": false
   },
   "outputs": [],
   "source": [
    "data_dmatrix = xgb.DMatrix(data=X,label=y)\n",
    "dtrain = xgb.DMatrix(X_train, label=y_train)\n",
    "dtest = xgb.DMatrix(X_test)"
   ]
  },
  {
   "cell_type": "code",
   "execution_count": 0,
   "metadata": {
    "collapsed": false
   },
   "outputs": [],
   "source": [
    "dtrain,dtest,data_dmatrix"
   ]
  },
  {
   "cell_type": "code",
   "execution_count": 0,
   "metadata": {
    "collapsed": false
   },
   "outputs": [],
   "source": [
    "params = {\"objective\":\"reg:linear\",'colsample_bytree': 0.3,'learning_rate': 0.1,\n",
    "                'max_depth': 5, 'alpha': 10}\n",
    "\n",
    "cv_results = xgb.cv(dtrain=data_dmatrix, params=params, nfold=5,\n",
    "                    num_boost_round=50,early_stopping_rounds=10,metrics=\"rmse\", as_pandas=True, seed=123)\n",
    "cv_results.head()"
   ]
  },
  {
   "cell_type": "code",
   "execution_count": 0,
   "metadata": {
    "collapsed": false
   },
   "outputs": [],
   "source": [
    "# the final boosting round metric\n",
    "print((cv_results[\"test-rmse-mean\"]).tail(1))"
   ]
  },
  {
   "cell_type": "code",
   "execution_count": 0,
   "metadata": {
    "collapsed": false
   },
   "outputs": [],
   "source": [
    "Xgb = XGBRegressor()\n",
    "Xgb.fit(X_train,y_train)\n",
    "# pred_xgb = model_xgb.predict(X_test)\n",
    "test_scores(Xgb)"
   ]
  },
  {
   "cell_type": "code",
   "execution_count": 0,
   "metadata": {
    "collapsed": false
   },
   "outputs": [],
   "source": [
    "# Create the random grid\n",
    "para = {'n_estimators': range(100,500,100),\n",
    "               'max_depth': range(3,10,1),\n",
    "        'reg_alpha':np.logspace(-4, 0, 50),\n",
    "        'subsample': np.arange(0.1,1,0.2),\n",
    "        'colsample_bytree': np.arange(0.1,1,0.2),\n",
    "        'colsample_bylevel': np.arange(0.1,1,0.2),\n",
    "        'colsample_bynode': np.arange(0.1,1,0.2),\n",
    "       'learning_rate': np.arange(.05, 1, .05)}\n",
    "# Instantiate a Decision Forest classifier: Forest\n",
    "Xgb = XGBRegressor()\n",
    "\n",
    "# Instantiate the gridSearchCV object: Forest_cv\n",
    "xgb_cv = RandomizedSearchCV(Xgb, para, cv=5)\n",
    "\n",
    "# Fit it to the data\n",
    "xgb_cv.fit(X, y)\n",
    "\n",
    "# Print the tuned parameters and score\n",
    "print(\"Tuned Xgboost Parameters: {}\".format(xgb_cv.best_params_))\n",
    "print(\"Best score is {}\".format(xgb_cv.best_score_))"
   ]
  },
  {
   "cell_type": "code",
   "execution_count": 0,
   "metadata": {
    "collapsed": false
   },
   "outputs": [],
   "source": [
    "# Instantiate a xgb regressor: xgb\n",
    "Xgb = XGBRegressor(subsample= 0.1, reg_alpha= 0.08685113737513521, n_estimators= 200, max_depth= 3, learning_rate=0.05, colsample_bytree= 0.7000000000000001, colsample_bynode=0.7000000000000001, colsample_bylevel=0.9000000000000001)\n",
    "\n",
    "# Fit the regressor to the data\n",
    "Xgb.fit(X_train,y_train)\n",
    "\n",
    "# Compute and print the coefficients\n",
    "xgb_features = Xgb.feature_importances_\n",
    "print(xgb_features)\n",
    "\n",
    "# Sort feature importances in descending order\n",
    "indices = np.argsort(xgb_features)[::1]\n",
    "\n",
    "# Rearrange feature names so they match the sorted feature importances\n",
    "names = [test.columns[i] for i in indices]\n",
    "\n",
    "# Creating plot\n",
    "fig = plt.figure(figsize=(20,10))\n",
    "plt.title(\"Feature Importance\")\n",
    "\n",
    "# Add horizontal bars\n",
    "plt.barh(range(pd.DataFrame(X_train).shape[1]),xgb_features[indices],align = 'center')\n",
    "plt.yticks(range(pd.DataFrame(X_train).shape[1]), names)\n",
    "plt.savefig(' xgb feature importance')\n",
    "plt.show()# Make predictions\n",
    "test_scores(Xgb)"
   ]
  },
  {
   "cell_type": "code",
   "execution_count": 0,
   "metadata": {
    "collapsed": false
   },
   "outputs": [],
   "source": [
    "#Finalize model\n",
    "Create standalone model on entire training dataset\n",
    "Save model for later use"
   ]
  },
  {
   "cell_type": "code",
   "execution_count": 0,
   "metadata": {
    "collapsed": false
   },
   "outputs": [],
   "source": [
    "def rmsle(y,y_):\n",
    "    log1 = np.nan_to_num(np.array([np.log(v + 1) for v in y]))\n",
    "    log2 = np.nan_to_num(np.array([np.log(v + 1) for v in y_]))\n",
    "    calc = (log1 - log2) ** 2\n",
    "    return np.sqrt(np.mean(calc))\n",
    "def score(y, y_):\n",
    "    print('r square  ', metrics.r2_score(y, y_))\n",
    "    print('Adjusted r square:{}'.format(1 - (1-metrics.r2_score(y, y_))*(len(y)-1)/(len(y)-X_train.shape[1]-1)))\n",
    "    print('MAPE:{}'.format(np.mean(np.abs((y - y_) / y))*100))\n",
    "    print('MSE:', metrics.mean_squared_error(y, y_))\n",
    "    print('RMSE:', np.sqrt(metrics.mean_squared_error(y, y_)))\n",
    "    print('RMSLE:',rmsle(y_test,y_pred))\n",
    "def scores(model):\n",
    "    print('<<<------------------- Training Data Score --------------------->')\n",
    "    print()\n",
    "    #Predicting result on Training data\n",
    "    y_pred = model.predict(X)\n",
    "    score(y,y_pred)\n",
    "    print('RMSLE:',rmsle(y,y_pred))   "
   ]
  },
  {
   "cell_type": "code",
   "execution_count": 0,
   "metadata": {
    "collapsed": false
   },
   "outputs": [],
   "source": [
    "test.columns"
   ]
  },
  {
   "cell_type": "code",
   "execution_count": 0,
   "metadata": {
    "collapsed": false
   },
   "outputs": [],
   "source": [
    "train.columns"
   ]
  },
  {
   "cell_type": "code",
   "execution_count": 0,
   "metadata": {
    "collapsed": false
   },
   "outputs": [],
   "source": [
    "a=pd.read_csv('test.csv')"
   ]
  },
  {
   "cell_type": "code",
   "execution_count": 0,
   "metadata": {
    "collapsed": false
   },
   "outputs": [],
   "source": [
    "test_pickup_datetime=a['pickup_datetime']"
   ]
  },
  {
   "cell_type": "code",
   "execution_count": 0,
   "metadata": {
    "collapsed": false
   },
   "outputs": [],
   "source": [
    "# Instantiate a xgb regressor: xgb\n",
    "Xgb = XGBRegressor(subsample= 0.1, reg_alpha= 0.08685113737513521, n_estimators= 200, max_depth= 3, learning_rate=0.05, colsample_bytree= 0.7000000000000001, colsample_bynode=0.7000000000000001, colsample_bylevel=0.9000000000000001)\n",
    "\n",
    "# Fit the regressor to the data\n",
    "Xgb.fit(X,y)\n",
    "\n",
    "# Compute and print the coefficients\n",
    "xgb_features = Xgb.feature_importances_\n",
    "print(xgb_features)\n",
    "\n",
    "# Sort feature importances in descending order\n",
    "indices = np.argsort(xgb_features)[::1]\n",
    "\n",
    "# Rearrange feature names so they match the sorted feature importances\n",
    "names = [test.columns[i] for i in indices]\n",
    "\n",
    "# Creating plot\n",
    "fig = plt.figure(figsize=(20,10))\n",
    "plt.title(\"Feature Importance\")\n",
    "\n",
    "# Add horizontal bars\n",
    "plt.barh(range(pd.DataFrame(X_train).shape[1]),xgb_features[indices],align = 'center')\n",
    "plt.yticks(range(pd.DataFrame(X_train).shape[1]), names)\n",
    "plt.savefig(' xgb1 feature importance')\n",
    "plt.show()\n",
    "scores(Xgb)\n",
    "\n",
    "# Predictions\n",
    "pred = Xgb.predict(test.values)\n",
    "pred_results_wrt_date = pd.DataFrame({\"pickup_datetime\":test_pickup_datetime,\"fare_amount\" : pred})\n",
    "pred_results_wrt_date.to_csv(\"predictions_xgboost.csv\",index=False)"
   ]
  },
  {
   "cell_type": "code",
   "execution_count": 0,
   "metadata": {
    "collapsed": false
   },
   "outputs": [],
   "source": [
    "pred_results_wrt_date"
   ]
  },
  {
   "cell_type": "code",
   "execution_count": 0,
   "metadata": {
    "collapsed": false
   },
   "outputs": [],
   "source": [
    "# Save the model as a pickle in a file \n",
    "joblib.dump(Xgb, 'cab_fare_xgboost_model.pkl') \n",
    "  \n",
    "# # Load the model from the file \n",
    "# Xgb_from_joblib = joblib.load('cab_fare_xgboost_model.pkl')  "
   ]
  }
 ],
 "metadata": {
  "kernelspec": {
   "display_name": "Python 3 (system-wide)",
   "language": "python",
   "metadata": {
    "cocalc": {
     "description": "Python 3 programming language",
     "priority": 100.0,
     "url": "https://www.python.org/"
    }
   },
   "name": "python3"
  },
  "language_info": {
   "codemirror_mode": {
    "name": "ipython",
    "version": 3
   },
   "file_extension": ".py",
   "mimetype": "text/x-python",
   "name": "python",
   "nbconvert_exporter": "python",
   "pygments_lexer": "ipython3",
   "version": "3.6.8"
  }
 },
 "nbformat": 4,
 "nbformat_minor": 0
}
